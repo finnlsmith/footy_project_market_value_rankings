{
 "cells": [
  {
   "cell_type": "code",
   "execution_count": 2,
   "metadata": {},
   "outputs": [],
   "source": [
    "import csv\n",
    "import pandas as pd\n",
    "import re\n",
    "import requests\n",
    "import os\n",
    "from unidecode import unidecode\n",
    "from datetime import datetime\n"
   ]
  },
  {
   "cell_type": "markdown",
   "metadata": {},
   "source": [
    "## FIRST FI"
   ]
  },
  {
   "cell_type": "code",
   "execution_count": 34,
   "metadata": {},
   "outputs": [],
   "source": [
    "big_values = pd.read_csv(\"transfermarkt_league_data_checking.csv\")"
   ]
  },
  {
   "cell_type": "code",
   "execution_count": 35,
   "metadata": {},
   "outputs": [],
   "source": [
    "big_values_new_noPor = big_values[big_values['Team'] != 'Nacional']"
   ]
  },
  {
   "cell_type": "code",
   "execution_count": 36,
   "metadata": {},
   "outputs": [],
   "source": [
    "portugal_only = pd.read_csv(\"LIGAPORTUGAL_transfermarkt_league_data_checking.csv\")"
   ]
  },
  {
   "cell_type": "code",
   "execution_count": 37,
   "metadata": {},
   "outputs": [],
   "source": [
    "nacional_only = portugal_only[portugal_only['Team'] == 'Nacional']"
   ]
  },
  {
   "cell_type": "code",
   "execution_count": 38,
   "metadata": {},
   "outputs": [],
   "source": [
    "big_values_new = pd.concat([big_values_new_noPor, nacional_only], ignore_index=True)"
   ]
  },
  {
   "cell_type": "code",
   "execution_count": 42,
   "metadata": {},
   "outputs": [
    {
     "data": {
      "text/html": [
       "<div>\n",
       "<style scoped>\n",
       "    .dataframe tbody tr th:only-of-type {\n",
       "        vertical-align: middle;\n",
       "    }\n",
       "\n",
       "    .dataframe tbody tr th {\n",
       "        vertical-align: top;\n",
       "    }\n",
       "\n",
       "    .dataframe thead th {\n",
       "        text-align: right;\n",
       "    }\n",
       "</style>\n",
       "<table border=\"1\" class=\"dataframe\">\n",
       "  <thead>\n",
       "    <tr style=\"text-align: right;\">\n",
       "      <th></th>\n",
       "      <th>Name</th>\n",
       "      <th>Age (that year)</th>\n",
       "      <th>Nationality</th>\n",
       "      <th>Position</th>\n",
       "      <th>Market Value</th>\n",
       "      <th>Season</th>\n",
       "      <th>League</th>\n",
       "      <th>Team</th>\n",
       "    </tr>\n",
       "  </thead>\n",
       "  <tbody>\n",
       "    <tr>\n",
       "      <th>0</th>\n",
       "      <td>Joe Hart</td>\n",
       "      <td>Apr 19, 1987 (27)</td>\n",
       "      <td>England</td>\n",
       "      <td>Goalkeeper</td>\n",
       "      <td>€16.00m</td>\n",
       "      <td>2013</td>\n",
       "      <td>EPL</td>\n",
       "      <td>Manchester City</td>\n",
       "    </tr>\n",
       "    <tr>\n",
       "      <th>1</th>\n",
       "      <td>Costel Pantilimon</td>\n",
       "      <td>Feb 1, 1987 (27)</td>\n",
       "      <td>Romania</td>\n",
       "      <td>Goalkeeper</td>\n",
       "      <td>€2.50m</td>\n",
       "      <td>2013</td>\n",
       "      <td>EPL</td>\n",
       "      <td>Manchester City</td>\n",
       "    </tr>\n",
       "    <tr>\n",
       "      <th>2</th>\n",
       "      <td>Richard Wright</td>\n",
       "      <td>Nov 5, 1977 (36)</td>\n",
       "      <td>England</td>\n",
       "      <td>Goalkeeper</td>\n",
       "      <td>€250k</td>\n",
       "      <td>2013</td>\n",
       "      <td>EPL</td>\n",
       "      <td>Manchester City</td>\n",
       "    </tr>\n",
       "    <tr>\n",
       "      <th>3</th>\n",
       "      <td>Vincent Kompany</td>\n",
       "      <td>Apr 10, 1986 (28)</td>\n",
       "      <td>Belgium\"</td>\n",
       "      <td>Centre-Back</td>\n",
       "      <td>€35.00m</td>\n",
       "      <td>2013</td>\n",
       "      <td>EPL</td>\n",
       "      <td>Manchester City</td>\n",
       "    </tr>\n",
       "    <tr>\n",
       "      <th>4</th>\n",
       "      <td>Matija Nastasic</td>\n",
       "      <td>Mar 28, 1993 (21)</td>\n",
       "      <td>Serbia</td>\n",
       "      <td>Centre-Back</td>\n",
       "      <td>€21.00m</td>\n",
       "      <td>2013</td>\n",
       "      <td>EPL</td>\n",
       "      <td>Manchester City</td>\n",
       "    </tr>\n",
       "    <tr>\n",
       "      <th>...</th>\n",
       "      <td>...</td>\n",
       "      <td>...</td>\n",
       "      <td>...</td>\n",
       "      <td>...</td>\n",
       "      <td>...</td>\n",
       "      <td>...</td>\n",
       "      <td>...</td>\n",
       "      <td>...</td>\n",
       "    </tr>\n",
       "    <tr>\n",
       "      <th>61129</th>\n",
       "      <td>Brayan Riascos</td>\n",
       "      <td>Oct 10, 1994 (26)</td>\n",
       "      <td>Colombia</td>\n",
       "      <td>Centre-Forward</td>\n",
       "      <td>€1.00m</td>\n",
       "      <td>2020</td>\n",
       "      <td>Portuguese First Division</td>\n",
       "      <td>Nacional</td>\n",
       "    </tr>\n",
       "    <tr>\n",
       "      <th>61130</th>\n",
       "      <td>Bryan Róchez</td>\n",
       "      <td>Jan 1, 1995 (26)</td>\n",
       "      <td>Honduras</td>\n",
       "      <td>Centre-Forward</td>\n",
       "      <td>€600k</td>\n",
       "      <td>2020</td>\n",
       "      <td>Portuguese First Division</td>\n",
       "      <td>Nacional</td>\n",
       "    </tr>\n",
       "    <tr>\n",
       "      <th>61131</th>\n",
       "      <td>Pedro Mendes</td>\n",
       "      <td>Aug 1, 1999 (21)</td>\n",
       "      <td>Portugal</td>\n",
       "      <td>Centre-Forward</td>\n",
       "      <td>€500k</td>\n",
       "      <td>2020</td>\n",
       "      <td>Portuguese First Division</td>\n",
       "      <td>Nacional</td>\n",
       "    </tr>\n",
       "    <tr>\n",
       "      <th>61132</th>\n",
       "      <td>Gergely Bobál</td>\n",
       "      <td>Aug 31, 1995 (25)</td>\n",
       "      <td>Hungary</td>\n",
       "      <td>Centre-Forward</td>\n",
       "      <td>€200k</td>\n",
       "      <td>2020</td>\n",
       "      <td>Portuguese First Division</td>\n",
       "      <td>Nacional</td>\n",
       "    </tr>\n",
       "    <tr>\n",
       "      <th>61133</th>\n",
       "      <td>Dudu Teodora</td>\n",
       "      <td>Aug 10, 1999 (21)</td>\n",
       "      <td>Brazil</td>\n",
       "      <td>Centre-Forward</td>\n",
       "      <td>€200k</td>\n",
       "      <td>2020</td>\n",
       "      <td>Portuguese First Division</td>\n",
       "      <td>Nacional</td>\n",
       "    </tr>\n",
       "  </tbody>\n",
       "</table>\n",
       "<p>61134 rows × 8 columns</p>\n",
       "</div>"
      ],
      "text/plain": [
       "                    Name    Age (that year) Nationality        Position  \\\n",
       "0               Joe Hart  Apr 19, 1987 (27)     England      Goalkeeper   \n",
       "1      Costel Pantilimon   Feb 1, 1987 (27)     Romania      Goalkeeper   \n",
       "2         Richard Wright   Nov 5, 1977 (36)     England      Goalkeeper   \n",
       "3        Vincent Kompany  Apr 10, 1986 (28)    Belgium\"     Centre-Back   \n",
       "4        Matija Nastasic  Mar 28, 1993 (21)      Serbia     Centre-Back   \n",
       "...                  ...                ...         ...             ...   \n",
       "61129     Brayan Riascos  Oct 10, 1994 (26)    Colombia  Centre-Forward   \n",
       "61130       Bryan Róchez   Jan 1, 1995 (26)    Honduras  Centre-Forward   \n",
       "61131       Pedro Mendes   Aug 1, 1999 (21)    Portugal  Centre-Forward   \n",
       "61132      Gergely Bobál  Aug 31, 1995 (25)     Hungary  Centre-Forward   \n",
       "61133       Dudu Teodora  Aug 10, 1999 (21)      Brazil  Centre-Forward   \n",
       "\n",
       "      Market Value  Season                     League             Team  \n",
       "0          €16.00m    2013                        EPL  Manchester City  \n",
       "1           €2.50m    2013                        EPL  Manchester City  \n",
       "2            €250k    2013                        EPL  Manchester City  \n",
       "3          €35.00m    2013                        EPL  Manchester City  \n",
       "4          €21.00m    2013                        EPL  Manchester City  \n",
       "...            ...     ...                        ...              ...  \n",
       "61129       €1.00m    2020  Portuguese First Division         Nacional  \n",
       "61130        €600k    2020  Portuguese First Division         Nacional  \n",
       "61131        €500k    2020  Portuguese First Division         Nacional  \n",
       "61132        €200k    2020  Portuguese First Division         Nacional  \n",
       "61133        €200k    2020  Portuguese First Division         Nacional  \n",
       "\n",
       "[61134 rows x 8 columns]"
      ]
     },
     "execution_count": 42,
     "metadata": {},
     "output_type": "execute_result"
    }
   ],
   "source": [
    "big_values_new"
   ]
  },
  {
   "cell_type": "code",
   "execution_count": 43,
   "metadata": {},
   "outputs": [],
   "source": [
    "big_values_new.to_csv('newly_combined_transfermarkt_league_data_checking.csv', index=False)\n"
   ]
  },
  {
   "cell_type": "markdown",
   "metadata": {},
   "source": [
    "## SECOND FIX"
   ]
  },
  {
   "cell_type": "code",
   "execution_count": 3,
   "metadata": {},
   "outputs": [],
   "source": [
    "big_values_new_2 = pd.read_csv(\"newly_combined_transfermarkt_league_data_checking.csv\")"
   ]
  },
  {
   "cell_type": "code",
   "execution_count": 11,
   "metadata": {},
   "outputs": [],
   "source": [
    "old_names = big_values_new_2[big_values_new_2['Team'] == 'Marítimo']['Name'].unique()\n",
    "big_values_new_2_noMar = big_values_new_2[big_values_new_2['Team'] != 'Marítimo']\n"
   ]
  },
  {
   "cell_type": "code",
   "execution_count": 14,
   "metadata": {},
   "outputs": [],
   "source": [
    "portugal_only_2 = pd.read_csv(\"2nd_LIGAPORTUGAL_transfermarkt_league_data_checking.csv\")"
   ]
  },
  {
   "cell_type": "code",
   "execution_count": 21,
   "metadata": {},
   "outputs": [],
   "source": [
    "portugal_only_2_maritimo = portugal_only_2[portugal_only_2['Team'] == 'Marítimo']#['Name'].unique()"
   ]
  },
  {
   "cell_type": "code",
   "execution_count": 23,
   "metadata": {},
   "outputs": [],
   "source": [
    "big_values_new_3 = pd.concat([big_values_new_2_noMar, portugal_only_2_maritimo], ignore_index=True)"
   ]
  },
  {
   "cell_type": "code",
   "execution_count": 25,
   "metadata": {},
   "outputs": [],
   "source": [
    "big_values_new_3.to_csv('2nd_newly_combined_transfermarkt_league_data_checking.csv', index=False)\n"
   ]
  }
 ],
 "metadata": {
  "kernelspec": {
   "display_name": "Python 3",
   "language": "python",
   "name": "python3"
  },
  "language_info": {
   "codemirror_mode": {
    "name": "ipython",
    "version": 3
   },
   "file_extension": ".py",
   "mimetype": "text/x-python",
   "name": "python",
   "nbconvert_exporter": "python",
   "pygments_lexer": "ipython3",
   "version": "3.12.0"
  }
 },
 "nbformat": 4,
 "nbformat_minor": 2
}
