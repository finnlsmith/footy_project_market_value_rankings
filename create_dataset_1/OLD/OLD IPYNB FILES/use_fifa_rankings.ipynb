{
 "cells": [
  {
   "cell_type": "code",
   "execution_count": 24,
   "metadata": {},
   "outputs": [],
   "source": [
    "import os\n",
    "import csv\n",
    "import pandas as pd\n",
    "from difflib import get_close_matches\n",
    "import numpy as np\n",
    "import re\n",
    "from transliterate import translit\n",
    "from unidecode import unidecode\n",
    "import Levenshtein\n",
    "import requests\n",
    "import bs4\n",
    "from bs4 import BeautifulSoup \n",
    "from selenium import webdriver\n",
    "from selenium.webdriver.common.keys import Keys\n",
    "import time\n",
    "from selenium.webdriver.chrome.service import Service\n",
    "from selenium.webdriver.common.by import By\n",
    "from selenium.webdriver.support.ui import WebDriverWait\n",
    "from selenium.webdriver.support import expected_conditions as EC\n",
    "\n",
    "from datetime import datetime\n",
    "\n"
   ]
  },
  {
   "cell_type": "markdown",
   "metadata": {},
   "source": [
    "## Functions"
   ]
  },
  {
   "cell_type": "code",
   "execution_count": 95,
   "metadata": {},
   "outputs": [],
   "source": [
    "def convert_date(input_date):\n",
    "    formats = [\"%d.%m.%y\", \"%d-%m-%Y\", \"%d-%b-%y\"]\n",
    "    target_format = \"%Y-%m-%d\"\n",
    "    \n",
    "    for date_format in formats:\n",
    "        try:\n",
    "            # Try parsing the input date using the current format\n",
    "            parsed_date = datetime.strptime(input_date, date_format)\n",
    "            # If successful, convert it to the target format\n",
    "            result_date = parsed_date.strftime(target_format)\n",
    "            return result_date\n",
    "        except ValueError:\n",
    "            pass\n",
    "    \n",
    "    # If none of the formats match, return an error message or handle as needed\n",
    "    return \"Invalid date format\"\n",
    "\n",
    "def date_difference(date1, date2):\n",
    "    date_format = \"%Y-%m-%d\"\n",
    "    \n",
    "    try:\n",
    "        # Parse the input dates\n",
    "        parsed_date1 = datetime.strptime(date1, date_format)\n",
    "        parsed_date2 = datetime.strptime(date2, date_format)\n",
    "        \n",
    "        # Calculate the difference in days\n",
    "        difference = abs((parsed_date2 - parsed_date1).days)\n",
    "        \n",
    "        return difference\n",
    "    except ValueError:\n",
    "        return \"Invalid date format\"\n",
    "\n",
    "def find_smallest_index(arr):\n",
    "\n",
    "\n",
    "    if not arr:\n",
    "        return \"Array is empty\"\n",
    "    \n",
    "    # Initialize variables to store the smallest number and its index\n",
    "    smallest_number = arr[0]\n",
    "    smallest_index = 0\n",
    "\n",
    "    # Iterate through the array to find the smallest number and its index\n",
    "    for i in range(1, len(arr)):\n",
    "        if arr[i] < smallest_number:\n",
    "            smallest_number = arr[i]\n",
    "            smallest_index = i\n",
    "\n",
    "    return smallest_index\n",
    "\n",
    "def find_country_rank_and_code(country_name, match_date, rankings_data):\n",
    "    match_date_rankings_data = convert_date(match_date)\n",
    "    team_1_name = country_name\n",
    "    if team_1_name in rankings_data['country_full'].unique():\n",
    "        team1_rankings = rankings_data[rankings_data['country_full'] == team_1_name].reset_index()\n",
    "    else:\n",
    "        print(f'{team_1_name} not found in dataset')\n",
    "\n",
    "    indexarray = []\n",
    "\n",
    "    rank_date_array = []\n",
    "\n",
    "    days_from_target_date_array = []\n",
    "\n",
    "    for i in range(0, len(team1_rankings)):\n",
    "        this_ranking_row_date = team1_rankings.at[i, 'rank_date']\n",
    "        indexarray.append(i)\n",
    "        rank_date_array.append(this_ranking_row_date)\n",
    "        \n",
    "        days_from_target_date = date_difference(match_date_rankings_data, this_ranking_row_date)\n",
    "\n",
    "        days_from_target_date_array.append(days_from_target_date)\n",
    "\n",
    "    date_of_closest_ranking = rank_date_array[find_smallest_index(days_from_target_date_array)]\n",
    "\n",
    "    rankings_team1_closest_date = rankings_data[(rankings_data['rank_date'] == date_of_closest_ranking) & (rankings_data['country_full'] == team_1_name)].reset_index()\n",
    "    team_1_country_rank = rankings_team1_closest_date.at[0, 'rank']\n",
    "    team_1_country_points = rankings_team1_closest_date.at[0, 'total_points']\n",
    "\n",
    "\n",
    "\n",
    "    return team_1_name, team_1_country_rank, team_1_country_points"
   ]
  },
  {
   "cell_type": "markdown",
   "metadata": {},
   "source": [
    "## Results & Lineups"
   ]
  },
  {
   "cell_type": "code",
   "execution_count": 88,
   "metadata": {},
   "outputs": [],
   "source": [
    "results = pd.read_csv('/Users/finneganlaister-smith/Downloads/DEV ENVIRONMENT/data-science-jupyter-template-main/results_country_match_IDs_added.csv')\n",
    "lineups = pd.read_csv('/Users/finneganlaister-smith/Downloads/DEV ENVIRONMENT/data-science-jupyter-template-main/lineups_country_match_IDs_added.csv')\n"
   ]
  },
  {
   "cell_type": "code",
   "execution_count": 89,
   "metadata": {},
   "outputs": [],
   "source": [
    "countrycodes = pd.read_csv(\"/Users/finneganlaister-smith/Downloads/DEV ENVIRONMENT/data-science-jupyter-template-main/countries_and_codes.csv\")\n",
    "rankings_data = pd.read_csv(\"/Users/finneganlaister-smith/Downloads/DEV ENVIRONMENT/data-science-jupyter-template-main/fifa_ranking-2023-10-26 - fifa_ranking-2023-07-20.csv\")"
   ]
  },
  {
   "cell_type": "code",
   "execution_count": 90,
   "metadata": {},
   "outputs": [],
   "source": [
    "this_match_lineups = lineups[lineups['Match ID'] == 2650].reset_index()\n",
    "this_match_results = results[results['Match ID'] == 2650] #2650"
   ]
  },
  {
   "cell_type": "code",
   "execution_count": 91,
   "metadata": {},
   "outputs": [],
   "source": [
    "match_Date = this_match_lineups.at[0, 'Date']\n",
    "#do this for zero \n",
    "team_1_name = this_match_lineups.at[0, 'TeamName']\n",
    "\n",
    "team_2_name = this_match_lineups.at[1, 'TeamName']"
   ]
  },
  {
   "cell_type": "code",
   "execution_count": 93,
   "metadata": {},
   "outputs": [
    {
     "data": {
      "text/plain": [
       "(('Croatia', 6, 1625.0), ('Wales', 23, 1514.0))"
      ]
     },
     "execution_count": 93,
     "metadata": {},
     "output_type": "execute_result"
    }
   ],
   "source": [
    "find_country_rank_and_code(team_1_name, match_Date, rankings_data), find_country_rank_and_code(team_2_name, match_Date, rankings_data)"
   ]
  },
  {
   "cell_type": "markdown",
   "metadata": {},
   "source": [
    "## Debugging"
   ]
  },
  {
   "cell_type": "code",
   "execution_count": 86,
   "metadata": {},
   "outputs": [
    {
     "data": {
      "text/plain": [
       "('Croatia', 6, 1625.0)"
      ]
     },
     "execution_count": 86,
     "metadata": {},
     "output_type": "execute_result"
    }
   ],
   "source": [
    "#team_1_name = 'Wales'\n",
    "team_1_name = 'Croatia'\n",
    "\n",
    "\n",
    "if team_1_name in rankings_data['country_full'].unique():\n",
    "    team1_rankings = rankings_data[rankings_data['country_full'] == team_1_name].reset_index()\n",
    "\n",
    "match_date_rankings_data = convert_date(match_Date)\n",
    "\n",
    "indexarray = []\n",
    "rank_date_array = []\n",
    "\n",
    "days_from_target_date_array = []\n",
    "\n",
    "for i in range(0, len(team1_rankings)):\n",
    "    this_ranking_row_date = team1_rankings.at[i, 'rank_date']\n",
    "    indexarray.append(i)\n",
    "    rank_date_array.append(this_ranking_row_date)\n",
    "    \n",
    "    days_from_target_date = date_difference(match_date_rankings_data, this_ranking_row_date)\n",
    "\n",
    "    days_from_target_date_array.append(days_from_target_date)\n",
    "\n",
    "date_of_closest_ranking = rank_date_array[find_smallest_index(days_from_target_date_array)]\n",
    "\n",
    "rankings_team1_closest_date = rankings_data[(rankings_data['rank_date'] == date_of_closest_ranking) & (rankings_data['country_full'] == team_1_name)].reset_index()\n",
    "team_1_country_rank = rankings_team1_closest_date.at[0, 'rank']\n",
    "team_1_country_points = rankings_team1_closest_date.at[0, 'total_points']\n",
    "\n",
    "\n",
    "team_1_name, team_1_country_rank, team_1_country_points"
   ]
  },
  {
   "cell_type": "code",
   "execution_count": 84,
   "metadata": {},
   "outputs": [
    {
     "data": {
      "text/html": [
       "<div>\n",
       "<style scoped>\n",
       "    .dataframe tbody tr th:only-of-type {\n",
       "        vertical-align: middle;\n",
       "    }\n",
       "\n",
       "    .dataframe tbody tr th {\n",
       "        vertical-align: top;\n",
       "    }\n",
       "\n",
       "    .dataframe thead th {\n",
       "        text-align: right;\n",
       "    }\n",
       "</style>\n",
       "<table border=\"1\" class=\"dataframe\">\n",
       "  <thead>\n",
       "    <tr style=\"text-align: right;\">\n",
       "      <th></th>\n",
       "      <th>index</th>\n",
       "      <th>rank</th>\n",
       "      <th>country_full</th>\n",
       "      <th>country_abrv</th>\n",
       "      <th>total_points</th>\n",
       "      <th>previous_points</th>\n",
       "      <th>rank_change</th>\n",
       "      <th>confederation</th>\n",
       "      <th>rank_date</th>\n",
       "    </tr>\n",
       "  </thead>\n",
       "  <tbody>\n",
       "    <tr>\n",
       "      <th>0</th>\n",
       "      <td>58308</td>\n",
       "      <td>23</td>\n",
       "      <td>Wales</td>\n",
       "      <td>WAL</td>\n",
       "      <td>1514.0</td>\n",
       "      <td>1539.0</td>\n",
       "      <td>4.0</td>\n",
       "      <td>UEFA</td>\n",
       "      <td>2019-06-14</td>\n",
       "    </tr>\n",
       "  </tbody>\n",
       "</table>\n",
       "</div>"
      ],
      "text/plain": [
       "   index  rank country_full country_abrv  total_points  previous_points  \\\n",
       "0  58308    23        Wales          WAL        1514.0           1539.0   \n",
       "\n",
       "   rank_change confederation   rank_date  \n",
       "0          4.0          UEFA  2019-06-14  "
      ]
     },
     "execution_count": 84,
     "metadata": {},
     "output_type": "execute_result"
    }
   ],
   "source": [
    "rankings_team1_closest_date"
   ]
  },
  {
   "cell_type": "code",
   "execution_count": 61,
   "metadata": {},
   "outputs": [],
   "source": [
    "#given a match date and a team \n",
    "#filter for that team name, and that date \n",
    "\n",
    "#matches are either in this form: '08.06.19'\n",
    "\n",
    "#or \n",
    "\n",
    "#\"14-01-2017\"\n",
    "\n",
    "#or \"11-Nov-21\"\n",
    "\n",
    "#the form they need to be in to compare with rank date is 1992-12-31"
   ]
  }
 ],
 "metadata": {
  "kernelspec": {
   "display_name": "Python 3",
   "language": "python",
   "name": "python3"
  },
  "language_info": {
   "codemirror_mode": {
    "name": "ipython",
    "version": 3
   },
   "file_extension": ".py",
   "mimetype": "text/x-python",
   "name": "python",
   "nbconvert_exporter": "python",
   "pygments_lexer": "ipython3",
   "version": "3.12.0"
  }
 },
 "nbformat": 4,
 "nbformat_minor": 2
}
