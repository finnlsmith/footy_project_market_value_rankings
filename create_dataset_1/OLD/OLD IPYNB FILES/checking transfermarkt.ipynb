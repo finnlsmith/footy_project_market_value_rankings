{
 "cells": [
  {
   "cell_type": "code",
   "execution_count": 274,
   "metadata": {},
   "outputs": [],
   "source": [
    "import os\n",
    "import csv\n",
    "import pandas as pd\n",
    "from difflib import get_close_matches\n",
    "\n",
    "import re"
   ]
  },
  {
   "cell_type": "code",
   "execution_count": 289,
   "metadata": {},
   "outputs": [
    {
     "data": {
      "text/plain": [
       "'/Users/finneganlaister-smith/Downloads/DEV ENVIRONMENT/data-science-jupyter-template-main'"
      ]
     },
     "execution_count": 289,
     "metadata": {},
     "output_type": "execute_result"
    }
   ],
   "source": [
    "os.getcwd()"
   ]
  },
  {
   "cell_type": "code",
   "execution_count": 276,
   "metadata": {},
   "outputs": [],
   "source": [
    "csv_leagues = pd.read_csv('/Users/finneganlaister-smith/Downloads/DEV ENVIRONMENT/data-science-jupyter-template-main/transfermarkt_league_data_checking.csv')"
   ]
  },
  {
   "cell_type": "code",
   "execution_count": 290,
   "metadata": {},
   "outputs": [
    {
     "data": {
      "text/plain": [
       "League\n",
       "Serie A                      9425\n",
       "EPL                          8360\n",
       "Turkish League               7883\n",
       "Ligue 1                      7683\n",
       "La Liga                      7404\n",
       "Portuguese First Division    6983\n",
       "Bundesliga                   6746\n",
       "Eredivisie                   6713\n",
       "Name: count, dtype: int64"
      ]
     },
     "execution_count": 290,
     "metadata": {},
     "output_type": "execute_result"
    }
   ],
   "source": [
    "csv_leagues['League'].value_counts()"
   ]
  },
  {
   "cell_type": "code",
   "execution_count": 277,
   "metadata": {},
   "outputs": [
    {
     "name": "stdout",
     "output_type": "stream",
     "text": [
      "I Casillas\n"
     ]
    }
   ],
   "source": [
    "def remove_leading_numeric(input_string):\n",
    "    # Iterate through the string until a non-numeric character is encountered\n",
    "    for i, char in enumerate(input_string):\n",
    "        if not char.isdigit():\n",
    "            # Remove leading numeric characters and spaces\n",
    "            return input_string[i:].lstrip()\n",
    "    \n",
    "    # If the entire string is numeric, return an empty string\n",
    "    return \"\"\n",
    "\n",
    "# Example usage:\n",
    "input_str = \"1 I Casillas\"\n",
    "result = remove_leading_numeric(input_str)\n",
    "print(result)"
   ]
  },
  {
   "cell_type": "code",
   "execution_count": 278,
   "metadata": {},
   "outputs": [],
   "source": [
    "def remove_trailing_double_quote(input_string):\n",
    "    # Check if the string ends with a double quote\n",
    "    if input_string.endswith(\"\\\"\"):\n",
    "        # Remove the trailing double quote\n",
    "        return input_string[:-1]\n",
    "    else:\n",
    "        # Return the original string if no trailing double quote is found\n",
    "        return input_string"
   ]
  },
  {
   "cell_type": "code",
   "execution_count": 279,
   "metadata": {},
   "outputs": [],
   "source": [
    "def find_closest_string(input_string, string_list):\n",
    "    # Use get_close_matches to find the closest matching string\n",
    "    closest_match = get_close_matches(input_string, string_list, n=1, cutoff=0.8)\n",
    "\n",
    "    # Check if a close match is found\n",
    "    if closest_match:\n",
    "        return closest_match[0]\n",
    "    else:\n",
    "        # If no close matches, extract the last word from the input_string\n",
    "        last_word = input_string.split()[-1]\n",
    "\n",
    "        # Return strings from the list if the last word is in those strings\n",
    "        matching_strings = [s for s in string_list if last_word in s]\n",
    "\n",
    "        if matching_strings:\n",
    "            if(len(matching_strings) == 1):\n",
    "                return matching_strings[0]\n",
    "            else:\n",
    "                \n",
    "                return matching_strings\n",
    "        else:\n",
    "            return \"No close match found.\""
   ]
  },
  {
   "cell_type": "code",
   "execution_count": 280,
   "metadata": {},
   "outputs": [],
   "source": [
    "def remove_dot_space_prefix(input_string):\n",
    "    # Check if the string starts with \". \"\n",
    "    if input_string.startswith(\". \"):\n",
    "        # Remove the \". \" prefix\n",
    "        return input_string[2:]\n",
    "    else:\n",
    "        # Return the original string if it doesn't start with \". \"\n",
    "        return input_string\n"
   ]
  },
  {
   "cell_type": "code",
   "execution_count": 281,
   "metadata": {},
   "outputs": [],
   "source": [
    "from transliterate import translit\n",
    "\n",
    "def cyrillic_to_latin(input_string):\n",
    "    try:\n",
    "        # Use the \"translit\" function to convert Cyrillic to Latin\n",
    "        latin_string = translit(input_string, 'ru', reversed=True)\n",
    "        return latin_string\n",
    "    except Exception as e:\n",
    "        # Handle exceptions, e.g., if the input is not valid Cyrillic\n",
    "        print(f\"Error: {e}\")\n",
    "        return input_string"
   ]
  },
  {
   "cell_type": "code",
   "execution_count": 282,
   "metadata": {},
   "outputs": [],
   "source": [
    "def remove_last_two_chars(input_string):\n",
    "    # Check if the string ends with a single character and then a period\n",
    "    if len(input_string) >= 2 and input_string[-2].isalpha() and input_string[-1] == '.':\n",
    "        # Remove the last two characters\n",
    "        if(input_string[-3] == ' '):\n",
    "            return input_string[:-3]\n",
    "        else:\n",
    "            return input_string[:-2]\n",
    "    else:\n",
    "        # Return the original string if it doesn't match the pattern\n",
    "        return input_string"
   ]
  },
  {
   "cell_type": "code",
   "execution_count": 283,
   "metadata": {},
   "outputs": [],
   "source": [
    "def is_cyrillic(input_string):\n",
    "    # Check if the string contains non-ASCII characters\n",
    "    return not input_string.isascii()"
   ]
  },
  {
   "cell_type": "code",
   "execution_count": 284,
   "metadata": {},
   "outputs": [],
   "source": [
    "def process_string_newest_ii(input_string):\n",
    "    cleaned_string = re.sub(r'^\\d{1,2}[. ]', '', input_string)\n",
    "    tokens = cleaned_string.split()\n",
    "    final_string = \"\"\n",
    "\n",
    "    if len(tokens) >= 1 and not re.match(r'^[A-Za-zÀ-ÖØ-öø-ÿ]{2,}$', tokens[0]):\n",
    "        initial_match = re.match(r'^([A-Za-zÀ-ÖØ-öø-ÿ]+\\.)+$|[A-Za-zÀ-ÖØ-öø-ÿ]\\.$|[A-Za-zÀ-ÖØ-öø-ÿ]$', tokens[0])\n",
    "        if initial_match:\n",
    "            final_string += initial_match.group()\n",
    "\n",
    "    main_phrase = \" \".join(word for word in tokens if len(\"\".join(char for char in word if char.isalpha())) >= 2)\n",
    "    if main_phrase:\n",
    "        final_string += \" \" + main_phrase\n",
    "\n",
    "    if len(tokens) >= 2 and not re.match(r'^[A-Za-zÀ-ÖØ-öø-ÿ]{2,}$', tokens[1]):\n",
    "        end_initial_match = re.match(r'^([A-Za-zÀ-ÖØ-öø-ÿ]+\\.)+$|[A-Za-zÀ-ÖØ-öø-ÿ]\\.$|[A-Za-zÀ-ÖØ-öø-ÿ]$', tokens[1])\n",
    "        if end_initial_match:\n",
    "            final_string = \"\".join(char for char in end_initial_match.group() if char.isalpha()) + \" \" + final_string\n",
    "\n",
    "    # Check if the final phrase ends in a period\n",
    "    if final_string.endswith(\".\"):\n",
    "        # Extract the last word, remove the period, and move it to the start of final_string\n",
    "        last_word = final_string.split()[-1].rstrip('.')\n",
    "        final_string = last_word + \" \" + final_string\n",
    "\n",
    "        # Remove the last word from the end of the string\n",
    "        final_string = ' '.join(final_string.split()[:-1])\n",
    "\n",
    "        final_string = final_string.strip()\n",
    "\n",
    "    # Separate the final string by \" \" and remove non-alphabet characters for each token\n",
    "    final_tokens = [re.sub(r'[^A-Za-zÀ-ÖØ-öø-ÿ]', '', token) for token in final_string.split()]\n",
    "\n",
    "    # If the first two tokens are the same, remove one token\n",
    "    if len(final_tokens) >= 2 and final_tokens[0] == final_tokens[1]:\n",
    "        final_tokens.pop(0)\n",
    "\n",
    "    return \" \".join(final_tokens)"
   ]
  },
  {
   "cell_type": "code",
   "execution_count": 285,
   "metadata": {},
   "outputs": [],
   "source": [
    "def filter_candidates(NAMESTRING, LISTCANDIDATES):\n",
    "    # Get the first token of the NAMESTRING\n",
    "    first_token = re.split(r'\\s', NAMESTRING)[0]\n",
    "\n",
    "    # Create a regex pattern for matching candidates that start with the first token\n",
    "    pattern = re.compile(fr'^{re.escape(first_token)}', re.IGNORECASE)\n",
    "\n",
    "    # Filter candidates based on the pattern\n",
    "    filtered_candidates = list(filter(lambda x: re.match(pattern, x), LISTCANDIDATES))\n",
    "\n",
    "    return filtered_candidates\n",
    "\n",
    "# Example usage:\n",
    "name_string = \"I Gueye\"\n",
    "candidates = ['Magaye Gueye',\n",
    "  'Idrissa Gueye',\n",
    "  'Moussa Gueye', \n",
    "  'Babacar Gueye',\n",
    "  'Makhtar Gueye',\n",
    "  'Pape Gueye',\n",
    "  'Lamine Gueye']\n",
    "\n",
    "filtered_candidates = filter_candidates(name_string, candidates)\n",
    "#print(filtered_candidates)"
   ]
  },
  {
   "cell_type": "code",
   "execution_count": 287,
   "metadata": {},
   "outputs": [],
   "source": [
    "for i in range(0, len(csv_leagues)):\n",
    "    this_nationality = csv_leagues.at[i, 'Nationality']\n",
    "    if(pd.isna(csv_leagues.at[i, 'Nationality'])):\n",
    "        csv_leagues.at[i, 'Nationality'] = 'None'\n",
    "    else:\n",
    "        csv_leagues.at[i, 'Nationality'] = remove_trailing_double_quote(this_nationality)"
   ]
  },
  {
   "cell_type": "code",
   "execution_count": 294,
   "metadata": {},
   "outputs": [
    {
     "data": {
      "text/plain": [
       "('Sa Mane', 'No close match found.')"
      ]
     },
     "execution_count": 294,
     "metadata": {},
     "output_type": "execute_result"
    }
   ],
   "source": [
    "example_problem = \"10 Mane Sa.\"\n",
    "natl_test = 'Senegal'\n",
    "dataset_nationality = csv_leagues[csv_leagues['Nationality'] == f\"{natl_test}\"]['Name'].unique()\n",
    "\n",
    "if(is_cyrillic(example_problem)):\n",
    "    example_problem = cyrillic_to_latin(example_problem)\n",
    "\n",
    "\n",
    "search_name = process_string_newest_ii(example_problem) \n",
    "\n",
    "result = find_closest_string(search_name, dataset_nationality)\n",
    "if(type(result) == list):\n",
    "    result = filter_candidates(search_name, result)[0]\n",
    "search_name, result"
   ]
  },
  {
   "cell_type": "markdown",
   "metadata": {},
   "source": [
    "## OLD DEBUG"
   ]
  },
  {
   "cell_type": "code",
   "execution_count": null,
   "metadata": {},
   "outputs": [],
   "source": [
    "input_str = '8 M Valbuena'\n",
    "natl_test = 'France'\n",
    "\n",
    "input_str = remove_leading_numeric(input_str)\n",
    "\n",
    "dataset_nationality = csv_leagues[csv_leagues['Nationality'] == f\"{natl_test}\"]['Name'].unique()\n",
    "\n",
    "result = find_closest_string(input_str, dataset_nationality)\n",
    "result\n",
    "# input_str_2 = \"22. Bennacer I.\"\n",
    "# natl_test = 'Algeria'\n",
    "\n",
    "# input_str_2 = remove_leading_numeric(input_str_2)\n",
    "# input_str_2 = remove_dot_space_prefix(input_str_2)\n",
    "# input_str_2\n",
    "# dataset_nationality = csv_leagues[csv_leagues['Nationality'] == f\"{natl_test}\"]['Name'].unique()\n",
    "\n",
    "# result = find_closest_string(input_str_2, dataset_nationality)\n",
    "# result    "
   ]
  },
  {
   "cell_type": "code",
   "execution_count": 153,
   "metadata": {},
   "outputs": [
    {
     "data": {
      "text/plain": [
       "['André Ayew', 'Jordan Ayew']"
      ]
     },
     "execution_count": 153,
     "metadata": {},
     "output_type": "execute_result"
    }
   ],
   "source": [
    "string_test = '10. Ayew A.'\n",
    "natl_test = 'Ghana'\n",
    "\n",
    "\n",
    "string_test = remove_leading_numeric(string_test)\n",
    "string_test = remove_dot_space_prefix(string_test)\n",
    "\n",
    "string_test = remove_last_two_chars(string_test)\n",
    "\n",
    "if(is_cyrillic(string_test)):\n",
    "    string_test = cyrillic_to_latin(string_test)\n",
    "\n",
    "dataset_nationality = csv_leagues[csv_leagues['Nationality'] == f\"{natl_test}\"]['Name'].unique()\n",
    "\n",
    "result = find_closest_string(string_test, dataset_nationality)\n",
    "result"
   ]
  }
 ],
 "metadata": {
  "kernelspec": {
   "display_name": "Python 3",
   "language": "python",
   "name": "python3"
  },
  "language_info": {
   "codemirror_mode": {
    "name": "ipython",
    "version": 3
   },
   "file_extension": ".py",
   "mimetype": "text/x-python",
   "name": "python",
   "nbconvert_exporter": "python",
   "pygments_lexer": "ipython3",
   "version": "3.12.0"
  }
 },
 "nbformat": 4,
 "nbformat_minor": 2
}
