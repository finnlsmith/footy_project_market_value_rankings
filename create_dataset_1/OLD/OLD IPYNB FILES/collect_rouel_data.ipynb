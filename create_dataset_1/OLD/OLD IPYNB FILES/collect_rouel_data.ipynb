{
 "cells": [
  {
   "cell_type": "code",
   "execution_count": 1,
   "metadata": {},
   "outputs": [],
   "source": [
    "import os\n",
    "import pandas as pd"
   ]
  },
  {
   "cell_type": "code",
   "execution_count": 2,
   "metadata": {},
   "outputs": [],
   "source": [
    "def get_subfolder_names(folder_path):\n",
    "    subfolder_names = []\n",
    "\n",
    "    # Ensure the folder exists\n",
    "    if not os.path.exists(folder_path):\n",
    "        print(f\"Error: Folder '{folder_path}' does not exist.\")\n",
    "        return subfolder_names\n",
    "\n",
    "    # Get a list of all items (files and folders) in the specified folder\n",
    "    items = os.listdir(folder_path)\n",
    "\n",
    "    # Filter out only the subfolders\n",
    "    subfolders = [item for item in items if os.path.isdir(os.path.join(folder_path, item))]\n",
    "\n",
    "    # Populate the list of subfolder names\n",
    "    subfolder_names.extend(subfolders)\n",
    "\n",
    "    return subfolder_names"
   ]
  },
  {
   "cell_type": "code",
   "execution_count": 3,
   "metadata": {},
   "outputs": [],
   "source": [
    "folder_path = '/Users/finneganlaister-smith/Downloads/DEV ENVIRONMENT/data-science-jupyter-template-main/work/analysis work 9/soccer/Too Much Talent/Rouel Salary Data'\n",
    "subfolders_origin = get_subfolder_names(folder_path)"
   ]
  },
  {
   "cell_type": "code",
   "execution_count": 4,
   "metadata": {},
   "outputs": [],
   "source": [
    "folder_tgt_path = '/Users/finneganlaister-smith/Downloads/DEV ENVIRONMENT/data-science-jupyter-template-main/work/analysis work 9/soccer/Too Much Talent/Rouel Salary New Data'\n",
    "subfolders_target = get_subfolder_names(folder_tgt_path)"
   ]
  },
  {
   "cell_type": "code",
   "execution_count": 5,
   "metadata": {},
   "outputs": [],
   "source": [
    "def excel_to_csv(excel_file_path, output_folder):\n",
    "    # Read the Excel file into a dictionary of DataFrames\n",
    "    excel_data = pd.read_excel(excel_file_path, sheet_name=None)\n",
    "\n",
    "    # Iterate through each sheet and save it as a separate CSV file\n",
    "    for sheet_name, dataframe in excel_data.items():\n",
    "        # Construct the output CSV file path\n",
    "        csv_file_path = f\"{output_folder}/{sheet_name}.csv\"\n",
    "\n",
    "        # Save the DataFrame as a CSV file\n",
    "        dataframe.to_csv(csv_file_path, index=False)\n",
    "\n",
    "        print(f\"Saved {sheet_name} as {csv_file_path}\")\n",
    "\n",
    "# Example usage\n"
   ]
  },
  {
   "cell_type": "code",
   "execution_count": 6,
   "metadata": {},
   "outputs": [],
   "source": [
    "def excel_to_csv_folder(input_folder_path, target_folder):\n",
    "    if not os.path.exists(input_folder_path):\n",
    "        print(f\"Error: Folder '{input_folder_path}' does not exist.\")\n",
    "    else:\n",
    "        print('ya')\n",
    "        files = os.listdir(input_folder_path)\n",
    "        for file_name in files:\n",
    "            if(file_name != '.DS_Store'):\n",
    "                #file name has to be added to the end of a path \n",
    "                path_with_file = f'{input_folder_path}/{file_name}'\n",
    "                \n",
    "                path_target_folder = f'/Users/finneganlaister-smith/Downloads/DEV ENVIRONMENT/data-science-jupyter-template-main/work/analysis work 9/soccer/Too Much Talent/Rouel Salary New Data/{target_folder}/'\n",
    "                excel_to_csv(path_with_file, path_target_folder)\n",
    "        #return files\n",
    "    #return result_dict"
   ]
  },
  {
   "cell_type": "code",
   "execution_count": 7,
   "metadata": {},
   "outputs": [],
   "source": [
    "def remove_suffix_xl(input_string):\n",
    "    \"\"\"\n",
    "    Remove the suffix \" Salaries and Contracts 2013-2024.xlsx\" from the input string.\n",
    "\n",
    "    Parameters:\n",
    "    - input_string (str): The input string.\n",
    "\n",
    "    Returns:\n",
    "    - result_string (str): The input string without the specified suffix.\n",
    "    \"\"\"\n",
    "    suffix_to_remove = \" Salaries and Contracts 2013-2024.xlsx\"\n",
    "\n",
    "    # Check if the input string ends with the specified suffix\n",
    "    if input_string.endswith(suffix_to_remove):\n",
    "        # Remove the suffix\n",
    "        result_string = input_string[: -len(suffix_to_remove)]\n",
    "        return result_string\n",
    "    else:\n",
    "        # If the suffix is not found, return the original string\n",
    "        return input_string"
   ]
  },
  {
   "cell_type": "code",
   "execution_count": 8,
   "metadata": {},
   "outputs": [],
   "source": [
    "def create_subfolder(folder_path, subfolder_name):\n",
    "    \"\"\"\n",
    "    Create a subfolder at the specified folder path with the specified name.\n",
    "\n",
    "    Parameters:\n",
    "    - folder_path (str): The path to the folder where the subfolder will be created.\n",
    "    - subfolder_name (str): The name of the subfolder to be created.\n",
    "\n",
    "    Returns:\n",
    "    - subfolder_path (str): The full path to the created subfolder.\n",
    "    \"\"\"\n",
    "    # Ensure the parent folder exists\n",
    "    if not os.path.exists(folder_path):\n",
    "        print(f\"Error: Parent folder '{folder_path}' does not exist.\")\n",
    "        return None\n",
    "\n",
    "    # Construct the full path for the subfolder\n",
    "    subfolder_path = os.path.join(folder_path, subfolder_name)\n",
    "\n",
    "    # Check if the subfolder already exists\n",
    "    if os.path.exists(subfolder_path):\n",
    "        print(f\"Error: Subfolder '{subfolder_name}' already exists in '{folder_path}'.\")\n",
    "        return None\n",
    "\n",
    "    # Create the subfolder\n",
    "    os.makedirs(subfolder_path)\n",
    "\n",
    "    #print(f\"Subfolder '{subfolder_name}' created at '{folder_path}'.\")\n",
    "    return subfolder_path"
   ]
  },
  {
   "cell_type": "code",
   "execution_count": 9,
   "metadata": {},
   "outputs": [],
   "source": [
    "for folder in subfolders_origin:\n",
    "    if(folder == '1. Bundesliga'):\n",
    "        tgt_folder = '1. Bundesliga'\n",
    "    elif(folder == 'Turkish First Division'):\n",
    "        tgt_folder = 'Turkish Süper Lig'\n",
    "    elif(folder == 'Dutch Eredivisie'):\n",
    "        tgt_folder = 'Dutch Eredivisie'\n",
    "    elif(folder == 'Portuguese First Division'):\n",
    "        tgt_folder = 'Portuguese Primeira Liga'\n",
    "    elif(folder == 'Italian Serie A'):\n",
    "        tgt_folder = 'Italian Serie A'\n",
    "    elif(folder == 'English Premier League'):\n",
    "        tgt_folder = 'English Premier League'\n",
    "    elif(folder == 'French Ligue'):\n",
    "        tgt_folder = 'French Ligue 1'\n",
    "    else:\n",
    "        tgt_folder = 'Spanish Liga Santander'\n",
    "\n",
    "    folder_edited = f'/Users/finneganlaister-smith/Downloads/DEV ENVIRONMENT/data-science-jupyter-template-main/work/analysis work 9/soccer/Too Much Talent/Rouel Salary Data/{folder}'\n",
    "    if not os.path.exists(folder_edited):\n",
    "        print(f\"Error: Folder '{folder_edited}' does not exist.\")\n",
    "    else:\n",
    "        0==0\n",
    "        #print(folder_edited)\n",
    "    files = os.listdir(folder_edited)\n",
    "    \n",
    "    for file_name in files:\n",
    "        #files is all the teams in the league. each file name is a team \n",
    "        if(file_name != '.DS_Store'):\n",
    "            \n",
    "            path_with_file = f'{folder_edited}/{file_name}'\n",
    "            \n",
    "            path_target_folder = f'/Users/finneganlaister-smith/Downloads/DEV ENVIRONMENT/data-science-jupyter-template-main/work/analysis work 9/soccer/Too Much Talent/Rouel Salary New Data/{tgt_folder}/'\n",
    "\n",
    "            excel_data = pd.read_excel(path_with_file, sheet_name=None)\n",
    "\n",
    "            #you have to note the part of the path_with_file that's directly after the folder variable and a / \n",
    "            \n",
    "            team_name = remove_suffix_xl(file_name)\n",
    "\n",
    "            #CREATE THE SUB-FOLDER HERE USING THE TEAM NAME AND THE TARGET FOLDER. \n",
    "            new_target_folder_path = create_subfolder(path_target_folder, team_name)\n",
    "\n",
    "            #update the target folder path using the new subfolder \n",
    "            \n",
    "\n",
    "            for sheet_name, dataframe in excel_data.items():\n",
    "                csv_file_path = f\"{new_target_folder_path}/{sheet_name}.csv\"\n",
    "                dataframe.to_csv(csv_file_path, index=False)\n",
    "               \n",
    "                #  put the CSVs in the sub-folder you created and number them by year\n",
    "\n",
    "                #use the year that \n",
    "                0==0\n",
    "    "
   ]
  },
  {
   "cell_type": "code",
   "execution_count": 11,
   "metadata": {},
   "outputs": [
    {
     "data": {
      "text/plain": [
       "'Dijon'"
      ]
     },
     "execution_count": 11,
     "metadata": {},
     "output_type": "execute_result"
    }
   ],
   "source": [
    "team_name"
   ]
  },
  {
   "cell_type": "markdown",
   "metadata": {},
   "source": [
    "## Debug"
   ]
  },
  {
   "cell_type": "code",
   "execution_count": null,
   "metadata": {},
   "outputs": [],
   "source": [
    "f\"{new_target_folder_path}/{sheet_name}.csv\""
   ]
  },
  {
   "cell_type": "code",
   "execution_count": null,
   "metadata": {},
   "outputs": [],
   "source": [
    "folder_path = '/Users/finneganlaister-smith/Downloads/DEV ENVIRONMENT/data-science-jupyter-template-main/work/analysis work 9/soccer/Too Much Talent/Rouel Salary Data/1. Bundesliga/'\n",
    "\n",
    "tgt_folder_1 = '/Users/finneganlaister-smith/Downloads/DEV ENVIRONMENT/data-science-jupyter-template-main/work/analysis work 9/soccer/Too Much Talent/Rouel Salary New Data/1. Bundesliga/'\n",
    "#excel_to_csv_folder(folder_path, tgt_folder_1)"
   ]
  },
  {
   "cell_type": "code",
   "execution_count": null,
   "metadata": {},
   "outputs": [],
   "source": [
    "test = pd.read_excel('/Users/finneganlaister-smith/Downloads/DEV ENVIRONMENT/data-science-jupyter-template-main/work/analysis work 9/soccer/Too Much Talent/Rouel Salary Data/1. Bundesliga/Arminia Bielefeld Salaries and Contracts 2013-2024.xlsx')\n",
    "path = '/Users/finneganlaister-smith/Downloads/DEV ENVIRONMENT/data-science-jupyter-template-main/work/analysis work 9/soccer/Too Much Talent/Rouel Salary Data/1. Bundesliga/Augsburg Salaries and Contracts 2013-2024.xlsx'"
   ]
  },
  {
   "cell_type": "code",
   "execution_count": null,
   "metadata": {},
   "outputs": [],
   "source": [
    "sheet_name = '2021-2022'\n",
    "excel_data_test = pd.read_excel(path, sheet_name=None)"
   ]
  },
  {
   "cell_type": "code",
   "execution_count": null,
   "metadata": {},
   "outputs": [],
   "source": [
    "len(excel_data_test.items())"
   ]
  },
  {
   "cell_type": "code",
   "execution_count": null,
   "metadata": {},
   "outputs": [],
   "source": [
    "excel_file_path = '/path/to/your/excel/file.xlsx'\n",
    "output_folder = '/path/to/output/folder'\n",
    "\n",
    "# Ensure the output folder exists; create it if necessary\n",
    "os.makedirs(output_folder, exist_ok=True)"
   ]
  },
  {
   "cell_type": "code",
   "execution_count": null,
   "metadata": {},
   "outputs": [],
   "source": [
    "\n",
    "\n",
    "def create_dataframes_from_csv(folder_path):\n",
    "    # Get a list of all files in the folder\n",
    "    files = os.listdir(folder_path)\n",
    "\n",
    "    # Filter only CSV files\n",
    "    csv_files = [file for file in files if file.endswith('.csv')]\n",
    "\n",
    "    # Create a dictionary to store DataFrames\n",
    "    dataframes_dict = {}\n",
    "\n",
    "    # Loop through each CSV file and create a DataFrame\n",
    "    for csv_file in csv_files:\n",
    "        # Generate a DataFrame name based on the CSV file title\n",
    "        dataframe_name = os.path.splitext(csv_file)[0]\n",
    "\n",
    "        # Construct the full file path\n",
    "        file_path = os.path.join(folder_path, csv_file)\n",
    "\n",
    "        # Read the CSV file into a DataFrame\n",
    "        dataframe = pd.read_csv(file_path)\n",
    "\n",
    "        # Add the DataFrame to the dictionary with its name\n",
    "        dataframes_dict[dataframe_name] = dataframe\n",
    "\n",
    "    return dataframes_dict"
   ]
  }
 ],
 "metadata": {
  "kernelspec": {
   "display_name": "Python 3",
   "language": "python",
   "name": "python3"
  },
  "language_info": {
   "codemirror_mode": {
    "name": "ipython",
    "version": 3
   },
   "file_extension": ".py",
   "mimetype": "text/x-python",
   "name": "python",
   "nbconvert_exporter": "python",
   "pygments_lexer": "ipython3",
   "version": "3.12.0"
  }
 },
 "nbformat": 4,
 "nbformat_minor": 2
}
