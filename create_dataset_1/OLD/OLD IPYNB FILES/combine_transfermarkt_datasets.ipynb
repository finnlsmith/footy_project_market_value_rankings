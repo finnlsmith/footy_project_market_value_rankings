{
 "cells": [
  {
   "cell_type": "code",
   "execution_count": 1,
   "metadata": {},
   "outputs": [],
   "source": [
    "import os\n",
    "import csv\n",
    "import pandas as pd\n",
    "from difflib import get_close_matches\n",
    "import numpy as np\n",
    "import re\n",
    "from transliterate import translit\n",
    "from unidecode import unidecode\n",
    "import Levenshtein\n",
    "import requests\n",
    "import bs4\n",
    "from bs4 import BeautifulSoup \n",
    "from selenium import webdriver\n",
    "from selenium.webdriver.common.keys import Keys\n",
    "import time\n",
    "from selenium.webdriver.chrome.service import Service\n",
    "from selenium.webdriver.common.by import By\n",
    "from selenium.webdriver.support.ui import WebDriverWait\n",
    "from selenium.webdriver.support import expected_conditions as EC\n",
    "import urllib.parse\n",
    "from datetime import datetime\n",
    "\n",
    "from urllib.parse import urlsplit\n",
    "\n",
    "import wikipediaapi\n",
    "\n",
    "import wikipedia\n",
    "\n",
    "from urllib.parse import urlparse\n",
    "\n",
    "import difflib\n",
    "\n",
    "from datetime import datetime\n",
    "\n",
    "import calendar\n",
    "\n",
    "from selenium import webdriver\n",
    "from selenium.webdriver.chrome.options import Options\n",
    "\n",
    "\n"
   ]
  },
  {
   "cell_type": "markdown",
   "metadata": {},
   "source": [
    "# LOADING DATA"
   ]
  },
  {
   "cell_type": "code",
   "execution_count": 2,
   "metadata": {},
   "outputs": [],
   "source": [
    "current_dataset = pd.read_csv('/Users/finneganlaister-smith/Downloads/DEV ENVIRONMENT/data-science-jupyter-template-main/latest_transfermarkt_data_money_fixed.csv')\n",
    "\n",
    "new_data = pd.read_csv('/Users/finneganlaister-smith/Downloads/DEV ENVIRONMENT/data-science-jupyter-template-main/NEW TransferMarkt Market Values.csv', low_memory=False)\n"
   ]
  },
  {
   "cell_type": "code",
   "execution_count": 3,
   "metadata": {},
   "outputs": [],
   "source": [
    "countrycodes = pd.read_csv('/Users/finneganlaister-smith/Downloads/DEV ENVIRONMENT/data-science-jupyter-template-main/countries_and_codes.csv')\n"
   ]
  },
  {
   "cell_type": "markdown",
   "metadata": {},
   "source": [
    "# FUNCTIONS"
   ]
  },
  {
   "cell_type": "code",
   "execution_count": 4,
   "metadata": {},
   "outputs": [],
   "source": [
    "from difflib import SequenceMatcher\n",
    "def get_best_match(query, choices):\n",
    "    return max(choices, key=lambda choice: SequenceMatcher(None, query, choice).ratio())\n",
    "\n",
    "\n",
    "# Function to remove accents\n",
    "def remove_accents(text):\n",
    "    return unidecode(text)\n",
    "\n",
    "def get_country_code(country):\n",
    "    matching_rows = countrycodes.loc[countrycodes['Country'] == country, ' Code']\n",
    "    return matching_rows.iloc[0] if not matching_rows.empty else None\n",
    "# Apply the function to create Player IDs in the salaries DataFrame"
   ]
  },
  {
   "cell_type": "markdown",
   "metadata": {},
   "source": [
    "# LOOKING AT DATA"
   ]
  },
  {
   "cell_type": "code",
   "execution_count": 5,
   "metadata": {},
   "outputs": [
    {
     "data": {
      "text/html": [
       "<div>\n",
       "<style scoped>\n",
       "    .dataframe tbody tr th:only-of-type {\n",
       "        vertical-align: middle;\n",
       "    }\n",
       "\n",
       "    .dataframe tbody tr th {\n",
       "        vertical-align: top;\n",
       "    }\n",
       "\n",
       "    .dataframe thead th {\n",
       "        text-align: right;\n",
       "    }\n",
       "</style>\n",
       "<table border=\"1\" class=\"dataframe\">\n",
       "  <thead>\n",
       "    <tr style=\"text-align: right;\">\n",
       "      <th></th>\n",
       "      <th>Name</th>\n",
       "      <th>Nationality</th>\n",
       "      <th>Position</th>\n",
       "      <th>Market Value</th>\n",
       "      <th>Season</th>\n",
       "      <th>League</th>\n",
       "      <th>Team</th>\n",
       "      <th>Team 1 Code</th>\n",
       "      <th>Birthday</th>\n",
       "      <th>Age</th>\n",
       "      <th>PlayerID</th>\n",
       "      <th>Accents Removed</th>\n",
       "    </tr>\n",
       "  </thead>\n",
       "  <tbody>\n",
       "    <tr>\n",
       "      <th>0</th>\n",
       "      <td>Joe Hart</td>\n",
       "      <td>England</td>\n",
       "      <td>Goalkeeper</td>\n",
       "      <td>16000000.0</td>\n",
       "      <td>2013</td>\n",
       "      <td>EPL</td>\n",
       "      <td>Manchester City</td>\n",
       "      <td>EN</td>\n",
       "      <td>Apr 19, 1987</td>\n",
       "      <td>27</td>\n",
       "      <td>Joe Hart_Apr 19, 1987_England</td>\n",
       "      <td>Joe Hart</td>\n",
       "    </tr>\n",
       "    <tr>\n",
       "      <th>1</th>\n",
       "      <td>Costel Pantilimon</td>\n",
       "      <td>Romania</td>\n",
       "      <td>Goalkeeper</td>\n",
       "      <td>2500000.0</td>\n",
       "      <td>2013</td>\n",
       "      <td>EPL</td>\n",
       "      <td>Manchester City</td>\n",
       "      <td>RO</td>\n",
       "      <td>Feb 01, 1987</td>\n",
       "      <td>27</td>\n",
       "      <td>Costel Pantilimon_Feb 01, 1987_Romania</td>\n",
       "      <td>Costel Pantilimon</td>\n",
       "    </tr>\n",
       "    <tr>\n",
       "      <th>2</th>\n",
       "      <td>Richard Wright</td>\n",
       "      <td>England</td>\n",
       "      <td>Goalkeeper</td>\n",
       "      <td>250000.0</td>\n",
       "      <td>2013</td>\n",
       "      <td>EPL</td>\n",
       "      <td>Manchester City</td>\n",
       "      <td>EN</td>\n",
       "      <td>Nov 05, 1977</td>\n",
       "      <td>36</td>\n",
       "      <td>Richard Wright_Nov 05, 1977_England</td>\n",
       "      <td>Richard Wright</td>\n",
       "    </tr>\n",
       "    <tr>\n",
       "      <th>3</th>\n",
       "      <td>Vincent Kompany</td>\n",
       "      <td>Belgium</td>\n",
       "      <td>Centre-Back</td>\n",
       "      <td>35000000.0</td>\n",
       "      <td>2013</td>\n",
       "      <td>EPL</td>\n",
       "      <td>Manchester City</td>\n",
       "      <td>BE</td>\n",
       "      <td>Apr 10, 1986</td>\n",
       "      <td>28</td>\n",
       "      <td>Vincent Kompany_Apr 10, 1986_Belgium</td>\n",
       "      <td>Vincent Kompany</td>\n",
       "    </tr>\n",
       "    <tr>\n",
       "      <th>4</th>\n",
       "      <td>Matija Nastasic</td>\n",
       "      <td>Serbia</td>\n",
       "      <td>Centre-Back</td>\n",
       "      <td>21000000.0</td>\n",
       "      <td>2013</td>\n",
       "      <td>EPL</td>\n",
       "      <td>Manchester City</td>\n",
       "      <td>RS</td>\n",
       "      <td>Mar 28, 1993</td>\n",
       "      <td>21</td>\n",
       "      <td>Matija Nastasic_Mar 28, 1993_Serbia</td>\n",
       "      <td>Matija Nastasic</td>\n",
       "    </tr>\n",
       "  </tbody>\n",
       "</table>\n",
       "</div>"
      ],
      "text/plain": [
       "                Name Nationality     Position Market Value  Season League  \\\n",
       "0           Joe Hart     England   Goalkeeper   16000000.0    2013    EPL   \n",
       "1  Costel Pantilimon     Romania   Goalkeeper    2500000.0    2013    EPL   \n",
       "2     Richard Wright     England   Goalkeeper     250000.0    2013    EPL   \n",
       "3    Vincent Kompany     Belgium  Centre-Back   35000000.0    2013    EPL   \n",
       "4    Matija Nastasic      Serbia  Centre-Back   21000000.0    2013    EPL   \n",
       "\n",
       "              Team Team 1 Code      Birthday  Age  \\\n",
       "0  Manchester City          EN  Apr 19, 1987   27   \n",
       "1  Manchester City          RO  Feb 01, 1987   27   \n",
       "2  Manchester City          EN  Nov 05, 1977   36   \n",
       "3  Manchester City          BE  Apr 10, 1986   28   \n",
       "4  Manchester City          RS  Mar 28, 1993   21   \n",
       "\n",
       "                                 PlayerID    Accents Removed  \n",
       "0           Joe Hart_Apr 19, 1987_England           Joe Hart  \n",
       "1  Costel Pantilimon_Feb 01, 1987_Romania  Costel Pantilimon  \n",
       "2     Richard Wright_Nov 05, 1977_England     Richard Wright  \n",
       "3    Vincent Kompany_Apr 10, 1986_Belgium    Vincent Kompany  \n",
       "4     Matija Nastasic_Mar 28, 1993_Serbia    Matija Nastasic  "
      ]
     },
     "execution_count": 5,
     "metadata": {},
     "output_type": "execute_result"
    }
   ],
   "source": [
    "current_dataset.head(5)"
   ]
  },
  {
   "cell_type": "code",
   "execution_count": 6,
   "metadata": {},
   "outputs": [
    {
     "data": {
      "text/html": [
       "<div>\n",
       "<style scoped>\n",
       "    .dataframe tbody tr th:only-of-type {\n",
       "        vertical-align: middle;\n",
       "    }\n",
       "\n",
       "    .dataframe tbody tr th {\n",
       "        vertical-align: top;\n",
       "    }\n",
       "\n",
       "    .dataframe thead th {\n",
       "        text-align: right;\n",
       "    }\n",
       "</style>\n",
       "<table border=\"1\" class=\"dataframe\">\n",
       "  <thead>\n",
       "    <tr style=\"text-align: right;\">\n",
       "      <th></th>\n",
       "      <th>Name</th>\n",
       "      <th>Nationality</th>\n",
       "      <th>Position</th>\n",
       "      <th>Market Value</th>\n",
       "      <th>Season</th>\n",
       "      <th>Club</th>\n",
       "      <th>Birthday</th>\n",
       "      <th>Age</th>\n",
       "      <th>PlayerID</th>\n",
       "    </tr>\n",
       "  </thead>\n",
       "  <tbody>\n",
       "    <tr>\n",
       "      <th>0</th>\n",
       "      <td>Sergio Romero</td>\n",
       "      <td>Argentina</td>\n",
       "      <td>Goalkeeper</td>\n",
       "      <td>€4.00m</td>\n",
       "      <td>2013</td>\n",
       "      <td>CA Boca Juniors</td>\n",
       "      <td>Feb 22, 1987</td>\n",
       "      <td>25.0</td>\n",
       "      <td>Sergio Romero_Feb 22, 1987_Argentina</td>\n",
       "    </tr>\n",
       "    <tr>\n",
       "      <th>1</th>\n",
       "      <td>Mariano Andújar</td>\n",
       "      <td>Argentina</td>\n",
       "      <td>Goalkeeper</td>\n",
       "      <td>€4.00m</td>\n",
       "      <td>2013</td>\n",
       "      <td>Retired</td>\n",
       "      <td>Jul 30, 1983</td>\n",
       "      <td>29.0</td>\n",
       "      <td>Mariano Andújar_Jul 30, 1983_Argentina</td>\n",
       "    </tr>\n",
       "    <tr>\n",
       "      <th>2</th>\n",
       "      <td>Agustín Orión</td>\n",
       "      <td>Argentina</td>\n",
       "      <td>Goalkeeper</td>\n",
       "      <td>€1.00m</td>\n",
       "      <td>2013</td>\n",
       "      <td>Retired</td>\n",
       "      <td>Jun 26, 1981</td>\n",
       "      <td>31.0</td>\n",
       "      <td>Agustín Orión_Jun 26, 1981_Argentina</td>\n",
       "    </tr>\n",
       "    <tr>\n",
       "      <th>3</th>\n",
       "      <td>Óscar Ustari</td>\n",
       "      <td>Argentina</td>\n",
       "      <td>Goalkeeper</td>\n",
       "      <td>€800k</td>\n",
       "      <td>2013</td>\n",
       "      <td>Without Club</td>\n",
       "      <td>Jul 3, 1986</td>\n",
       "      <td>26.0</td>\n",
       "      <td>Óscar Ustari_Jul 3, 1986_Argentina</td>\n",
       "    </tr>\n",
       "    <tr>\n",
       "      <th>4</th>\n",
       "      <td>Ezequiel Garay</td>\n",
       "      <td>Argentina</td>\n",
       "      <td>Centre-Back</td>\n",
       "      <td>€14.00m</td>\n",
       "      <td>2013</td>\n",
       "      <td>Retired</td>\n",
       "      <td>Oct 10, 1986</td>\n",
       "      <td>26.0</td>\n",
       "      <td>Ezequiel Garay_Oct 10, 1986_Argentina</td>\n",
       "    </tr>\n",
       "  </tbody>\n",
       "</table>\n",
       "</div>"
      ],
      "text/plain": [
       "              Name Nationality     Position Market Value  Season  \\\n",
       "0    Sergio Romero   Argentina   Goalkeeper       €4.00m    2013   \n",
       "1  Mariano Andújar   Argentina   Goalkeeper       €4.00m    2013   \n",
       "2    Agustín Orión   Argentina   Goalkeeper       €1.00m    2013   \n",
       "3     Óscar Ustari   Argentina   Goalkeeper        €800k    2013   \n",
       "4   Ezequiel Garay   Argentina  Centre-Back      €14.00m    2013   \n",
       "\n",
       "              Club      Birthday   Age                                PlayerID  \n",
       "0  CA Boca Juniors  Feb 22, 1987  25.0    Sergio Romero_Feb 22, 1987_Argentina  \n",
       "1          Retired  Jul 30, 1983  29.0  Mariano Andújar_Jul 30, 1983_Argentina  \n",
       "2          Retired  Jun 26, 1981  31.0    Agustín Orión_Jun 26, 1981_Argentina  \n",
       "3     Without Club   Jul 3, 1986  26.0      Óscar Ustari_Jul 3, 1986_Argentina  \n",
       "4          Retired  Oct 10, 1986  26.0   Ezequiel Garay_Oct 10, 1986_Argentina  "
      ]
     },
     "execution_count": 6,
     "metadata": {},
     "output_type": "execute_result"
    }
   ],
   "source": [
    "new_data.head(5)"
   ]
  },
  {
   "cell_type": "markdown",
   "metadata": {},
   "source": [
    "## WORKING WITH NEW DATA"
   ]
  },
  {
   "cell_type": "markdown",
   "metadata": {},
   "source": [
    "### Edit market value"
   ]
  },
  {
   "cell_type": "code",
   "execution_count": 7,
   "metadata": {},
   "outputs": [],
   "source": [
    "value_rows_with_currency_symbol = new_data[new_data['Market Value'].str.contains('€', na=False)].reset_index()"
   ]
  },
  {
   "cell_type": "code",
   "execution_count": 8,
   "metadata": {},
   "outputs": [],
   "source": [
    "for i in range(0, len(new_data)):\n",
    "#for i in range(0, 3):\n",
    "\n",
    "    #index_correct = value_data.at[i, 'index']\n",
    "\n",
    "    money_column = new_data.at[i, 'Market Value']\n",
    "\n",
    "    if 'm' in money_column:\n",
    "        value_rough = money_column.split('m')[0].split('€')[1]\n",
    "        millinum = (float(value_rough) * 1000000)\n",
    "\n",
    "        new_data.at[i, 'Market Value'] = millinum\n",
    "    elif 'k' in money_column:\n",
    "        #print(i, 'k')\n",
    "        value_rough = money_column.split('k')[0].split('€')[1]\n",
    "        millinum = (float(value_rough) * 1000)\n",
    "\n",
    "        new_data.at[i, 'Market Value'] = millinum\n",
    "    elif '-' in money_column:\n",
    "        new_data.at[i, 'Market Value'] = 0\n",
    "    else:\n",
    "        print(money_column)\n"
   ]
  },
  {
   "cell_type": "markdown",
   "metadata": {},
   "source": [
    "### Accents Removed"
   ]
  },
  {
   "cell_type": "code",
   "execution_count": 9,
   "metadata": {},
   "outputs": [],
   "source": [
    "new_data['Accents Removed'] = new_data['Name'].apply(lambda x: unidecode(x))\n"
   ]
  },
  {
   "cell_type": "markdown",
   "metadata": {},
   "source": [
    "### Adding Country ID"
   ]
  },
  {
   "cell_type": "code",
   "execution_count": 10,
   "metadata": {},
   "outputs": [
    {
     "data": {
      "text/plain": [
       "{'British Virgin Islands', 'Tahiti'}"
      ]
     },
     "execution_count": 10,
     "metadata": {},
     "output_type": "execute_result"
    }
   ],
   "source": [
    "notfoundset = []\n",
    "for i in range(0, len(new_data)):\n",
    "    this_country = new_data.at[i, 'Nationality']\n",
    "\n",
    "    if(this_country.endswith('U-20')):\n",
    "        this_country = this_country.split(' U-20')[0]\n",
    "\n",
    "    if(this_country == 'Czech Republic'):\n",
    "        this_country = 'Czech'\n",
    "\n",
    "    if(this_country == 'Bosnia-Herzegovina'):\n",
    "        this_country = 'Bosnia'\n",
    "    \n",
    "    if(this_country == 'Brunei Darussalam'):\n",
    "        this_country = 'Brunei'\n",
    "    \n",
    "    if(this_country == 'China'):\n",
    "        this_country = 'China PR'\n",
    "    \n",
    "    if(this_country == 'Curacao'):\n",
    "        this_country = 'Curaçao'\n",
    "    \n",
    "    if(this_country == 'Korea, North'):\n",
    "        this_country = 'North Korea'\n",
    "    \n",
    "    if(this_country == 'Korea, South'):\n",
    "        this_country = 'South Korea'\n",
    "    \n",
    "    if(this_country == 'Macao'):\n",
    "        this_country = 'Macau'\n",
    "    \n",
    "    if(this_country == 'Neukaledonien'):\n",
    "        this_country = 'New Caledonia'\n",
    "    \n",
    "    if(this_country == 'Neukaledonien'):\n",
    "        this_country = 'New Caledonia'\n",
    "    \n",
    "    if(this_country == 'Northern Ireland'):\n",
    "        this_country = 'North. Ireland'\n",
    "    \n",
    "    if(this_country == 'Saint-Martin'):\n",
    "        this_country = 'St. Martin'\n",
    "    \n",
    "    if(this_country == 'Sao Tome and Principe'):\n",
    "        this_country = 'Sao Tome'\n",
    "    \n",
    "    if(this_country == 'St. Kitts &amp; Nevis'):\n",
    "        this_country = 'Saint Kitts and Nevis'\n",
    "    \n",
    "    if(this_country == 'St. Lucia'):\n",
    "        this_country = 'Saint Lucia'\n",
    "    \n",
    "    if(this_country == 'United States'):\n",
    "        this_country = 'USA'\n",
    "\n",
    "    if(this_country == 'Democratic Republic of the Congo'):\n",
    "        this_country = 'DR Congo'\n",
    "\n",
    "    if(this_country == 'Republic of the Congo'):\n",
    "        this_country = 'Congo R'\n",
    "\n",
    "    if(this_country == 'Turks and Caicos Islands'):\n",
    "        this_country = 'Turks and Caicos Iss'\n",
    "\n",
    "    if(this_country == 'United States Virgin Islands'):\n",
    "        this_country = 'US Virgin Islands'\n",
    "    \n",
    "\n",
    "    code_df = countrycodes[countrycodes['Country'] == this_country].reset_index()\n",
    "    if(len(code_df) == 0):\n",
    "        #print(f\"{this_country} not found\")\n",
    "        notfoundset.append(this_country)\n",
    "    elif(len(code_df) == 1):\n",
    "        0==0\n",
    "        #values.at[i, 'Team 1 Code'] = code_df.at[0, ' Code']\n",
    "\n",
    "set(notfoundset)\n"
   ]
  },
  {
   "cell_type": "code",
   "execution_count": 11,
   "metadata": {},
   "outputs": [],
   "source": [
    "\n",
    "\n",
    "# Add a new column 'Accents Removed'\n",
    "\n",
    "data = {'Country': ['British Virgin Islands'], ' Code': ['BVI'], 'Accents Removed': ['British Virgin Islands']}\n",
    "one_row_dataframe = pd.DataFrame(data)\n",
    "countrycodes = pd.concat([countrycodes, one_row_dataframe], ignore_index=True)\n",
    "\n",
    "data = {'Country': ['Tahiti'], ' Code': ['TI'], 'Accents Removed': ['Tahiti']}\n",
    "one_row_dataframe = pd.DataFrame(data)\n",
    "countrycodes = pd.concat([countrycodes, one_row_dataframe], ignore_index=True)\n",
    "\n",
    "countrycodes['Accents Removed'] = countrycodes['Country'].apply(remove_accents)\n",
    "\n"
   ]
  },
  {
   "cell_type": "code",
   "execution_count": 11,
   "metadata": {},
   "outputs": [],
   "source": [
    "new_data['Team 1 Code'] = new_data['Nationality'].apply(get_country_code)\n"
   ]
  },
  {
   "cell_type": "markdown",
   "metadata": {},
   "source": [
    "### Add League (blank for now)"
   ]
  },
  {
   "cell_type": "code",
   "execution_count": 12,
   "metadata": {},
   "outputs": [],
   "source": [
    "new_data['League'] = ''"
   ]
  },
  {
   "cell_type": "code",
   "execution_count": 13,
   "metadata": {},
   "outputs": [],
   "source": [
    "new_data.rename(columns={'Club': 'Team'}, inplace=True)\n"
   ]
  },
  {
   "cell_type": "code",
   "execution_count": 14,
   "metadata": {},
   "outputs": [],
   "source": [
    "desired_order = ['Name', 'Nationality', 'Position', 'Market Value', 'Season', 'League', 'Team', 'Team 1 Code', 'Birthday', 'Age', 'PlayerID', 'Accents Removed']\n",
    "new_data = new_data[desired_order]"
   ]
  },
  {
   "cell_type": "markdown",
   "metadata": {},
   "source": [
    "# CHECKING PLAYER IDs"
   ]
  },
  {
   "cell_type": "markdown",
   "metadata": {},
   "source": [
    "### First - fixing birthdays and IDs"
   ]
  },
  {
   "cell_type": "markdown",
   "metadata": {},
   "source": [
    "### Fixing N/A Birthdays"
   ]
  },
  {
   "cell_type": "code",
   "execution_count": 15,
   "metadata": {},
   "outputs": [],
   "source": [
    "for index, row in new_data.iterrows():\n",
    "    if pd.isnull(row['Birthday']):\n",
    "        if not pd.isnull(row['Age']):\n",
    "            # If Age is known, calculate Birthday\n",
    "            birth_year = int(row['Season']) - int(row['Age'])\n",
    "            birthday = f\"Jan 01, {birth_year}\"\n",
    "        else:\n",
    "            # If Age is not known, set to Jan 01, 2000\n",
    "            birthday = \"Jan 01, 2000\"\n",
    "        \n",
    "        # Update Birthday column\n",
    "        new_data.at[index, 'Birthday'] = birthday\n",
    "        \n",
    "        # Update PlayerID\n",
    "        if \"N/A\" in row['PlayerID']:\n",
    "            new_data.at[index, 'PlayerID'] = f\"{row['Name']}_{birthday}_{row['Nationality']}\"\n",
    "        else:\n",
    "            # Find the first instance of \"_\" and insert Birthday after that\n",
    "            pos = row['PlayerID'].find('_')\n",
    "            new_data.at[index, 'PlayerID'] = row['PlayerID'][:pos+1] + birthday + '_' + row['PlayerID'][pos+1:]"
   ]
  },
  {
   "cell_type": "markdown",
   "metadata": {},
   "source": [
    "### Resolving edge cases"
   ]
  },
  {
   "cell_type": "code",
   "execution_count": 16,
   "metadata": {},
   "outputs": [],
   "source": [
    "new_data.at[10074, 'Birthday'] = 'Jan 01, 1985'\n",
    "new_data.at[10074, 'Age'] = 29\n",
    "new_data.at[10074, 'PlayerID'] = 'Mykyta Kamenyuka_Jan 01, 1985_Ukraine'\n",
    "\n",
    "new_data.at[10119, 'Birthday'] = 'Jan 01, 1985'\n",
    "new_data.at[10119, 'Age'] = 30\n",
    "new_data.at[10119, 'PlayerID'] = 'Mykyta Kamenyuka_Jan 01, 1985_Ukraine'\n",
    "\n",
    "new_data.at[11089, 'Birthday'] = 'Jan 01, 1983'\n",
    "new_data.at[11089, 'Age'] = 32\n",
    "new_data.at[11089, 'PlayerID'] = 'Robert Almer_Jan 01, 1983_Austria'\n",
    "\n",
    "new_data.at[49739, 'Birthday'] = 'Jan 01, 1987'\n",
    "new_data.at[49739, 'Age'] = 27\n",
    "new_data.at[49739, 'PlayerID'] = \"Ibrahima Sy_Jan 01, 1987_Mauritania\""
   ]
  },
  {
   "cell_type": "markdown",
   "metadata": {},
   "source": [
    "### Fixing single digit date for birthday"
   ]
  },
  {
   "cell_type": "code",
   "execution_count": null,
   "metadata": {},
   "outputs": [],
   "source": [
    "# test_BD = \"Feb 1, 1987\"\n",
    "# day = test_BD.split()[1].split(',')[0]\n",
    "\n",
    "# #f\"{test_BD[:3]} 0{test_BD[4:]}\"\n",
    "\n",
    "# f\"{test_BD[:3]} 0{day}{test_BD[5:]}\"\n",
    "\n",
    "#new_data.at[index, 'PlayerID'].replace(original_date, new_birthday)"
   ]
  },
  {
   "cell_type": "code",
   "execution_count": 17,
   "metadata": {},
   "outputs": [],
   "source": [
    "for index, row in new_data.iterrows():\n",
    "    # Split the day and handle cases with a comma\n",
    "    day = row['Birthday'].split()[1].split(',')[0]\n",
    "    \n",
    "    # Check if the day is a single digit\n",
    "    if len(day) == 1:\n",
    "        # If it's a single digit, add a leading zero\n",
    "        new_birthday = f\"{row['Birthday'][:3]} 0{day}{row['Birthday'][5:]}\"\n",
    "        \n",
    "        # Update the 'Birthday' column with the new date\n",
    "        new_data.at[index, 'Birthday'] = new_birthday\n",
    "        \n",
    "        # Update the 'PlayerID' column with the new date\n",
    "        original_date = row['Birthday']\n",
    "        new_data.at[index, 'PlayerID'] = new_data.at[index, 'PlayerID'].replace(original_date, new_birthday)"
   ]
  },
  {
   "cell_type": "markdown",
   "metadata": {},
   "source": [
    "### Comparing player IDs"
   ]
  },
  {
   "cell_type": "markdown",
   "metadata": {},
   "source": [
    "### Venn Diagram method"
   ]
  },
  {
   "cell_type": "code",
   "execution_count": null,
   "metadata": {},
   "outputs": [],
   "source": [
    "tracking_DF = pd.DataFrame()"
   ]
  },
  {
   "cell_type": "code",
   "execution_count": 28,
   "metadata": {},
   "outputs": [],
   "source": [
    "for i in range(0, len(new_data)): #len(new_data)\n",
    "    this_player_ID = new_data.at[i, 'PlayerID']\n",
    "    #print(f'id # {i}: ', this_player_ID)\n",
    "    newdatasetplayer = new_data[new_data['PlayerID'] == this_player_ID]\n",
    "\n",
    "    current_Dataset_player = current_dataset[current_dataset['PlayerID'] == this_player_ID]\n",
    "\n",
    "    if(len(current_Dataset_player) == 0):\n",
    "        #they are not in the CURRENT DATASET - CASE C.\n",
    "        #IF ANY OF THE ROWS ARE 0 MV\n",
    "            #THEN DO A FOR LOOP \n",
    "        current_dataset = pd.concat([current_dataset, newdatasetplayer], ignore_index=True)\n",
    "    else:\n",
    "        0==0\n",
    "        # #TASK 1 - ADD SEASONS THAT CURRENT DATASET DOESN'T HAVE\n",
    "        # curr_data_seasons = set(current_Dataset_player['Season'].unique())\n",
    "        # new_data_seasons = set(newdatasetplayer['Season'].unique())\n",
    "\n",
    "        # #print('   seasons, current data: ', curr_data_seasons, 'new data: ', new_data_seasons)\n",
    "\n",
    "        # seasons_diff = (new_data_seasons - curr_data_seasons)\n",
    "        # seasons_diff = list(seasons_diff)\n",
    "        # if(len(seasons_diff) == 0):\n",
    "        #     0==0\n",
    "        #     #print(f'   TASK 1 NO. new dataset doesn\\'t have any seasons current data does not have.')\n",
    "        # else:\n",
    "        #     #print('   TASK 1 YA')\n",
    "        #     for j in range(0, len(seasons_diff)):\n",
    "        #         #print('       adding seasons from new data: ', seasons_diff[j])\n",
    "        #         thatseason = newdatasetplayer[newdatasetplayer['Season'] == seasons_diff[j]]\n",
    "\n",
    "        #         current_dataset = pd.concat([current_dataset, thatseason], ignore_index=True)\n",
    "\n",
    "        # #TASK 2 - REPLACE SEASONS WHERE CURRENT DATASET HAS MV == 0\n",
    "        # seasonschanged = 0\n",
    "        # for k in range(0, len(curr_data_seasons)):\n",
    "            \n",
    "        #     curr_season = list(curr_data_seasons)[k]\n",
    "        #     this_season_curr_data = current_Dataset_player[current_Dataset_player['Season'] == curr_season].reset_index()\n",
    "\n",
    "        #     if(len(this_season_curr_data) >= 2):\n",
    "        #         0==0\n",
    "        #         #print('    there was more than 1 record for the same season in the current data: ', curr_season)\n",
    "        #         #the goal here is take the max value of the set. but if they're all 0, act accordingly\n",
    "        #     elif(len(this_season_curr_data) == 1):   \n",
    "        #         0==0\n",
    "        #         if(this_season_curr_data.at[0, 'Market Value'] == 0):\n",
    "        #         #if the market value is equal to zero, substitute the data from the new dataset in\n",
    "        #             new_data_same_season =  new_data[new_data['Season'] == curr_season].reset_index()\n",
    "        #             market_value_new_data_same_season = new_data_same_season.at[0, 'Market Value']\n",
    "\n",
    "        #             correct_season_index = this_season_curr_data.at[0, 'index']\n",
    "        #             #print('    TASK 2 YA. replacing market value with: ', market_value_new_data_same_season)\n",
    "        #             current_dataset.at[correct_season_index, 'Market Value'] = market_value_new_data_same_season\n",
    "        #             seasonschanged += 1\n",
    "        #         else:\n",
    "        #             0==0 #that means the market value is not zero. \n",
    "        #             #so we do nothing\n",
    "        # if(seasonschanged == 0):\n",
    "        #     0==0\n",
    "        #     #print('    Task 2 NO')\n"
   ]
  },
  {
   "cell_type": "code",
   "execution_count": 31,
   "metadata": {},
   "outputs": [],
   "source": [
    "current_dataset.to_csv('most_updated_transfermarkt_dataset.csv', index=False)\n"
   ]
  },
  {
   "cell_type": "markdown",
   "metadata": {},
   "source": [
    "#### INDEX USING NEW DATASET"
   ]
  },
  {
   "cell_type": "code",
   "execution_count": null,
   "metadata": {},
   "outputs": [],
   "source": [
    "for i in range(0, 10):#127\n",
    "    this_player_ID = new_data.at[i, 'PlayerID']"
   ]
  },
  {
   "cell_type": "markdown",
   "metadata": {},
   "source": [
    "#### INDEXING USING CURRENT DATASET"
   ]
  },
  {
   "cell_type": "code",
   "execution_count": null,
   "metadata": {},
   "outputs": [],
   "source": [
    "#for i in range(0, len(current_dataset)):\n",
    "for i in range(0, 10):#127\n",
    "\n",
    "    this_player_ID = current_dataset.at[i, 'PlayerID']\n",
    "\n",
    "    counter_singlematch = 0\n",
    "    counter_multi_match = 0\n",
    "    counter_nomatches = 0\n",
    "\n",
    "    #if that ID is in the dataset \n",
    "    new_data_player = new_data[new_data['PlayerID'] == this_player_ID]\n",
    "\n",
    "    if(len(new_data_player['Name'].value_counts()) == 1):\n",
    "        #that nationality + birthday isn't in the dataset\n",
    "        counter_singlematch+=1\n",
    "    elif(len(new_data_player['Name'].value_counts()) >= 2):\n",
    "        #more than 1 name in this set???\n",
    "        counter_multi_match += 1\n",
    "    elif(len(new_data_player) == 0):\n",
    "        counter_nomatches += 1\n",
    "\n",
    "        #this_name = current_dataset.at[i, 'Name']\n",
    "        this_bd = current_dataset.at[i, 'Birthday']\n",
    "        this_natl = current_dataset.at[i, 'Nationality']\n",
    "\n",
    "        subset_bd_natl = new_data[(new_data['Nationality']==this_natl) & (new_data['Birthday']==this_bd)]\n",
    "\n",
    "        if(len(subset_bd_natl) == 0):\n",
    "            0==0\n",
    "        else:\n",
    "            print(i, 'bd natl match', current_dataset.at[i, 'Name'], subset_bd_natl['Name'].unique())\n",
    "\n"
   ]
  },
  {
   "cell_type": "code",
   "execution_count": null,
   "metadata": {},
   "outputs": [],
   "source": [
    "# for i in range(0, len(new_data)):\n",
    "#     this_player_ID = new_data.at[i, 'PlayerID']\n",
    "\n",
    "#     #if that is in the dataset \n",
    "#     current_Dataset_player = current_dataset[current_dataset['PlayerID'] == this_player_ID]\n",
    "\n",
    "#     if(len(current_Dataset_player) == 0):\n",
    "#         #that ID isn't in the dataset\n",
    "#         0==0\n",
    "#     elif(len(current_Dataset_player['Name'].value_counts()) >= 2):\n",
    "#         #more than 1 name in this set???\n",
    "#         0==0"
   ]
  }
 ],
 "metadata": {
  "kernelspec": {
   "display_name": "Python 3",
   "language": "python",
   "name": "python3"
  },
  "language_info": {
   "codemirror_mode": {
    "name": "ipython",
    "version": 3
   },
   "file_extension": ".py",
   "mimetype": "text/x-python",
   "name": "python",
   "nbconvert_exporter": "python",
   "pygments_lexer": "ipython3",
   "version": "3.12.0"
  }
 },
 "nbformat": 4,
 "nbformat_minor": 2
}
