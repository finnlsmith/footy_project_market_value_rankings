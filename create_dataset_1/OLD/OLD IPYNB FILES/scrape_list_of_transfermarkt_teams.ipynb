{
 "cells": [
  {
   "cell_type": "code",
   "execution_count": 27,
   "metadata": {},
   "outputs": [],
   "source": [
    "import pandas as pd\n",
    "import os\n",
    "import requests\n",
    "from bs4 import BeautifulSoup\n",
    "import pandas as pd\n",
    "from datetime import datetime\n"
   ]
  },
  {
   "cell_type": "code",
   "execution_count": 28,
   "metadata": {},
   "outputs": [
    {
     "data": {
      "text/plain": [
       "'/Users/finneganlaister-smith/Downloads/DEV ENVIRONMENT/data-science-jupyter-template-main/Zalreadydone'"
      ]
     },
     "execution_count": 28,
     "metadata": {},
     "output_type": "execute_result"
    }
   ],
   "source": [
    "os.getcwd()"
   ]
  },
  {
   "cell_type": "code",
   "execution_count": 29,
   "metadata": {},
   "outputs": [],
   "source": [
    "seasons_teams = pd.read_csv(\"/Users/finneganlaister-smith/Downloads/DEV ENVIRONMENT/data-science-jupyter-template-main/teams in top division by season, 2013-24.csv\")"
   ]
  },
  {
   "cell_type": "code",
   "execution_count": 30,
   "metadata": {},
   "outputs": [],
   "source": [
    "import ast\n",
    "\n",
    "def parse_string_to_list(input_string):\n",
    "    try:\n",
    "        # Use ast.literal_eval to safely evaluate the string as a Python literal\n",
    "        result_list = ast.literal_eval(input_string)\n",
    "        return result_list\n",
    "    except (SyntaxError, ValueError) as e:\n",
    "        # Handle potential errors in parsing the string\n",
    "        print(f\"Error: {e}\")\n",
    "        return None"
   ]
  },
  {
   "cell_type": "code",
   "execution_count": 31,
   "metadata": {},
   "outputs": [],
   "source": [
    "def grab_transfer_pagesoup(input_url):\n",
    "    headers = {'User-Agent': 'Mozilla/5.0 (X11; Linux x86_64) AppleWebKit/537.36 (KHTML, like Gecko) Chrome/47.0.2526.106 Safari/537.36'}\n",
    "    pageTree = requests.get (input_url, headers = headers)\n",
    "    pageSoup_club = BeautifulSoup (pageTree.content, 'html.parser')\n",
    "    \n",
    "    return pageSoup_club"
   ]
  },
  {
   "cell_type": "code",
   "execution_count": 32,
   "metadata": {},
   "outputs": [],
   "source": [
    "def find_url_and_code(input_club_name, input_season_year):\n",
    "    search = f\"{input_club_name} Squad {input_season_year} Transfermarkt\"\n",
    "    url = 'https://www.google.com/search'\n",
    "\n",
    "    headers = {'Accept' : '*/*', 'Accept-Language': 'en-US,en;q=0.5','User-Agent': 'Mozilla/5.0 (Windows NT 10.0; Win64; x64) AppleWebKit/537.36 (KHTML, like Gecko) Chrome/98.0.4758.82',\n",
    "}\n",
    "    parameters = {'q': search}\n",
    "\n",
    "    content = requests.get(url, headers = headers, params = parameters).text\n",
    "    soup = BeautifulSoup(content, 'html.parser')\n",
    "\n",
    "    search = soup.find(id = 'search')\n",
    "    first_link = search.find('a')\n",
    "\n",
    "    url_tosplit = (first_link['href'])\n",
    "\n",
    "    name_club = url_tosplit.split('/')[3]\n",
    "    code_club = url_tosplit.split('/')[6]\n",
    "\n",
    "    #url_to_return = f\"https://www.transfermarkt.us/{name_club}/alletransfers/verein/{code_club}\"\n",
    "\n",
    "    return name_club, code_club\n",
    "\n",
    "    \n",
    "\n",
    "    "
   ]
  },
  {
   "cell_type": "code",
   "execution_count": 33,
   "metadata": {},
   "outputs": [],
   "source": [
    "#youre gonna have the team name and the season \n",
    "\n",
    "#the function needs to have those as inputs and spit out the URL \n",
    "\n",
    "def generate_url(input_club_name, input_code, input_szn):\n",
    "    return f\"https://www.transfermarkt.us/{input_club_name}/kader/verein/{input_code}/plus/1/galerie/0?saison_id={input_szn}\"\n"
   ]
  },
  {
   "cell_type": "code",
   "execution_count": 34,
   "metadata": {},
   "outputs": [],
   "source": [
    "def grab_squad_table(input_pagesoup):\n",
    "    #NAMES \n",
    "    Players_set = input_pagesoup.find_all(\"td\", {\"class\": \"hauptlink\"})\n",
    "    #AGE NATIONALITY CURRENT CLUB \n",
    "    zentriert_set = input_pagesoup.find_all(\"td\", {\"class\": \"zentriert\"})\n",
    "    #value\n",
    "    value_set = input_pagesoup.find_all(\"td\", {\"class\": \"rechts hauptlink\"})\n",
    "    #POSITION / TEAMS PLAYED FOR \n",
    "    table_set = input_pagesoup.find_all(\"table\", {\"class\": \"inline-table\"})\n",
    "\n",
    "    players_names_array = []\n",
    "    ages_array = []\n",
    "    positions_array = []\n",
    "    nationality_array = []\n",
    "    market_value_array = [] \n",
    "\n",
    "    #age_index = 0\n",
    "    #nationality_index = 0\n",
    "    zentriert_Index = 0\n",
    "\n",
    "    for j in range(0, len(value_set)):\n",
    "        player_index = (j * 2) #at 1 this is 2\n",
    "        zentriert_Index = (j * 8) #at 1 this is 8\n",
    "        #table_index = (j * 4)\n",
    "    #name\n",
    "        players_names_array.append(Players_set[player_index].text.strip().encode().decode(\"utf-8\"))\n",
    "    #DOB\n",
    "        ages_array.append(zentriert_set[(zentriert_Index+1)].text.strip().encode().decode(\"utf-8\"))\n",
    "    #pos\n",
    "        positions_array.append(table_set[j].find_all(\"td\")[2].text.strip().encode().decode(\"utf-8\"))\n",
    "    #natl\n",
    "        nationality = str(zentriert_set[(zentriert_Index + 2)].find_all(\"img\", {\"class\": \"flaggenrahmen\"})).split(' ')\n",
    "        if(nationality[0] == '[]'):\n",
    "            nationality_array.append('None')\n",
    "        elif (len(nationality) == 5):\n",
    "            nationality_array.append(nationality[4][7:-4])\n",
    "        else:\n",
    "            issit = False\n",
    "            words_array = []\n",
    "            words_array.append(nationality[1].split('alt=\"')[1])\n",
    "            e = 2\n",
    "            while(issit == False):\n",
    "                #check if it starts with class\n",
    "                if(nationality[e].startswith('class')):\n",
    "                    #end it \n",
    "                    issit = True\n",
    "                    #print(nationality[e] + 'false')\n",
    "\n",
    "                else:\n",
    "                    #add it \n",
    "                    words_array.append(nationality[e].split('\"')[0]) #was \"/>]\"\n",
    "                    #print(nationality[e])\n",
    "                    e += 1\n",
    "                    \n",
    "            final_name = ' '.join(words_array)\n",
    "            nationality_array.append(final_name)\n",
    "    #value\n",
    "        market_value_array.append(value_set[j].text.strip().encode().decode(\"utf-8\"))\n",
    "\n",
    "    df_to_return = pd.DataFrame(\n",
    "        {\"Name\": players_names_array,\n",
    "        \"Age (that year)\": ages_array,\n",
    "        \"Nationality\": nationality_array,\n",
    "        \"Position\": positions_array,\n",
    "        \"Market Value\": market_value_array})\n",
    "\n",
    "    return df_to_return\n",
    "\n",
    "\n",
    "\n",
    "    "
   ]
  },
  {
   "cell_type": "markdown",
   "metadata": {},
   "source": [
    "# Running"
   ]
  },
  {
   "cell_type": "code",
   "execution_count": 35,
   "metadata": {},
   "outputs": [],
   "source": [
    "league_names = seasons_teams['League'].unique()\n",
    "seasons = list(range(2013, 2024))"
   ]
  },
  {
   "cell_type": "code",
   "execution_count": 36,
   "metadata": {},
   "outputs": [],
   "source": [
    "grand_dataframe_transfermarkt = pd.DataFrame()"
   ]
  },
  {
   "cell_type": "code",
   "execution_count": 40,
   "metadata": {},
   "outputs": [],
   "source": [
    "#loop through the leagues \n",
    "input_league = league_names[7]\n",
    "league_dataframe = pd.DataFrame()\n",
    "for i in range(0, len(seasons)):\n",
    "\n",
    "#for i in range(0, 1):\n",
    "    input_season = seasons[i]\n",
    "    \n",
    "    series1 = seasons_teams[(seasons_teams['League'] == f\"{input_league}\") & (seasons_teams['Season'] == input_season)]['Teams'].values\n",
    "    \n",
    "    input_string = series1[0]\n",
    "    \n",
    "    result_list_teams_season = parse_string_to_list(input_string)\n",
    "    \n",
    "    #loop through the teams \n",
    "    for j in range(0, len(result_list_teams_season)):\n",
    "        team = result_list_teams_season[j]\n",
    "\n",
    "        if(team == 'Vitesse'):\n",
    "            url = generate_url('vitesse-arnhem2', 499, input_season)\n",
    "        elif(team == 'Vitória'):\n",
    "            url = generate_url('vitoria-guimaraes-sc', 2420, input_season)\n",
    "        elif(team == 'Nacional'):\n",
    "            url = generate_url('cd-nacional', 982, input_season)\n",
    "        elif(team == 'Marítimo'):\n",
    "            url = generate_url('cs-maritimo', 1301, input_season)\n",
    "        else:\n",
    "            url_and_code = find_url_and_code(team, input_season)\n",
    "            url = generate_url(url_and_code[0], url_and_code[1], input_season)\n",
    "        \n",
    "        \n",
    "        squad_page = grab_transfer_pagesoup(url)\n",
    "        \n",
    "        squad_table = grab_squad_table(squad_page)\n",
    "\n",
    "        squad_table['Season'] = input_season\n",
    "        squad_table['League'] = input_league\n",
    "        squad_table['Team'] = team\n",
    "\n",
    "        league_dataframe = pd.concat([league_dataframe, squad_table], ignore_index=True)\n",
    "\n",
    "        #maybe make sure league_dataframe['Team'].value_counts() == the size of the league you expect "
   ]
  },
  {
   "cell_type": "code",
   "execution_count": 59,
   "metadata": {},
   "outputs": [
    {
     "name": "stdout",
     "output_type": "stream",
     "text": [
      "2013 16\n",
      "2014 18\n",
      "2015 18\n",
      "2016 18\n",
      "2017 18\n",
      "2018 18\n",
      "2019 18\n",
      "2020 18\n",
      "2021 18\n",
      "2022 18\n",
      "2023 18\n"
     ]
    }
   ],
   "source": [
    "for i in range(2013, 2024):\n",
    "    subset_df = league_dataframe[league_dataframe['Season'] == i]\n",
    "    print(i, len(subset_df['Team'].value_counts()))"
   ]
  },
  {
   "cell_type": "code",
   "execution_count": 62,
   "metadata": {},
   "outputs": [],
   "source": [
    "grand_dataframe_transfermarkt = pd.concat([grand_dataframe_transfermarkt, league_dataframe], ignore_index=True)\n"
   ]
  },
  {
   "cell_type": "code",
   "execution_count": 63,
   "metadata": {},
   "outputs": [
    {
     "data": {
      "text/plain": [
       "League\n",
       "Portuguese First Division    6900\n",
       "Name: count, dtype: int64"
      ]
     },
     "execution_count": 63,
     "metadata": {},
     "output_type": "execute_result"
    }
   ],
   "source": [
    "grand_dataframe_transfermarkt['League'].value_counts()"
   ]
  },
  {
   "cell_type": "markdown",
   "metadata": {},
   "source": [
    "## small data changes"
   ]
  },
  {
   "cell_type": "code",
   "execution_count": 64,
   "metadata": {},
   "outputs": [],
   "source": [
    "for i in range(0, len(grand_dataframe_transfermarkt)):\n",
    "    this_row_team = grand_dataframe_transfermarkt.at[i, 'Team']\n",
    "    if(this_row_team == 'B-SAD'):\n",
    "        grand_dataframe_transfermarkt.at[i, 'Team'] = 'Belenenses'"
   ]
  },
  {
   "cell_type": "code",
   "execution_count": 65,
   "metadata": {},
   "outputs": [],
   "source": [
    "for i in range(0, len(grand_dataframe_transfermarkt)):\n",
    "    this_row_team = grand_dataframe_transfermarkt.at[i, 'Team']\n",
    "    if(this_row_team == 'Gil Vicente FC'):\n",
    "        grand_dataframe_transfermarkt.at[i, 'Team'] = 'Gil Vicente'"
   ]
  },
  {
   "cell_type": "code",
   "execution_count": 66,
   "metadata": {},
   "outputs": [],
   "source": [
    "for i in range(0, len(grand_dataframe_transfermarkt)):\n",
    "    this_row_team = grand_dataframe_transfermarkt.at[i, 'Team']\n",
    "    if(this_row_team == 'Gaziantep FK'):\n",
    "        grand_dataframe_transfermarkt.at[i, 'Team'] = 'Gaziantepspor'"
   ]
  },
  {
   "cell_type": "code",
   "execution_count": 67,
   "metadata": {},
   "outputs": [],
   "source": [
    "for i in range(0, len(grand_dataframe_transfermarkt)):\n",
    "    this_row_team = grand_dataframe_transfermarkt.at[i, 'Team']\n",
    "    if(this_row_team == 'Erzurum BB'):\n",
    "        grand_dataframe_transfermarkt.at[i, 'Team'] = 'BB Erzurumspor'"
   ]
  },
  {
   "cell_type": "code",
   "execution_count": 68,
   "metadata": {},
   "outputs": [],
   "source": [
    "grand_dataframe_transfermarkt.to_csv('2nd_LIGAPORTUGAL_transfermarkt_league_data_checking.csv', index=False)\n"
   ]
  },
  {
   "cell_type": "markdown",
   "metadata": {},
   "source": [
    "## Debugging\n"
   ]
  },
  {
   "cell_type": "code",
   "execution_count": 41,
   "metadata": {},
   "outputs": [
    {
     "name": "stdout",
     "output_type": "stream",
     "text": [
      "2013 ['Benfica', 'Sporting CP', 'Porto', 'Estoril', 'Nacional', 'Marítimo', 'Vitória Setúbal', 'Académica', 'Braga', 'Vitória', 'Rio Ave', 'Arouca', 'Gil Vicente', 'Belenenses', 'Paços', 'Olhanense']\n",
      "2014 ['Benfica', 'Porto', 'Sporting CP', 'Braga', 'Vitória', 'Belenenses', 'Nacional', 'Paços', 'Marítimo', 'Rio Ave', 'Moreirense', 'Estoril', 'Boavista', 'Vitória Setúbal', 'Académica', 'Arouca', 'Gil Vicente', 'Penafiel']\n",
      "2015 ['Benfica', 'Sporting CP', 'Porto', 'Braga', 'Arouca', 'Rio Ave', 'Paços', 'Estoril', 'Belenenses', 'Vitória', 'Nacional', 'Moreirense', 'Marítimo', 'Boavista', 'Vitória Setúbal', 'Tondela', 'União', 'Académica']\n",
      "2016 ['Benfica', 'Porto', 'Sporting CP', 'Vitória', 'Braga', 'Marítimo', 'Rio Ave', 'Feirense', 'Boavista', 'Estoril', 'Chaves', 'Vitória Setúbal', 'Paços', 'Belenenses', 'Moreirense', 'Tondela', 'Arouca', 'Nacional']\n",
      "2017 ['Porto', 'Benfica', 'Sporting CP', 'Braga', 'Rio Ave', 'Chaves', 'Marítimo', 'Boavista', 'Vitória', 'Portimonense', 'Tondela', 'Belenenses', 'Aves', 'Vitória Setúbal', 'Moreirense', 'Feirense', 'Paços', 'Estoril']\n",
      "2018 ['Benfica', 'Porto', 'Sporting CP', 'Braga', 'Vitória', 'Moreirense', 'Rio Ave', 'Boavista', 'B-SAD', 'Santa Clara', 'Marítimo', 'Portimonense', 'Vitória Setúbal', 'Aves', 'Tondela', 'Chaves', 'Nacional', 'Feirense']\n",
      "2019 ['Porto', 'Benfica', 'Braga', 'Sporting CP', 'Rio Ave', 'Famalicão', 'Vitória', 'Moreirense', 'Santa Clara', 'Gil Vicente FC', 'Marítimo', 'Boavista', 'Paços', 'Tondela', 'B-SAD', 'Vitória Setúbal', 'Portimonense', 'Aves']\n",
      "2020 ['Sporting CP', 'Porto', 'Benfica', 'Braga', 'Paços', 'Santa Clara', 'Vitória', 'Moreirense', 'Famalicão', 'B-SAD', 'Gil Vicente FC', 'Tondela', 'Boavista', 'Portimonense', 'Marítimo', 'Rio Ave', 'Farense', 'Nacional']\n",
      "2021 ['Porto', 'Sporting CP', 'Benfica', 'Braga', 'Gil Vicente FC', 'Vitória', 'Santa Clara', 'Famalicão', 'Estoril', 'Marítimo', 'Paços', 'Boavista', 'Portimonense', 'Vizela', 'Arouca', 'Moreirense', 'Tondela', 'B-SAD']\n",
      "2022 ['Benfica', 'Porto', 'Braga', 'Sporting CP', 'Arouca', 'Vitória', 'Chaves', 'Famalicão', 'Boavista', 'Casa Pia', 'Vizela', 'Rio Ave', 'Gil Vicente FC', 'Estoril', 'Portimonense', 'Marítimo', 'Paços', 'Santa Clara']\n",
      "2023 ['Benfica', 'Sporting CP', 'Porto', 'Braga', 'Moreirense', 'Vitória', 'Famalicão', 'Farense', 'Boavista', 'Portimonense', 'Gil Vicente FC', 'Estrela', 'Estoril', 'Vizela', 'Casa Pia', 'Rio Ave', 'Chaves', 'Arouca']\n"
     ]
    }
   ],
   "source": [
    "for input_season in range(2013, 2024):\n",
    "    series1 = seasons_teams[(seasons_teams['League'] == \"Portuguese First Division\") & (seasons_teams['Season'] == input_season)]['Teams'].values\n",
    "    print(input_season, series1[0])"
   ]
  },
  {
   "cell_type": "markdown",
   "metadata": {},
   "source": [
    "### grab url & code"
   ]
  },
  {
   "cell_type": "code",
   "execution_count": 121,
   "metadata": {},
   "outputs": [
    {
     "data": {
      "text/plain": [
       "'Vitesse Squad 2020 Transfermarkt'"
      ]
     },
     "execution_count": 121,
     "metadata": {},
     "output_type": "execute_result"
    }
   ],
   "source": [
    "seasons_teams"
   ]
  },
  {
   "cell_type": "code",
   "execution_count": 120,
   "metadata": {},
   "outputs": [],
   "source": [
    "input_club_name = 'Vitesse'\n",
    "input_season_year = 2020\n",
    "\n",
    "search = f\"{input_club_name} Squad {input_season_year} Transfermarkt\"\n",
    "url = 'https://www.google.com/search'\n",
    "\n",
    "headers = {'Accept' : '*/*', 'Accept-Language': 'en-US,en;q=0.5','User-Agent': 'Mozilla/5.0 (Windows NT 10.0; Win64; x64) AppleWebKit/537.36 (KHTML, like Gecko) Chrome/98.0.4758.82',\n",
    "}\n",
    "parameters = {'q': search}\n",
    "\n",
    "content = requests.get(url, headers = headers, params = parameters).text\n",
    "soup = BeautifulSoup(content, 'html.parser')\n",
    "\n",
    "# search = soup.find(id = 'search')\n",
    "# first_link = search.find('a')\n",
    "\n",
    "# url_tosplit = (first_link['href'])\n",
    "\n",
    "# name_club = url_tosplit.split('/')[3]\n",
    "# code_club = url_tosplit.split('/')[6]"
   ]
  },
  {
   "cell_type": "markdown",
   "metadata": {},
   "source": [
    "### grab squad"
   ]
  },
  {
   "cell_type": "code",
   "execution_count": 98,
   "metadata": {},
   "outputs": [],
   "source": [
    "#NAMES \n",
    "Players_set = squad_page.find_all(\"td\", {\"class\": \"hauptlink\"})\n",
    "#AGE NATIONALITY CURRENT CLUB \n",
    "zentriert_set = squad_page.find_all(\"td\", {\"class\": \"zentriert\"})\n",
    "#value\n",
    "value_set = squad_page.find_all(\"td\", {\"class\": \"rechts hauptlink\"})\n",
    "#POSITION / TEAMS PLAYED FOR \n",
    "table_set = squad_page.find_all(\"table\", {\"class\": \"inline-table\"})\n",
    "\n"
   ]
  },
  {
   "cell_type": "code",
   "execution_count": 99,
   "metadata": {},
   "outputs": [],
   "source": [
    "players_names_array = []\n",
    "ages_array = []\n",
    "positions_array = []\n",
    "nationality_array = []\n",
    "market_value_array = [] \n",
    "\n",
    "age_index = 0\n",
    "#nationality_index = 0\n",
    "zentriert_Index = 0\n",
    "\n",
    "for j in range(0, len(value_set)):\n",
    "    player_index = (j * 2) #at 1 this is 2\n",
    "    zentriert_Index = (j * 8) #at 1 this is 8\n",
    "    #table_index = (j * 4)\n",
    "#name\n",
    "    players_names_array.append(Players_set[player_index].text.strip().encode().decode(\"utf-8\"))\n",
    "#DOB\n",
    "    ages_array.append(zentriert_set[(zentriert_Index+1)].text.strip().encode().decode(\"utf-8\"))\n",
    "#pos\n",
    "    positions_array.append(table_set[j].find_all(\"td\")[2].text.strip().encode().decode(\"utf-8\"))\n",
    "#natl\n",
    "    nationality = str(zentriert_set[(zentriert_Index + 2)].find_all(\"img\", {\"class\": \"flaggenrahmen\"})).split(' ')\n",
    "    if(nationality[0] == '[]'):\n",
    "        nationality_array.append('None')\n",
    "    elif (len(nationality) == 5):\n",
    "        nationality_array.append(nationality[4][7:-4])\n",
    "    else:\n",
    "        issit = False\n",
    "        words_array = []\n",
    "        words_array.append(nationality[1].split('alt=\"')[1])\n",
    "        e = 2\n",
    "        while(issit == False):\n",
    "            #check if it starts with class\n",
    "            if(nationality[e].startswith('class')):\n",
    "                #end it \n",
    "                issit = True\n",
    "                #print(nationality[e] + 'false')\n",
    "\n",
    "            else:\n",
    "                #add it \n",
    "                words_array.append(nationality[e].split('\"')[0]) #was \"/>]\"\n",
    "                #print(nationality[e])\n",
    "                e += 1\n",
    "                \n",
    "        final_name = ' '.join(words_array)\n",
    "        nationality_array.append(final_name)\n",
    "#value\n",
    "    market_value_array.append(value_set[j].text.strip().encode().decode(\"utf-8\"))\n",
    "\n",
    "df_to_return = pd.DataFrame(\n",
    "    {\"Name\": players_names_array,\n",
    "    \"Age (that year)\": ages_array,\n",
    "    \"Nationality\": nationality_array,\n",
    "    \"Position\": positions_array,\n",
    "    \"Market Value\": market_value_array})\n",
    "\n"
   ]
  },
  {
   "cell_type": "code",
   "execution_count": 15,
   "metadata": {},
   "outputs": [],
   "source": [
    "# seasons_teams.at[23, 'Teams']\n",
    "# seasons_teams[(seasons_teams['League'] == 'Serie A') & (seasons_teams['Season'] == 2014)]#['Teams']"
   ]
  }
 ],
 "metadata": {
  "kernelspec": {
   "display_name": "Python 3",
   "language": "python",
   "name": "python3"
  },
  "language_info": {
   "codemirror_mode": {
    "name": "ipython",
    "version": 3
   },
   "file_extension": ".py",
   "mimetype": "text/x-python",
   "name": "python",
   "nbconvert_exporter": "python",
   "pygments_lexer": "ipython3",
   "version": "3.12.0"
  }
 },
 "nbformat": 4,
 "nbformat_minor": 2
}
