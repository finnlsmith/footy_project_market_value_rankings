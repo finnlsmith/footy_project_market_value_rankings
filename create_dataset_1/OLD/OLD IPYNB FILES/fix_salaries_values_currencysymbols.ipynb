{
 "cells": [
  {
   "cell_type": "code",
   "execution_count": 1,
   "metadata": {},
   "outputs": [],
   "source": [
    "import os\n",
    "import csv\n",
    "import pandas as pd\n",
    "from difflib import get_close_matches\n",
    "import numpy as np\n",
    "import re\n",
    "from transliterate import translit\n",
    "from unidecode import unidecode\n",
    "import Levenshtein\n"
   ]
  },
  {
   "cell_type": "markdown",
   "metadata": {},
   "source": [
    "## Editing Salaries"
   ]
  },
  {
   "cell_type": "code",
   "execution_count": 85,
   "metadata": {},
   "outputs": [],
   "source": [
    "salarydata = pd.read_csv('/Users/finneganlaister-smith/Downloads/DEV ENVIRONMENT/data-science-jupyter-template-main/latestcapology_data_IDs_added.csv')"
   ]
  },
  {
   "cell_type": "code",
   "execution_count": 86,
   "metadata": {},
   "outputs": [],
   "source": [
    "salary_rows_with_currency_symbol = salarydata[salarydata['Inflation-Adjusted Yearly Salary'].str.contains('€|£', na=False)].reset_index()"
   ]
  },
  {
   "cell_type": "code",
   "execution_count": 87,
   "metadata": {},
   "outputs": [
    {
     "data": {
      "text/plain": [
       "0"
      ]
     },
     "execution_count": 87,
     "metadata": {},
     "output_type": "execute_result"
    }
   ],
   "source": [
    "counter = 0\n",
    "#for i in range(0, 1200):\n",
    "for i in range(0, len(salarydata)):\n",
    "\n",
    "    this_row_weekly = salarydata.at[i, 'Weekly Salary']\n",
    "    this_row_yearly = salarydata.at[i, 'Yearly Salary']\n",
    "    this_row_yearly_adjusted = salarydata.at[i, 'Inflation-Adjusted Yearly Salary']\n",
    "\n",
    "    if pd.isna(this_row_weekly):\n",
    "        0==0\n",
    "    else:\n",
    "        if(this_row_weekly.startswith('£')):\n",
    "            #SALARY IS IN POUND FORM - it's burnley 2018 \n",
    "\n",
    "            #SPLIT\n",
    "            numberweekly = this_row_weekly.split('£')[1]\n",
    "            numberyearly = this_row_yearly.split('£')[1]\n",
    "            numberyearly_inflation = this_row_yearly_adjusted.split('£')[1]\n",
    "\n",
    "            #TURN TO INT\n",
    "            numberweekly = re.sub(r'[^\\d]', '', numberweekly.split('.')[0])\n",
    "            numberyearly = re.sub(r'[^\\d]', '', numberyearly.split('.')[0])\n",
    "            numberyearly_inflation = re.sub(r'[^\\d]', '', numberyearly_inflation.split('.')[0])\n",
    "\n",
    "            #ADJUST multiply everything by 1.125\n",
    "            adjusted_gbp_salary_weekly = int(numberweekly) * 1.125\n",
    "            adjusted_gbp_salary_yearly = int(numberyearly) * 1.125\n",
    "            adjusted_gbp_salary_yearly_inflation = int(numberyearly_inflation) * 1.125\n",
    "\n",
    "            salarydata.at[i, 'Weekly Salary'] = adjusted_gbp_salary_weekly\n",
    "            salarydata.at[i, 'Yearly Salary'] = adjusted_gbp_salary_yearly\n",
    "            salarydata.at[i, 'Inflation-Adjusted Yearly Salary'] = adjusted_gbp_salary_yearly_inflation\n",
    "            \n",
    "            \n",
    "        elif(this_row_weekly.startswith('€')):\n",
    "            #SALARY IS IN EURO FORM\n",
    "            \n",
    "            #SPLIT\n",
    "            numberweekly = salarydata.at[i, 'Weekly Salary'].split('€')[1]\n",
    "            numberyearly = salarydata.at[i, 'Yearly Salary'].split('€')[1]\n",
    "            numberyearly_inflation = salarydata.at[i, 'Inflation-Adjusted Yearly Salary'].split('€')[1]\n",
    "\n",
    "            #TURN TO INT\n",
    "            numberweekly = re.sub(r'[^\\d]', '', numberweekly.split('.')[0])\n",
    "            numberyearly = re.sub(r'[^\\d]', '', numberyearly.split('.')[0])\n",
    "            numberyearly_inflation = re.sub(r'[^\\d]', '', numberyearly_inflation.split('.')[0])\n",
    "\n",
    "            #ADD TO DATASET\n",
    "            salarydata.at[i, 'Weekly Salary'] = int(numberweekly)\n",
    "            salarydata.at[i, 'Yearly Salary'] = int(numberyearly)\n",
    "            salarydata.at[i, 'Inflation-Adjusted Yearly Salary'] = int(numberyearly_inflation)\n",
    "\n",
    "        else:\n",
    "            #SALARY IS IN CORRECT FORM\n",
    "            #TURN TO INT\n",
    "            numberweekly = re.sub(r'[^\\d]', '', this_row_weekly.split('.')[0])\n",
    "            numberyearly = re.sub(r'[^\\d]', '', this_row_yearly.split('.')[0])\n",
    "            numberyearly_inflation = re.sub(r'[^\\d]', '', this_row_yearly_adjusted.split('.')[0])\n",
    "\n",
    "            #ADD TO DATASET\n",
    "            salarydata.at[i, 'Weekly Salary'] = int(numberweekly)\n",
    "            salarydata.at[i, 'Yearly Salary'] = int(numberyearly)\n",
    "            salarydata.at[i, 'Inflation-Adjusted Yearly Salary'] = int(numberyearly_inflation)\n",
    "            \n",
    "\n",
    "\n",
    "    #correctIndex = salary_rows_with_currency_symbol.at[i, 'index']\n",
    "counter"
   ]
  },
  {
   "cell_type": "code",
   "execution_count": 90,
   "metadata": {},
   "outputs": [],
   "source": [
    "salarydata.to_csv('latest_capology_data_money_fixed.csv', index=False)"
   ]
  },
  {
   "cell_type": "markdown",
   "metadata": {},
   "source": [
    "## Editing values"
   ]
  },
  {
   "cell_type": "code",
   "execution_count": 2,
   "metadata": {},
   "outputs": [],
   "source": [
    "value_data = pd.read_csv('/Users/finneganlaister-smith/Downloads/DEV ENVIRONMENT/data-science-jupyter-template-main/TransferMarkt Market Values - MarketValues.csv')"
   ]
  },
  {
   "cell_type": "code",
   "execution_count": 7,
   "metadata": {},
   "outputs": [],
   "source": [
    "\n",
    "for i in range(0, len(value_data)):\n",
    "#for i in range(0, 3):\n",
    "\n",
    "    #index_correct = value_data.at[i, 'index']\n",
    "\n",
    "    money_column = value_data.at[i, 'Market Value']\n",
    "\n",
    "    if 'm' in money_column:\n",
    "        value_rough = money_column.split('m')[0].split('€')[1]\n",
    "        millinum = (float(value_rough) * 1000000)\n",
    "\n",
    "        value_data.at[i, 'Market Value'] = millinum\n",
    "    elif 'k' in money_column:\n",
    "        #print(i, 'k')\n",
    "        value_rough = money_column.split('k')[0].split('€')[1]\n",
    "        millinum = (float(value_rough) * 1000)\n",
    "\n",
    "        value_data.at[i, 'Market Value'] = millinum\n",
    "    elif '-' in money_column:\n",
    "        0==0\n",
    "    else:\n",
    "        0==0\n"
   ]
  },
  {
   "cell_type": "code",
   "execution_count": 8,
   "metadata": {},
   "outputs": [],
   "source": [
    "value_data.to_csv('Fixed TransferMarkt Market Values - MarketValues.csv', index=False)"
   ]
  }
 ],
 "metadata": {
  "kernelspec": {
   "display_name": "Python 3",
   "language": "python",
   "name": "python3"
  },
  "language_info": {
   "codemirror_mode": {
    "name": "ipython",
    "version": 3
   },
   "file_extension": ".py",
   "mimetype": "text/x-python",
   "name": "python",
   "nbconvert_exporter": "python",
   "pygments_lexer": "ipython3",
   "version": "3.12.0"
  }
 },
 "nbformat": 4,
 "nbformat_minor": 2
}
