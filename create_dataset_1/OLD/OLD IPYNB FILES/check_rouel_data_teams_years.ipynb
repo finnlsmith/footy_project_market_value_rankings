{
 "cells": [
  {
   "cell_type": "code",
   "execution_count": 1,
   "metadata": {},
   "outputs": [],
   "source": [
    "import pandas as pd\n",
    "import os"
   ]
  },
  {
   "cell_type": "code",
   "execution_count": 2,
   "metadata": {},
   "outputs": [
    {
     "data": {
      "text/plain": [
       "'/Users/finneganlaister-smith/Downloads/DEV ENVIRONMENT/data-science-jupyter-template-main'"
      ]
     },
     "execution_count": 2,
     "metadata": {},
     "output_type": "execute_result"
    }
   ],
   "source": [
    "os.getcwd()"
   ]
  },
  {
   "cell_type": "code",
   "execution_count": 3,
   "metadata": {},
   "outputs": [],
   "source": [
    "seasons_teams = pd.read_csv(\"/Users/finneganlaister-smith/Downloads/DEV ENVIRONMENT/data-science-jupyter-template-main/teams in top division by season, 2013-24.csv\")"
   ]
  },
  {
   "cell_type": "code",
   "execution_count": 4,
   "metadata": {},
   "outputs": [],
   "source": [
    "import ast\n",
    "\n",
    "def parse_string_to_list(input_string):\n",
    "    try:\n",
    "        # Use ast.literal_eval to safely evaluate the string as a Python literal\n",
    "        result_list = ast.literal_eval(input_string)\n",
    "        return result_list\n",
    "    except (SyntaxError, ValueError) as e:\n",
    "        # Handle potential errors in parsing the string\n",
    "        print(f\"Error: {e}\")\n",
    "        return None"
   ]
  },
  {
   "cell_type": "code",
   "execution_count": 11,
   "metadata": {},
   "outputs": [],
   "source": [
    "import os\n",
    "import csv\n",
    "\n",
    "def get_csv_lengths(root_path):\n",
    "    csv_lengths = {}\n",
    "\n",
    "    # Walk through the directory tree starting from the root_path\n",
    "    for foldername, subfolders, filenames in os.walk(root_path):\n",
    "        for filename in filenames:\n",
    "            # Check if the file has a .csv extension\n",
    "            if filename.endswith('.csv'):\n",
    "                file_path = os.path.join(foldername, filename)\n",
    "                \n",
    "                # Open the CSV file and get its length\n",
    "                with open(file_path, 'r') as csv_file:\n",
    "                    csv_reader = csv.reader(csv_file)\n",
    "                    # Subtract 1 to exclude the header row, change if your CSVs don't have headers\n",
    "                    length = sum(1 for row in csv_reader) - 1\n",
    "\n",
    "                # Store the length in the dictionary with the file path as the key\n",
    "                csv_lengths[file_path] = length\n",
    "\n",
    "    return csv_lengths\n",
    "\n",
    "# Example usage:\n",
    "root_path = \"/Users/finneganlaister-smith/Downloads/DEV ENVIRONMENT/data-science-jupyter-template-main/work/analysis work 9/soccer/Too Much Talent/Rouel Salary New Data/1. Bundesliga\"\n",
    "result = get_csv_lengths(root_path)"
   ]
  },
  {
   "cell_type": "code",
   "execution_count": 54,
   "metadata": {},
   "outputs": [],
   "source": [
    "from unidecode import unidecode\n",
    "\n",
    "def remove_accents(input_str):\n",
    "    return unidecode(input_str)\n"
   ]
  },
  {
   "cell_type": "code",
   "execution_count": 64,
   "metadata": {},
   "outputs": [],
   "source": [
    "def find_matching_strings(list1, list2):\n",
    "    matches = []\n",
    "    unmatched_set_1 = set(list1)\n",
    "    unmatched_set_2 = set(list2)\n",
    "\n",
    "    for str1 in list1:\n",
    "        for str2 in list2:\n",
    "            # Check for identical strings after removing accents\n",
    "            if unidecode(str1) == unidecode(str2):\n",
    "                matches.append((str1, str2))\n",
    "                unmatched_set_1.discard(str1)\n",
    "                unmatched_set_2.discard(str2)\n",
    "            # Check if str1 is in str2 after removing accents\n",
    "            elif unidecode(str1) in unidecode(str2):\n",
    "                matches.append((str1, str2))\n",
    "                unmatched_set_1.discard(str1)\n",
    "                unmatched_set_2.discard(str2)\n",
    "            # Check if str2 is in str1 after removing accents\n",
    "            elif unidecode(str2) in unidecode(str1):\n",
    "                matches.append((str1, str2))\n",
    "                unmatched_set_1.discard(str1)\n",
    "                unmatched_set_2.discard(str2)\n",
    "\n",
    "    return matches, unmatched_set_1, unmatched_set_2"
   ]
  },
  {
   "cell_type": "code",
   "execution_count": 64,
   "metadata": {},
   "outputs": [],
   "source": [
    "#logic\n",
    "\n",
    "\n",
    "#this output is a dictionary\n",
    "# key is the the file path \n",
    "#value is the legnth of that CSV \n",
    "\n",
    "\n",
    "#put the keys in a list\n",
    "\n",
    "#each item in that list is the name of the CSV. it's got a team, and a year. \n",
    "#tokenized by /, the 2nd to last item is the team, and the last item is the season. \n",
    "\n",
    "#if you go through all the keys \n",
    "# you can find the team name and the year for the CSV \n",
    "\n",
    "#using the key index to plug that key into the dict \n",
    "# if the value in the dict with this filepath name is zero\n",
    "###### do something\n",
    "#### THIS IS THE CASE WHERE YOU NEED TO MAKE SURE they are NOT IN THE DIVISION THAT YEAR \n",
    "\n",
    "# else\n",
    "\n",
    "###### do something else \n",
    "#### THIS IS THE CASE WHERE YOU NEED TO MAKE SURE they ARE IN THE DIVISION THAT YEAR "
   ]
  },
  {
   "cell_type": "markdown",
   "metadata": {},
   "source": [
    "# OVer arching function"
   ]
  },
  {
   "cell_type": "code",
   "execution_count": 85,
   "metadata": {},
   "outputs": [],
   "source": [
    "def compare_team_lists (input_season, input_league):\n",
    "\n",
    "    array_teams_year_rouel = []\n",
    "    \n",
    "    season_this = input_season\n",
    "    \n",
    "    for j in range(0, len(list(result.keys()))):\n",
    "\n",
    "        season_csv_string = list(result.keys())[j].split(\"/\")[-1]\n",
    "        if ((int(season_csv_string[:4]) == season_this) & (result[list(result.keys())[j]] > 0)):\n",
    "            #print(season_this, list(result.keys())[j].split(\"/\")[-2], result[list(result.keys())[j]])\n",
    "            array_teams_year_rouel.append(list(result.keys())[j].split(\"/\")[-2])\n",
    "\n",
    "    series1 = seasons_teams[(seasons_teams['League'] == f\"{input_league}\") & (seasons_teams['Season'] == input_season)]['Teams'].values\n",
    "    #change bundesliga to be 1. Bundesliga\n",
    "    input_string = series1[0]\n",
    "    # Example usage:\n",
    "    #input_string = '[\\'Bayern Munich\\', \\'Dortmund\\', \\'Schalke 04\\', \\'Leverkusen\\', \\'Wolfsburg\\', \"M\\'Gladbach\", \\'Mainz 05\\', \\'Augsburg\\', \\'Hoffenheim\\', \\'Hannover 96\\', \\'Hertha BSC\\', \\'Werder Bremen\\', \\'Eint Frankfurt\\', \\'Freiburg\\', \\'Stuttgart\\', \\'Hamburger SV\\', \\'Nürnberg\\', \\'Braunschweig\\']'\n",
    "    # Convert the input string to a list using the function\n",
    "    result_list = parse_string_to_list(input_string)\n",
    "\n",
    "\n",
    "    result_matches, unmatched_set_1, unmatched_set_2 = find_matching_strings(result_list, array_teams_year_rouel)\n",
    "\n",
    "    return result_matches, unmatched_set_1, unmatched_set_2\n"
   ]
  },
  {
   "cell_type": "code",
   "execution_count": 226,
   "metadata": {},
   "outputs": [
    {
     "name": "stdout",
     "output_type": "stream",
     "text": [
      "League\n",
      "EPL                          11\n",
      "Ligue 1                      11\n",
      "Serie A                      11\n",
      "La Liga                      11\n",
      "Bundesliga                   11\n",
      "Turkish League               11\n",
      "Eredivisie                   11\n",
      "Portuguese First Division    11\n",
      "Name: count, dtype: int64\n"
     ]
    }
   ],
   "source": [
    "\n",
    "\n",
    "#Data from Rouel\n",
    "root_path = \"/Users/finneganlaister-smith/Downloads/DEV ENVIRONMENT/data-science-jupyter-template-main/work/analysis work 9/soccer/Too Much Talent/Rouel Salary New Data/Italian Serie A\"\n",
    "result = get_csv_lengths(root_path)\n",
    "\n",
    "#Data from FBREF\n",
    "seasons_teams = pd.read_csv(\"/Users/finneganlaister-smith/Downloads/DEV ENVIRONMENT/data-science-jupyter-template-main/teams in top division by season, 2013-24.csv\")\n",
    "\n",
    "print(seasons_teams['League'].value_counts())"
   ]
  },
  {
   "cell_type": "code",
   "execution_count": 228,
   "metadata": {},
   "outputs": [
    {
     "data": {
      "text/plain": [
       "({'Cagliari', 'Cesena'},\n",
       " set(),\n",
       " [('Juventus', 'Juventus'),\n",
       "  ('Roma', 'Roma'),\n",
       "  ('Lazio', 'Lazio'),\n",
       "  ('Fiorentina', 'Fiorentina'),\n",
       "  ('Napoli', 'Napoli'),\n",
       "  ('Genoa', 'Genoa'),\n",
       "  ('Sampdoria', 'Sampdoria'),\n",
       "  ('Inter', 'Inter Milan'),\n",
       "  ('Torino', 'Torino'),\n",
       "  ('Milan', 'Inter Milan'),\n",
       "  ('Milan', 'AC Milan'),\n",
       "  ('Palermo', 'Palermo'),\n",
       "  ('Sassuolo', 'Sassuolo'),\n",
       "  ('Hellas Verona', 'Hellas Verona'),\n",
       "  ('Chievo', 'Chievo Verona'),\n",
       "  ('Empoli', 'Empoli'),\n",
       "  ('Udinese', 'Udinese'),\n",
       "  ('Atalanta', 'Atalanta'),\n",
       "  ('Parma', 'Parma')])"
      ]
     },
     "execution_count": 228,
     "metadata": {},
     "output_type": "execute_result"
    }
   ],
   "source": [
    "test = compare_team_lists(2014, 'Serie A')\n",
    "\n",
    "#test 1 is who Rouel had that \n",
    "\n",
    "test[1], test[2], test[0]"
   ]
  },
  {
   "cell_type": "code",
   "execution_count": 210,
   "metadata": {},
   "outputs": [
    {
     "data": {
      "text/plain": [
       "18"
      ]
     },
     "execution_count": 210,
     "metadata": {},
     "output_type": "execute_result"
    }
   ],
   "source": [
    "len(test[0])"
   ]
  },
  {
   "cell_type": "markdown",
   "metadata": {},
   "source": [
    "# Debug"
   ]
  },
  {
   "cell_type": "markdown",
   "metadata": {},
   "source": [
    "## Showing teams in 2013 bundesliga according to rouel salary new data"
   ]
  },
  {
   "cell_type": "code",
   "execution_count": 7,
   "metadata": {},
   "outputs": [
    {
     "name": "stdout",
     "output_type": "stream",
     "text": [
      "2013 Schalke 04 39\n",
      "2013 Braunschweiger 34\n",
      "2013 Werder Bremen 40\n",
      "2013 Nurnberg 34\n",
      "2013 Wolfsburg 37\n",
      "2013 Freiburg 36\n",
      "2013 Borussia Dortmund 32\n",
      "2013 Hamburg 35\n",
      "2013 Monchengladbach 29\n",
      "2013 Hannover 37\n",
      "2013 Bayer Leverkusen 36\n",
      "2013 Eintracht Frankfurt 34\n",
      "2013 Bayern Munich 34\n",
      "2013 Mainz 33\n",
      "2013 Hoffenheim 44\n",
      "2013 Stuttgart 36\n",
      "2013 Augsburg 36\n",
      "2013 Hertha Berlin 33\n"
     ]
    }
   ],
   "source": [
    "seasons = list(range(2013, 2023))\n",
    "team = list(result.keys())[10].split(\"/\")[-2]\n",
    "season = list(result.keys())[10].split(\"/\")[-1]\n",
    "#team, int(season[:4]), result[list(result.keys())[10]]\n",
    "#for i in range(0, len(seasons)):\n",
    "\n",
    "array_teams_year = []\n",
    "\n",
    "for i in range(0, 1):\n",
    "    season_this = seasons[i]\n",
    "    \n",
    "    for j in range(0, len(list(result.keys()))):\n",
    "\n",
    "        season_csv_string = list(result.keys())[j].split(\"/\")[-1]\n",
    "        if ((int(season_csv_string[:4]) == season_this) & (result[list(result.keys())[j]] > 0)):\n",
    "            print(season_this, list(result.keys())[j].split(\"/\")[-2], result[list(result.keys())[j]])\n",
    "            array_teams_year.append(list(result.keys())[j].split(\"/\")[-2])\n",
    "\n",
    "\n",
    "series1 = seasons_teams[(seasons_teams['League'] == 'Bundesliga') & (seasons_teams['Season'] == 2013)]['Teams'].values\n",
    "#change bundesliga to be 1. Bundesliga\n",
    "input_string = series1[0]\n",
    "# Example usage:\n",
    "#input_string = '[\\'Bayern Munich\\', \\'Dortmund\\', \\'Schalke 04\\', \\'Leverkusen\\', \\'Wolfsburg\\', \"M\\'Gladbach\", \\'Mainz 05\\', \\'Augsburg\\', \\'Hoffenheim\\', \\'Hannover 96\\', \\'Hertha BSC\\', \\'Werder Bremen\\', \\'Eint Frankfurt\\', \\'Freiburg\\', \\'Stuttgart\\', \\'Hamburger SV\\', \\'Nürnberg\\', \\'Braunschweig\\']'\n",
    "# Convert the input string to a list using the function\n",
    "result_list = parse_string_to_list(input_string)\n",
    "result_list\n",
    "    "
   ]
  },
  {
   "cell_type": "markdown",
   "metadata": {},
   "source": [
    "## Showing teams in 2013 bundesliga according to FBref"
   ]
  },
  {
   "cell_type": "code",
   "execution_count": 8,
   "metadata": {},
   "outputs": [
    {
     "data": {
      "text/plain": [
       "['Bayern Munich',\n",
       " 'Dortmund',\n",
       " 'Schalke 04',\n",
       " 'Leverkusen',\n",
       " 'Wolfsburg',\n",
       " \"M'Gladbach\",\n",
       " 'Mainz 05',\n",
       " 'Augsburg',\n",
       " 'Hoffenheim',\n",
       " 'Hannover 96',\n",
       " 'Hertha BSC',\n",
       " 'Werder Bremen',\n",
       " 'Eint Frankfurt',\n",
       " 'Freiburg',\n",
       " 'Stuttgart',\n",
       " 'Hamburger SV',\n",
       " 'Nürnberg',\n",
       " 'Braunschweig']"
      ]
     },
     "execution_count": 8,
     "metadata": {},
     "output_type": "execute_result"
    }
   ],
   "source": [
    "series1 = seasons_teams[(seasons_teams['League'] == 'Bundesliga') & (seasons_teams['Season'] == 2013)]['Teams'].values\n",
    "#change bundesliga to be 1. Bundesliga\n",
    "input_string = series1[0]\n",
    "# Example usage:\n",
    "#input_string = '[\\'Bayern Munich\\', \\'Dortmund\\', \\'Schalke 04\\', \\'Leverkusen\\', \\'Wolfsburg\\', \"M\\'Gladbach\", \\'Mainz 05\\', \\'Augsburg\\', \\'Hoffenheim\\', \\'Hannover 96\\', \\'Hertha BSC\\', \\'Werder Bremen\\', \\'Eint Frankfurt\\', \\'Freiburg\\', \\'Stuttgart\\', \\'Hamburger SV\\', \\'Nürnberg\\', \\'Braunschweig\\']'\n",
    "# Convert the input string to a list using the function\n",
    "result_list = parse_string_to_list(input_string)\n",
    "result_list"
   ]
  },
  {
   "cell_type": "code",
   "execution_count": 9,
   "metadata": {},
   "outputs": [
    {
     "data": {
      "text/plain": [
       "['Schalke 04',\n",
       " 'Braunschweiger',\n",
       " 'Werder Bremen',\n",
       " 'Nurnberg',\n",
       " 'Wolfsburg',\n",
       " 'Freiburg',\n",
       " 'Borussia Dortmund',\n",
       " 'Hamburg',\n",
       " 'Monchengladbach',\n",
       " 'Hannover',\n",
       " 'Bayer Leverkusen',\n",
       " 'Eintracht Frankfurt',\n",
       " 'Bayern Munich',\n",
       " 'Mainz',\n",
       " 'Hoffenheim',\n",
       " 'Stuttgart',\n",
       " 'Augsburg',\n",
       " 'Hertha Berlin']"
      ]
     },
     "execution_count": 9,
     "metadata": {},
     "output_type": "execute_result"
    }
   ],
   "source": [
    "array_teams_year"
   ]
  },
  {
   "cell_type": "code",
   "execution_count": 16,
   "metadata": {},
   "outputs": [],
   "source": [
    "result_matches, unmatched_set_1, unmatched_set_2 = find_matching_strings(result_list, array_teams_year)\n"
   ]
  },
  {
   "cell_type": "code",
   "execution_count": 18,
   "metadata": {},
   "outputs": [
    {
     "data": {
      "text/plain": [
       "{'Eint Frankfurt', 'Hertha BSC', \"M'Gladbach\", 'Nürnberg'}"
      ]
     },
     "execution_count": 18,
     "metadata": {},
     "output_type": "execute_result"
    }
   ],
   "source": [
    "unmatched_set_1"
   ]
  },
  {
   "cell_type": "code",
   "execution_count": 229,
   "metadata": {},
   "outputs": [
    {
     "data": {
      "text/plain": [
       "{'Eintracht Frankfurt', 'Hertha Berlin', 'Monchengladbach', 'Nurnberg'}"
      ]
     },
     "execution_count": 229,
     "metadata": {},
     "output_type": "execute_result"
    }
   ],
   "source": [
    "unmatched_set_2"
   ]
  },
  {
   "cell_type": "code",
   "execution_count": null,
   "metadata": {},
   "outputs": [],
   "source": [
    "###thoughts at the end \n",
    "\n",
    "# compare the two names \n",
    "#if theyre the same ones in the other or others in the one \n",
    "#if none of those is true \n",
    "#print it out and check \n",
    "\n"
   ]
  }
 ],
 "metadata": {
  "kernelspec": {
   "display_name": "Python 3",
   "language": "python",
   "name": "python3"
  },
  "language_info": {
   "codemirror_mode": {
    "name": "ipython",
    "version": 3
   },
   "file_extension": ".py",
   "mimetype": "text/x-python",
   "name": "python",
   "nbconvert_exporter": "python",
   "pygments_lexer": "ipython3",
   "version": "3.12.0"
  }
 },
 "nbformat": 4,
 "nbformat_minor": 2
}
