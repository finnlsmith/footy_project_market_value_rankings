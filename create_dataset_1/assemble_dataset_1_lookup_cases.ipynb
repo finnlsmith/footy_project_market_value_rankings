{
 "cells": [
  {
   "cell_type": "code",
   "execution_count": 1,
   "metadata": {},
   "outputs": [
    {
     "name": "stderr",
     "output_type": "stream",
     "text": [
      "/Users/finneganlaister-smith/Downloads/DEV ENVIRONMENT/data-science-jupyter-template-main/footy_project_market_value_rankings/create_dataset_1/AssemblyHelpers.py:54: DtypeWarning: Columns (3,5) have mixed types. Specify dtype option on import or set low_memory=False.\n",
      "  return pd.read_csv(file_path)\n"
     ]
    }
   ],
   "source": [
    "import os\n",
    "import csv\n",
    "from countries_languages import country_to_language\n",
    "\n",
    "import pandas as pd\n",
    "from difflib import get_close_matches\n",
    "import numpy as np\n",
    "import re\n",
    "from transliterate import translit\n",
    "from unidecode import unidecode\n",
    "import Levenshtein\n",
    "import requests\n",
    "import bs4\n",
    "from bs4 import BeautifulSoup \n",
    "from selenium import webdriver\n",
    "from selenium.webdriver.common.keys import Keys\n",
    "import time\n",
    "from selenium.webdriver.chrome.service import Service\n",
    "from selenium.webdriver.common.by import By\n",
    "from selenium.webdriver.support.ui import WebDriverWait\n",
    "from selenium.webdriver.support import expected_conditions as EC\n",
    "import urllib.parse\n",
    "from datetime import datetime\n",
    "\n",
    "from urllib.parse import urlsplit\n",
    "\n",
    "import wikipediaapi\n",
    "\n",
    "import wikipedia\n",
    "\n",
    "from urllib.parse import urlparse\n",
    "\n",
    "import difflib\n",
    "\n",
    "from datetime import datetime\n",
    "\n",
    "import calendar\n",
    "\n",
    "from selenium import webdriver\n",
    "from selenium.webdriver.chrome.options import Options\n",
    "\n",
    "import AssemblyHelpers\n",
    "#from AssemblyHelpers import find_money_info_from_name\n",
    "\n"
   ]
  },
  {
   "cell_type": "code",
   "execution_count": 2,
   "metadata": {},
   "outputs": [
    {
     "data": {
      "text/plain": [
       "'/Users/finneganlaister-smith/Downloads/DEV ENVIRONMENT/data-science-jupyter-template-main/footy_project_market_value_rankings/create_dataset_1'"
      ]
     },
     "execution_count": 2,
     "metadata": {},
     "output_type": "execute_result"
    }
   ],
   "source": [
    "import os\n",
    "os.getcwd()"
   ]
  },
  {
   "cell_type": "code",
   "execution_count": 5,
   "metadata": {},
   "outputs": [],
   "source": [
    "def load_csv_dataset(file_path):\n",
    "    return pd.read_csv(file_path)\n",
    "\n",
    "\n",
    "cyrillic_guys = load_csv_dataset('cyrillic_dudes.csv')\n",
    "lookup_guys = load_csv_dataset('lookup_required_dudes.csv')\n",
    "\n",
    "online_lookup_1_found = load_csv_dataset('Online lookup required - 1 name found.csv')\n",
    "online_lookup_0_found = load_csv_dataset('Online lookup required - 0 names found.csv')\n",
    "online_lookup_multi_found = load_csv_dataset('Online lookup required - multiple names found.csv')"
   ]
  },
  {
   "cell_type": "markdown",
   "metadata": {},
   "source": [
    "# Cyrillic"
   ]
  },
  {
   "cell_type": "code",
   "execution_count": null,
   "metadata": {},
   "outputs": [],
   "source": []
  },
  {
   "cell_type": "markdown",
   "metadata": {},
   "source": [
    "# Lookup Required"
   ]
  },
  {
   "cell_type": "code",
   "execution_count": null,
   "metadata": {},
   "outputs": [],
   "source": []
  },
  {
   "cell_type": "markdown",
   "metadata": {},
   "source": [
    "# Online Lookup Required"
   ]
  },
  {
   "cell_type": "code",
   "execution_count": null,
   "metadata": {},
   "outputs": [],
   "source": [
    "#online lookup - 1 guy found \n",
    "\n",
    "#if the name is initial + name make sure the name starts with initial and ends with name. be mindful of the accents here if names are same w accents removed that's ok\n",
    "\n",
    "#if its just name (no initials) do nothing \n",
    "\n",
    "#is the name that it found the closest match in the dataset_nationality?\n",
    "#is there another name in the dataset thats basically a better quality of match?? or the same? \n",
    "    #if there is another potential name do you do the multi name match date lookup? \n",
    "\n",
    "        #if one guy is remaining YOU HAVE A MATCH\n",
    "\n",
    "        #if multiple remaining, then see the below example when there's an array of names\n",
    "\n",
    "        #if 0 remaining then what?\n",
    "\n",
    "    #if not any other potential names, evaluate the quality of this match. \n",
    "\n",
    "        #if the quality is good then YOU HAVE A MATCH\n",
    "\n",
    "        #if the quality is super super low then what?  \n",
    "\n",
    "    #provided you have a name \n",
    "    #look up that name + that season \n",
    "    #if there are no rows, you have to look them up online "
   ]
  },
  {
   "cell_type": "code",
   "execution_count": null,
   "metadata": {},
   "outputs": [],
   "source": [
    "#online lookup required - multiple names found \n",
    "\n",
    "\n",
    "#if multiple names were found\n",
    "\n",
    "    #if the Jersey has an initial \n",
    "        #keep all matches that start with the initial \n",
    "\n",
    "        #except if the initial is a lowercase d. then, make sure there is a word starting with d followed by the Name \n",
    "        #so if its d Silva make sure theres a word startign with d then Silva soemwhere in the name. \n",
    "\n",
    "    #sadiqov case - what if the names are the same???\n",
    "        #in this case you should just look up each name and use like whichever has the record from the saeason of the game \n",
    "\n",
    "    #do the match date lookup thing with each of the matches to check who played in that game. \n",
    "        #if you still have more than 1 name\n",
    "\n",
    "            #look at the success dataset to find the record of each remaining guy\n",
    "                #if its ivanovic and you find both B and D Ivanovic played according to transfermarkt\n",
    "                \n",
    "                #check if there's a record of those guys in that match / date (in our dataset)\n",
    "                    \n",
    "                    #if all but one guy is in the success dataset, the guy who is not there is the name you need to use.\n",
    "\n",
    "                    #if none remain after checking the dataset just remove this row. but print that out. that would be weird\n",
    "\n",
    "                    #if multiple remain after checking the success dataset(there were 3 names remaining, only found 1 record)\n",
    "                        #print this out this is a special case.\n",
    "\n",
    "        #if you are just left with one name using the match date lookup \n",
    "\n",
    "            #that's a success - find that guy in the database"
   ]
  }
 ],
 "metadata": {
  "kernelspec": {
   "display_name": "Python 3",
   "language": "python",
   "name": "python3"
  },
  "language_info": {
   "codemirror_mode": {
    "name": "ipython",
    "version": 3
   },
   "file_extension": ".py",
   "mimetype": "text/x-python",
   "name": "python",
   "nbconvert_exporter": "python",
   "pygments_lexer": "ipython3",
   "version": "3.12.0"
  }
 },
 "nbformat": 4,
 "nbformat_minor": 2
}
