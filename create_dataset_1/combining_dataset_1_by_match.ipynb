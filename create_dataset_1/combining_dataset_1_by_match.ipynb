{
 "cells": [
  {
   "cell_type": "code",
   "execution_count": 1,
   "metadata": {},
   "outputs": [],
   "source": [
    "import pandas as pd\n",
    "\n",
    "def load_csv_dataset(file_path):\n",
    "    return pd.read_csv(file_path)"
   ]
  },
  {
   "cell_type": "code",
   "execution_count": 2,
   "metadata": {},
   "outputs": [
    {
     "name": "stderr",
     "output_type": "stream",
     "text": [
      "/var/folders/vw/z2xv57_n70l_szw_fr80j5km0000gn/T/ipykernel_28113/3911487331.py:4: DtypeWarning: Columns (10) have mixed types. Specify dtype option on import or set low_memory=False.\n",
      "  return pd.read_csv(file_path)\n"
     ]
    }
   ],
   "source": [
    "combined_DF = load_csv_dataset('combined_DF_may_20.csv')"
   ]
  },
  {
   "cell_type": "code",
   "execution_count": 3,
   "metadata": {},
   "outputs": [
    {
     "data": {
      "text/plain": [
       "Status\n",
       "SUCCESS    117018\n",
       "Name: count, dtype: int64"
      ]
     },
     "execution_count": 3,
     "metadata": {},
     "output_type": "execute_result"
    }
   ],
   "source": [
    "combined_DF['Status'].value_counts()"
   ]
  },
  {
   "cell_type": "markdown",
   "metadata": {},
   "source": [
    "### OLD PREP WORK - DONE"
   ]
  },
  {
   "cell_type": "code",
   "execution_count": 153,
   "metadata": {},
   "outputs": [
    {
     "data": {
      "text/html": [
       "<div>\n",
       "<style scoped>\n",
       "    .dataframe tbody tr th:only-of-type {\n",
       "        vertical-align: middle;\n",
       "    }\n",
       "\n",
       "    .dataframe tbody tr th {\n",
       "        vertical-align: top;\n",
       "    }\n",
       "\n",
       "    .dataframe thead th {\n",
       "        text-align: right;\n",
       "    }\n",
       "</style>\n",
       "<table border=\"1\" class=\"dataframe\">\n",
       "  <thead>\n",
       "    <tr style=\"text-align: right;\">\n",
       "      <th></th>\n",
       "      <th>Match ID</th>\n",
       "      <th>Nationality</th>\n",
       "      <th>Count</th>\n",
       "    </tr>\n",
       "  </thead>\n",
       "  <tbody>\n",
       "    <tr>\n",
       "      <th>0</th>\n",
       "      <td>Africa Cup of Nations, Qualifiers_0</td>\n",
       "      <td>South Africa</td>\n",
       "      <td>11</td>\n",
       "    </tr>\n",
       "    <tr>\n",
       "      <th>1</th>\n",
       "      <td>Africa Cup of Nations, Qualifiers_0</td>\n",
       "      <td>Sudan</td>\n",
       "      <td>11</td>\n",
       "    </tr>\n",
       "    <tr>\n",
       "      <th>2</th>\n",
       "      <td>Africa Cup of Nations, Qualifiers_1</td>\n",
       "      <td>Congo</td>\n",
       "      <td>11</td>\n",
       "    </tr>\n",
       "    <tr>\n",
       "      <th>3</th>\n",
       "      <td>Africa Cup of Nations, Qualifiers_1</td>\n",
       "      <td>Nigeria</td>\n",
       "      <td>11</td>\n",
       "    </tr>\n",
       "    <tr>\n",
       "      <th>4</th>\n",
       "      <td>Africa Cup of Nations, Qualifiers_10</td>\n",
       "      <td>Nigeria</td>\n",
       "      <td>11</td>\n",
       "    </tr>\n",
       "    <tr>\n",
       "      <th>...</th>\n",
       "      <td>...</td>\n",
       "      <td>...</td>\n",
       "      <td>...</td>\n",
       "    </tr>\n",
       "    <tr>\n",
       "      <th>10659</th>\n",
       "      <td>World Cup_97</td>\n",
       "      <td>France</td>\n",
       "      <td>11</td>\n",
       "    </tr>\n",
       "    <tr>\n",
       "      <th>10660</th>\n",
       "      <td>World Cup_98</td>\n",
       "      <td>Argentina</td>\n",
       "      <td>11</td>\n",
       "    </tr>\n",
       "    <tr>\n",
       "      <th>10661</th>\n",
       "      <td>World Cup_98</td>\n",
       "      <td>Iceland</td>\n",
       "      <td>11</td>\n",
       "    </tr>\n",
       "    <tr>\n",
       "      <th>10662</th>\n",
       "      <td>World Cup_99</td>\n",
       "      <td>Croatia</td>\n",
       "      <td>11</td>\n",
       "    </tr>\n",
       "    <tr>\n",
       "      <th>10663</th>\n",
       "      <td>World Cup_99</td>\n",
       "      <td>Nigeria</td>\n",
       "      <td>11</td>\n",
       "    </tr>\n",
       "  </tbody>\n",
       "</table>\n",
       "<p>10664 rows × 3 columns</p>\n",
       "</div>"
      ],
      "text/plain": [
       "                                   Match ID   Nationality  Count\n",
       "0       Africa Cup of Nations, Qualifiers_0  South Africa     11\n",
       "1       Africa Cup of Nations, Qualifiers_0         Sudan     11\n",
       "2       Africa Cup of Nations, Qualifiers_1         Congo     11\n",
       "3       Africa Cup of Nations, Qualifiers_1       Nigeria     11\n",
       "4      Africa Cup of Nations, Qualifiers_10       Nigeria     11\n",
       "...                                     ...           ...    ...\n",
       "10659                          World Cup_97        France     11\n",
       "10660                          World Cup_98     Argentina     11\n",
       "10661                          World Cup_98       Iceland     11\n",
       "10662                          World Cup_99       Croatia     11\n",
       "10663                          World Cup_99       Nigeria     11\n",
       "\n",
       "[10664 rows x 3 columns]"
      ]
     },
     "execution_count": 153,
     "metadata": {},
     "output_type": "execute_result"
    }
   ],
   "source": [
    "match_ID_DF = combined_DF.groupby(['Match ID', 'Nationality']).size().reset_index(name='Count')\n",
    "match_ID_DF[match_ID_DF['Count'] == 11]"
   ]
  },
  {
   "cell_type": "code",
   "execution_count": 166,
   "metadata": {},
   "outputs": [
    {
     "name": "stdout",
     "output_type": "stream",
     "text": [
      "5320\n"
     ]
    }
   ],
   "source": [
    "match_id_list = combined_DF['Match ID'].unique()\n",
    "sanitycounter = 0\n",
    "match_IDs_countries_dict = {}\n",
    "for this_matcH_id in match_id_list:\n",
    "    match_countries = combined_DF[combined_DF['Match ID'] == this_matcH_id]['Nationality'].unique()\n",
    "    if len(match_countries) == 2:\n",
    "        match_IDs_countries_dict[this_matcH_id] = match_countries\n",
    "        sanitycounter += 1\n",
    "\n",
    "print(sanitycounter)"
   ]
  },
  {
   "cell_type": "code",
   "execution_count": 167,
   "metadata": {},
   "outputs": [
    {
     "name": "stdout",
     "output_type": "stream",
     "text": [
      "World Cup Qualifiers, Africa_111 Libya 4\n",
      "Africa Cup of Nations, Qualifiers_159 Benin 1\n",
      "Africa Cup of Nations, Qualifiers_159 Equatorial Guinea 1\n",
      "Africa Cup of Nations, Qualifiers_188 São Tomé and Príncipe 2\n",
      "Africa Cup of Nations, Qualifiers_219 Sierra Leone 2\n",
      "Africa Cup of Nations, Qualifiers_258 Swaziland 10\n"
     ]
    }
   ],
   "source": [
    "matches_null_rows_dict = {}\n",
    "for key in match_IDs_countries_dict.keys():\n",
    "    this_match = combined_DF[(combined_DF['Match ID'] == key)]\n",
    "    countries_this_game = this_match['Nationality'].unique()\n",
    "    for country in countries_this_game:\n",
    "        match_data_this_country = this_match[this_match['Nationality'] == country]\n",
    "        nulls_this_country_this_game = match_data_this_country[match_data_this_country['Status'] == 'FAIL - EMPTY']\n",
    "        if len(nulls_this_country_this_game) != 0:\n",
    "            correct_key = f\"{key}***{country}\"\n",
    "            matches_null_rows_dict[correct_key] = len(nulls_this_country_this_game)\n",
    "            print(key, country, len(nulls_this_country_this_game))"
   ]
  },
  {
   "cell_type": "code",
   "execution_count": 169,
   "metadata": {},
   "outputs": [
    {
     "data": {
      "text/html": [
       "<div>\n",
       "<style scoped>\n",
       "    .dataframe tbody tr th:only-of-type {\n",
       "        vertical-align: middle;\n",
       "    }\n",
       "\n",
       "    .dataframe tbody tr th {\n",
       "        vertical-align: top;\n",
       "    }\n",
       "\n",
       "    .dataframe thead th {\n",
       "        text-align: right;\n",
       "    }\n",
       "</style>\n",
       "<table border=\"1\" class=\"dataframe\">\n",
       "  <thead>\n",
       "    <tr style=\"text-align: right;\">\n",
       "      <th></th>\n",
       "      <th>match ID</th>\n",
       "      <th>country</th>\n",
       "      <th># nulls</th>\n",
       "      <th>matchup</th>\n",
       "      <th>date</th>\n",
       "      <th>Null Match?</th>\n",
       "    </tr>\n",
       "  </thead>\n",
       "  <tbody>\n",
       "    <tr>\n",
       "      <th>0</th>\n",
       "      <td>World Cup Qualifiers, Africa_111</td>\n",
       "      <td>Libya</td>\n",
       "      <td>4</td>\n",
       "      <td>DR Congo vs Libya</td>\n",
       "      <td>2013-03-24</td>\n",
       "      <td>False</td>\n",
       "    </tr>\n",
       "    <tr>\n",
       "      <th>1</th>\n",
       "      <td>Africa Cup of Nations, Qualifiers_159</td>\n",
       "      <td>Benin</td>\n",
       "      <td>1</td>\n",
       "      <td>Benin vs Equat. Guinea</td>\n",
       "      <td>2016-06-12</td>\n",
       "      <td>False</td>\n",
       "    </tr>\n",
       "    <tr>\n",
       "      <th>2</th>\n",
       "      <td>Africa Cup of Nations, Qualifiers_159</td>\n",
       "      <td>Equatorial Guinea</td>\n",
       "      <td>1</td>\n",
       "      <td>Benin vs Equat. Guinea</td>\n",
       "      <td>2016-06-12</td>\n",
       "      <td>False</td>\n",
       "    </tr>\n",
       "    <tr>\n",
       "      <th>3</th>\n",
       "      <td>Africa Cup of Nations, Qualifiers_188</td>\n",
       "      <td>São Tomé and Príncipe</td>\n",
       "      <td>2</td>\n",
       "      <td>São Tomé and P. vs Morocco</td>\n",
       "      <td>2015-09-05</td>\n",
       "      <td>False</td>\n",
       "    </tr>\n",
       "    <tr>\n",
       "      <th>4</th>\n",
       "      <td>Africa Cup of Nations, Qualifiers_219</td>\n",
       "      <td>Sierra Leone</td>\n",
       "      <td>2</td>\n",
       "      <td>Sudan vs Sierra Leone</td>\n",
       "      <td>2015-06-14</td>\n",
       "      <td>False</td>\n",
       "    </tr>\n",
       "    <tr>\n",
       "      <th>5</th>\n",
       "      <td>Africa Cup of Nations, Qualifiers_258</td>\n",
       "      <td>Swaziland</td>\n",
       "      <td>10</td>\n",
       "      <td>Swaziland vs Guinea</td>\n",
       "      <td>2016-06-05</td>\n",
       "      <td>False</td>\n",
       "    </tr>\n",
       "  </tbody>\n",
       "</table>\n",
       "</div>"
      ],
      "text/plain": [
       "                                match ID                country  # nulls  \\\n",
       "0       World Cup Qualifiers, Africa_111                  Libya        4   \n",
       "1  Africa Cup of Nations, Qualifiers_159                  Benin        1   \n",
       "2  Africa Cup of Nations, Qualifiers_159      Equatorial Guinea        1   \n",
       "3  Africa Cup of Nations, Qualifiers_188  São Tomé and Príncipe        2   \n",
       "4  Africa Cup of Nations, Qualifiers_219           Sierra Leone        2   \n",
       "5  Africa Cup of Nations, Qualifiers_258              Swaziland       10   \n",
       "\n",
       "                      matchup        date  Null Match?  \n",
       "0           DR Congo vs Libya  2013-03-24        False  \n",
       "1      Benin vs Equat. Guinea  2016-06-12        False  \n",
       "2      Benin vs Equat. Guinea  2016-06-12        False  \n",
       "3  São Tomé and P. vs Morocco  2015-09-05        False  \n",
       "4       Sudan vs Sierra Leone  2015-06-14        False  \n",
       "5         Swaziland vs Guinea  2016-06-05        False  "
      ]
     },
     "execution_count": 169,
     "metadata": {},
     "output_type": "execute_result"
    }
   ],
   "source": [
    "matches_null_rows_df = pd.DataFrame()\n",
    "for key in matches_null_rows_dict:\n",
    "    match_ID = key.split('***')[0]\n",
    "    country = key.split('***')[1]\n",
    "    #print(match_ID, country, matches_null_rows_dict[key])\n",
    "    matchup = combined_DF[combined_DF['Match ID'] == match_ID]['Match'].unique()[0]\n",
    "    date = combined_DF[combined_DF['Match ID'] == match_ID]['Date'].unique()[0]\n",
    "    new_row = {\n",
    "        'match ID': match_ID,\n",
    "        'country': country,\n",
    "        '# nulls': matches_null_rows_dict[key],\n",
    "        'matchup': matchup,\n",
    "        'date': date\n",
    "    }\n",
    "    matches_null_rows_df = pd.concat([matches_null_rows_df, pd.DataFrame([new_row])], ignore_index=True)\n",
    "matches_null_rows_df['Null Match?'] = False\n",
    "# Loop through each row to check and update the 'Null Match?' column\n",
    "for index, row in matches_null_rows_df.iterrows():\n",
    "    match_id = row['match ID']\n",
    "    filtered_df = matches_null_rows_df[matches_null_rows_df['match ID'] == match_id]\n",
    "    \n",
    "    if len(filtered_df) == 2 and filtered_df['# nulls'].sum() == 22:\n",
    "        matches_null_rows_df.loc[matches_null_rows_df['match ID'] == match_id, 'Null Match?'] = True\n",
    "matches_null_rows_df[matches_null_rows_df['Null Match?'] != True]#['match ID'].unique()\n"
   ]
  },
  {
   "cell_type": "code",
   "execution_count": 91,
   "metadata": {},
   "outputs": [],
   "source": [
    "combined_DF.at[44, 'ORIGINAL JERSEY'] = 'Sayed Mohammed Jaffer'\n",
    "combined_DF.at[44, 'Status'] = 'POSSIBLE'\n",
    "combined_DF.at[45, 'ORIGINAL JERSEY'] = 'Dawood Saad'\n",
    "combined_DF.at[45, 'Status'] = 'POSSIBLE'\n",
    "combined_DF.at[46, 'ORIGINAL JERSEY'] = 'Husain Ali Baba'\n",
    "combined_DF.at[46, 'Status'] = 'POSSIBLE'\n",
    "combined_DF.at[47, 'ORIGINAL JERSEY'] = 'Saleh Abdulhameed'\n",
    "combined_DF.at[47, 'Status'] = 'POSSIBLE'\n",
    "\n",
    "combined_DF.at[48, 'ORIGINAL JERSEY'] = 'Mohammed Husain'\n",
    "combined_DF.at[48, 'Status'] = 'POSSIBLE'\n",
    "\n",
    "combined_DF.at[49, 'ORIGINAL JERSEY'] = 'Faouzi Aaish'\n",
    "combined_DF.at[49, 'Status'] = 'POSSIBLE'\n",
    "\n",
    "combined_DF.at[50, 'ORIGINAL JERSEY'] = 'Hamad Rakea'\n",
    "combined_DF.at[50, 'Status'] = 'POSSIBLE'\n",
    "\n",
    "combined_DF.at[51, 'ORIGINAL JERSEY'] = 'Sayed Ebrahim'\n",
    "combined_DF.at[51, 'Status'] = 'POSSIBLE'\n",
    "\n",
    "combined_DF.at[52, 'ORIGINAL JERSEY'] = 'Abdulwahab Al-Safi'\n",
    "combined_DF.at[52, 'Status'] = 'POSSIBLE'\n",
    "\n",
    "combined_DF.at[53, 'ORIGINAL JERSEY'] = 'Mohammed Al-Tayeb'\n",
    "combined_DF.at[53, 'Status'] = 'POSSIBLE'\n",
    "\n",
    "combined_DF.at[54, 'ORIGINAL JERSEY'] = 'Ismail Abdullatif'\n",
    "combined_DF.at[54, 'Status'] = 'POSSIBLE'\n",
    "\n",
    "combined_DF.at[55, 'ORIGINAL JERSEY'] = 'Faisal Jasim'\n",
    "combined_DF.at[55, 'Status'] = 'POSSIBLE'\n",
    "\n",
    "combined_DF.at[122, 'ORIGINAL JERSEY'] = 'Mohammed Ayash'\n",
    "combined_DF.at[122, 'Status'] = 'POSSIBLE'\n",
    "\n",
    "combined_DF.at[123, 'ORIGINAL JERSEY'] = 'Hamada Al-Zubairi'\n",
    "combined_DF.at[123, 'Status'] = 'POSSIBLE'\n",
    "\n",
    "combined_DF.at[124, 'ORIGINAL JERSEY'] = 'Mohammed Boqshan'\n",
    "combined_DF.at[124, 'Status'] = 'POSSIBLE'\n",
    "\n",
    "combined_DF.at[125, 'ORIGINAL JERSEY'] = 'Ammar Hamsan'\n",
    "combined_DF.at[125, 'Status'] = 'POSSIBLE'\n",
    "\n",
    "combined_DF.at[126, 'ORIGINAL JERSEY'] = 'Alaa Noman'\n",
    "combined_DF.at[126, 'Status'] = 'POSSIBLE'\n",
    "\n",
    "combined_DF.at[127, 'ORIGINAL JERSEY'] = 'Ahmed Al-Haifi'\n",
    "combined_DF.at[127, 'Status'] = 'POSSIBLE'\n",
    "\n",
    "combined_DF.at[128, 'ORIGINAL JERSEY'] = 'Abdulwasea Al-Matari'\n",
    "combined_DF.at[128, 'Status'] = 'POSSIBLE'\n",
    "\n",
    "combined_DF.at[129, 'ORIGINAL JERSEY'] = 'Ahmed Alos'\n",
    "combined_DF.at[129, 'Status'] = 'POSSIBLE'\n",
    "\n",
    "combined_DF.at[130, 'ORIGINAL JERSEY'] = 'Alaa Al-Sasi'\n",
    "combined_DF.at[130, 'Status'] = 'POSSIBLE'\n",
    "\n",
    "combined_DF.at[131, 'ORIGINAL JERSEY'] = 'Emad Mansoor'\n",
    "combined_DF.at[131, 'Status'] = 'POSSIBLE'\n",
    "\n",
    "combined_DF.at[132, 'ORIGINAL JERSEY'] = 'Hesham Nayem'\n",
    "combined_DF.at[132, 'Status'] = 'POSSIBLE'\n",
    "combined_DF.at[133, 'ORIGINAL JERSEY'] = 'Mohammed Husain'\n",
    "combined_DF.at[133, 'Status'] = 'POSSIBLE'\n",
    "combined_DF.at[134, 'ORIGINAL JERSEY'] = 'Sayed Dhiya Saeed'\n",
    "combined_DF.at[134, 'Status'] = 'POSSIBLE'\n",
    "combined_DF.at[135, 'ORIGINAL JERSEY'] = 'Abdulwahab Al-Safi'\n",
    "combined_DF.at[135, 'Status'] = 'POSSIBLE'\n",
    "combined_DF.at[136, 'ORIGINAL JERSEY'] = 'Abdulwahab Al-Malood'\n",
    "combined_DF.at[136, 'Status'] = 'POSSIBLE'\n",
    "combined_DF.at[137, 'ORIGINAL JERSEY'] = 'Ismail Abdullatif'\n",
    "combined_DF.at[137, 'Status'] = 'POSSIBLE'\n",
    "\n",
    "combined_DF.at[208, 'ORIGINAL JERSEY'] = 'Lourenço'\n",
    "combined_DF.at[208, 'Status'] = 'POSSIBLE'\n",
    "combined_DF.at[209, 'ORIGINAL JERSEY'] = 'Carlinhos'\n",
    "combined_DF.at[209, 'Status'] = 'POSSIBLE'\n",
    "\n",
    "combined_DF.at[210, 'ORIGINAL JERSEY'] = 'Mario Bakary'\n",
    "combined_DF.at[210, 'Status'] = 'POSSIBLE'\n",
    "combined_DF.at[211, 'ORIGINAL JERSEY'] = 'Yasser Radahy'\n",
    "combined_DF.at[211, 'Name'] = 'Yasser Radahy'\n",
    "combined_DF.at[211, 'Name(s) Found'] = 'Yasser Radahy'\n",
    "\n",
    "combined_DF.at[211, 'Status'] = 'SUCCESS'\n",
    "combined_DF.at[211, 'Lookup Return Case'] = 'Found in Curr Season'\n",
    "combined_DF.at[211, 'Market Value'] = 0\n",
    "combined_DF.at[211, 'Lookup Still Required?'] = False\n",
    "\n",
    "combined_DF.at[212, 'ORIGINAL JERSEY'] = 'Bernard Agele'\n",
    "combined_DF.at[212, 'Status'] = 'POSSIBLE'\n",
    "combined_DF.at[213, 'ORIGINAL JERSEY'] = 'Robert Wurube'\n",
    "combined_DF.at[213, 'Status'] = 'POSSIBLE'\n",
    "combined_DF.at[214, 'ORIGINAL JERSEY'] = 'Edmond Amadeo'\n",
    "combined_DF.at[214, 'Status'] = 'POSSIBLE'\n",
    "combined_DF.at[214, 'Status'] = 'SUCCESS'\n",
    "combined_DF.at[214, 'Lookup Return Case'] = 'Found in Curr Season'\n",
    "combined_DF.at[214, 'Market Value'] = 0\n",
    "combined_DF.at[214, 'Lookup Still Required?'] = False\n",
    "\n",
    "combined_DF.at[217, 'ORIGINAL JERSEY'] = 'Lubari Lubari Zarambi'\n",
    "combined_DF.at[217, 'Status'] = 'SUCCESS'\n",
    "combined_DF.at[217, 'Lookup Return Case'] = 'Found in Curr Season'\n",
    "combined_DF.at[217, 'Market Value'] = 0\n",
    "combined_DF.at[217, 'Lookup Still Required?'] = False\n",
    "\n",
    "combined_DF.at[218, 'ORIGINAL JERSEY'] = 'Samuel Tombe Columbano'\n",
    "combined_DF.at[218, 'Status'] = 'POSSIBLE'\n",
    "\n",
    "combined_DF.at[223, 'ORIGINAL JERSEY'] = 'Yac Diori'\n",
    "combined_DF.at[223, 'Status'] = 'POSSIBLE'\n",
    "\n",
    "combined_DF.at[224, 'ORIGINAL JERSEY'] = 'Joseph Kamwendo'\n",
    "combined_DF.at[224, 'Status'] = 'POSSIBLE'\n",
    "\n",
    "combined_DF.at[225, 'ORIGINAL JERSEY'] = 'Peter Wadabwa'\n",
    "combined_DF.at[225, 'Status'] = 'POSSIBLE'\n",
    "\n",
    "combined_DF.at[226, 'ORIGINAL JERSEY'] = 'Chiukepo Msowoya'\n",
    "combined_DF.at[226, 'Status'] = 'POSSIBLE'\n",
    "\n",
    "combined_DF.at[227, 'ORIGINAL JERSEY'] = 'Harry Nyirenda'\n",
    "combined_DF.at[227, 'Status'] = 'POSSIBLE'\n",
    "\n",
    "combined_DF.at[228, 'ORIGINAL JERSEY'] = 'Charles Swini'\n",
    "combined_DF.at[228, 'Status'] = 'POSSIBLE'\n",
    "\n",
    "combined_DF.at[229, 'ORIGINAL JERSEY'] = 'John Banda'\n",
    "combined_DF.at[229, 'Status'] = 'POSSIBLE'\n",
    "\n",
    "combined_DF.at[230, 'ORIGINAL JERSEY'] = 'John Lanjesi'\n",
    "combined_DF.at[230, 'Status'] = 'POSSIBLE'\n",
    "\n",
    "combined_DF.at[231, 'ORIGINAL JERSEY'] = 'Francis Mulimbika'\n",
    "combined_DF.at[231, 'Status'] = 'POSSIBLE'\n",
    "\n",
    "combined_DF.at[232, 'ORIGINAL JERSEY'] = 'Stanley Sanudi'\n",
    "combined_DF.at[232, 'Status'] = 'POSSIBLE'\n",
    "\n",
    "combined_DF.at[233, 'ORIGINAL JERSEY'] = 'Foster Namwera'\n",
    "combined_DF.at[233, 'Status'] = 'SUCCESS'\n",
    "combined_DF.at[233, 'Lookup Return Case'] = 'Found in Curr Season'\n",
    "combined_DF.at[233, 'Market Value'] = 0\n",
    "combined_DF.at[233, 'Lookup Still Required?'] = False\n",
    "\n",
    "combined_DF.at[234, 'ORIGINAL JERSEY'] = 'Wonderful Jeremani'\n",
    "combined_DF.at[234, 'Status'] = 'SUCCESS'\n",
    "combined_DF.at[234, 'Lookup Return Case'] = 'Found in Curr Season'\n",
    "combined_DF.at[234, 'Market Value'] = 0\n",
    "combined_DF.at[234, 'Lookup Still Required?'] = False\n",
    "\n",
    "\n"
   ]
  },
  {
   "cell_type": "code",
   "execution_count": 164,
   "metadata": {},
   "outputs": [
    {
     "data": {
      "text/plain": [
       "5320"
      ]
     },
     "execution_count": 164,
     "metadata": {},
     "output_type": "execute_result"
    }
   ],
   "source": [
    "combined_DF = combined_DF[combined_DF['Match ID'] != 'Nations League_184']\n",
    "combined_DF = combined_DF[combined_DF['Match ID'] != 'Nations League_195']\n",
    "combined_DF = combined_DF[combined_DF['Match ID'] != 'World Cup Qualifiers, Asia_274']\n",
    "combined_DF = combined_DF[combined_DF['Match ID'] != 'World Cup Qualifiers, Asia_277']\n",
    "combined_DF = combined_DF[combined_DF['Match ID'] != 'World Cup Qualifiers, Asia_278']\n",
    "combined_DF = combined_DF[combined_DF['Match ID'] != 'World Cup Qualifiers, Asia_597']\n",
    "combined_DF = combined_DF[combined_DF['Match ID'] != 'Africa Cup of Nations, Qualifiers_23']\n",
    "combined_DF = combined_DF[combined_DF['Match ID'] != 'Africa Cup of Nations, Qualifiers_84']\n",
    "combined_DF = combined_DF[combined_DF['Match ID'] != 'Africa Cup of Nations, Qualifiers_427']\n",
    "combined_DF = combined_DF[combined_DF['Match ID'] != 'Africa Cup of Nations, Qualifiers_430']\n",
    "combined_DF = combined_DF[combined_DF['Match ID'] != 'Africa Cup of Nations, Qualifiers_707']\n",
    "combined_DF = combined_DF[combined_DF['Match ID'] != 'Africa Cup of Nations, Qualifiers_709']\n",
    "\n",
    "len(combined_DF['Match ID'].unique())\n",
    "#we're expecting 5320 "
   ]
  },
  {
   "cell_type": "code",
   "execution_count": 170,
   "metadata": {},
   "outputs": [],
   "source": [
    "combined_DF.to_csv('combined_DF_may_20.csv')"
   ]
  },
  {
   "cell_type": "code",
   "execution_count": null,
   "metadata": {},
   "outputs": [],
   "source": [
    "#failed ones - no lineups out there better than TM \n",
    "\n",
    "# DR Congo vs Libya\t2013-03-24 - missing 4 from Libya \n",
    "# Benin vs Equat. Guinea\t2016-06-12\t- missing 1 from Benin, and 1 from EQ Guinea\n",
    "#São Tomé and P. vs Morocco\t2015-09-05 - missing 2 from Sao Tome \n",
    "#Sudan vs Sierra Leone\t2015-06-14 - missing 2 from Sierra Leone\n",
    "#Swaziland vs Guinea\t2016-06-05 - missing 10 from Swaziland\n",
    "\n",
    "#these will be partial lineups bascially "
   ]
  },
  {
   "cell_type": "code",
   "execution_count": null,
   "metadata": {},
   "outputs": [],
   "source": [
    "#MATCHES THAT R JUST ALL EMPTY \n",
    "    #Nations League_184 – entire match is null rows\n",
    "    #Nations League_195 - entire match is null rows \n",
    "    #World Cup Qualifiers, Asia_274 – entire match is null rows\n",
    "    #World Cup Qualifiers, Asia_277 – entire match is null rows\n",
    "    #World Cup Qualifiers, Asia_278 – entire match is null rows\n",
    "    #World Cup Qualifiers, Asia_597 – entire match is null rows\n",
    "    #Africa Cup of Nations, Qualifiers_707 – entire match is null rows\n",
    "\n",
    "    \n",
    "    #World Cup Qualifiers, Asia_295 - the entirety of the Yemen team is missing bar 1 guy\n",
    "\n",
    "#in order to check how many matches are entirely null \n",
    "\n",
    "    #loop throguh all of the match IDs, and filter the combined DF for them. then count the number of \"FAIL - EMPTY\" rows\n",
    "\n",
    "    #World Cup Qualifiers, Africa_111 was 4 missing for libya "
   ]
  },
  {
   "cell_type": "markdown",
   "metadata": {},
   "source": [
    "### may 20 prep work"
   ]
  },
  {
   "cell_type": "code",
   "execution_count": 27,
   "metadata": {},
   "outputs": [],
   "source": [
    "for index, row in combined_DF.iterrows():\n",
    "    if pd.isna(row['Name']):\n",
    "        combined_DF.at[index, 'Name'] = combined_DF.at[index, 'ORIGINAL JERSEY']"
   ]
  },
  {
   "cell_type": "code",
   "execution_count": 9,
   "metadata": {},
   "outputs": [],
   "source": [
    "grouped = combined_DF.groupby(['Match ID', 'Nationality'])\n",
    "\n",
    "# Iterate over the groups\n",
    "for (match_ID, country), group in grouped:\n",
    "    if len(group) != 11:\n",
    "        print(match_ID, country)"
   ]
  },
  {
   "cell_type": "code",
   "execution_count": 34,
   "metadata": {},
   "outputs": [],
   "source": [
    "for index, row in combined_DF.iterrows():\n",
    "    if row['Market Value'] == '-':\n",
    "        combined_DF.at[index, 'Market Value'] = 0"
   ]
  },
  {
   "cell_type": "code",
   "execution_count": 64,
   "metadata": {},
   "outputs": [],
   "source": [
    "combined_DF['Market Value New'] = -1"
   ]
  },
  {
   "cell_type": "code",
   "execution_count": 65,
   "metadata": {},
   "outputs": [
    {
     "name": "stdout",
     "output_type": "stream",
     "text": [
      "117018\n"
     ]
    }
   ],
   "source": [
    "counter = 0\n",
    "for index,row in combined_DF.iterrows():\n",
    "    if type(row['Market Value'] == str):\n",
    "        counter += 1\n",
    "        number_version = round(float(row['Market Value']))\n",
    "        combined_DF.at[index, 'Market Value New'] = number_version\n",
    "        #print(number_version)\n",
    "print(counter)"
   ]
  },
  {
   "cell_type": "code",
   "execution_count": 67,
   "metadata": {},
   "outputs": [],
   "source": [
    "#combined_DF = combined_DF.drop(columns={'Unnamed: 0'})\n",
    "#combined_DF = combined_DF.drop(columns={'Match Case', 'Impute Required?'})\n",
    "#combined_DF = combined_DF.drop(columns={'Status'})\n",
    "#combined_DF = combined_DF.drop(columns={'Name'})\n",
    "\n",
    "combined_DF.to_csv('most_updated_combined_DF_may_20.csv')"
   ]
  },
  {
   "cell_type": "markdown",
   "metadata": {},
   "source": [
    "### May 20 - combine data into big dataset 2"
   ]
  },
  {
   "cell_type": "code",
   "execution_count": 81,
   "metadata": {},
   "outputs": [],
   "source": [
    "most_updated_combined_DF_may_20 = load_csv_dataset('most_updated_combined_DF_may_20.csv')"
   ]
  },
  {
   "cell_type": "code",
   "execution_count": 117,
   "metadata": {},
   "outputs": [],
   "source": [
    "match_dataset_1 = pd.DataFrame()"
   ]
  },
  {
   "cell_type": "code",
   "execution_count": 118,
   "metadata": {},
   "outputs": [],
   "source": [
    "for match_ID in most_updated_combined_DF_may_20['Match ID'].unique():\n",
    "# match_ID = 'World Cup Qualifiers, Asia_95'\n",
    "    this_match_countries = most_updated_combined_DF_may_20[most_updated_combined_DF_may_20['Match ID'] == match_ID]['Nationality'].unique()\n",
    "    for country in this_match_countries:\n",
    "        data_this_game_this_country = most_updated_combined_DF_may_20[(most_updated_combined_DF_may_20['Match ID'] == match_ID) & (most_updated_combined_DF_may_20['Nationality'] == country)]\n",
    "        if len(data_this_game_this_country) == 11:\n",
    "            list_of_names = list(data_this_game_this_country['Name(s) Found'])\n",
    "            list_of_values = list(data_this_game_this_country['Market Value New'])\n",
    "            tot_value = data_this_game_this_country['Market Value New'].sum()\n",
    "\n",
    "            new_row = {\n",
    "                'Match ID': match_ID,\n",
    "                'Country': country,\n",
    "                'Match': data_this_game_this_country['Match'].unique()[0],\n",
    "                'Date': data_this_game_this_country['Date'].unique()[0],\n",
    "                'Season': data_this_game_this_country['Season'].unique()[0],\n",
    "                'Team Code': data_this_game_this_country['Team Country Code'].unique()[0],\n",
    "                'Team Total MV': tot_value,\n",
    "                'Player List': list_of_names,\n",
    "                'Values List': list_of_values\n",
    "            }\n",
    "            new_row_df = pd.DataFrame([new_row])\n",
    "            match_dataset_1 = pd.concat([match_dataset_1, new_row_df], ignore_index=True)\n",
    "\n",
    "\n",
    "        "
   ]
  },
  {
   "cell_type": "code",
   "execution_count": 123,
   "metadata": {},
   "outputs": [],
   "source": [
    "match_dataset_1.to_csv('match_dataset_1.csv')"
   ]
  },
  {
   "cell_type": "code",
   "execution_count": null,
   "metadata": {},
   "outputs": [],
   "source": [
    "#5319 matches\n",
    "#10638 rows expected"
   ]
  }
 ],
 "metadata": {
  "kernelspec": {
   "display_name": "Python 3",
   "language": "python",
   "name": "python3"
  },
  "language_info": {
   "codemirror_mode": {
    "name": "ipython",
    "version": 3
   },
   "file_extension": ".py",
   "mimetype": "text/x-python",
   "name": "python",
   "nbconvert_exporter": "python",
   "pygments_lexer": "ipython3",
   "version": "3.12.0"
  }
 },
 "nbformat": 4,
 "nbformat_minor": 2
}
