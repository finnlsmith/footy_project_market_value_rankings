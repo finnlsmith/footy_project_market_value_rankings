{
 "cells": [
  {
   "cell_type": "code",
   "execution_count": 1,
   "metadata": {},
   "outputs": [],
   "source": [
    "import requests\n",
    "import pandas as pd \n",
    "import numpy as np\n",
    "import re\n",
    "import sys, getopt\n",
    "import csv\n",
    "import os\n",
    "import matplotlib.pyplot as plt\n",
    "import seaborn as sns"
   ]
  },
  {
   "cell_type": "markdown",
   "metadata": {},
   "source": [
    "## Above Intervals"
   ]
  },
  {
   "cell_type": "code",
   "execution_count": 2,
   "metadata": {},
   "outputs": [],
   "source": [
    "plot_Data_competitions = pd.read_csv('split_competitions_win_pct_mkt_value_diff_ABOVE_INTERVALS.csv')\n"
   ]
  },
  {
   "cell_type": "code",
   "execution_count": 3,
   "metadata": {},
   "outputs": [],
   "source": [
    "competition_dfs = {comp: df for comp, df in plot_Data_competitions.groupby('Competition')}\n"
   ]
  },
  {
   "cell_type": "code",
   "execution_count": null,
   "metadata": {},
   "outputs": [],
   "source": [
    "# def plot_competition_data(subset, competition_name):\n",
    "#     # Drop rows with NaN values in 'average_mv_prediction_correct'\n",
    "#     subset = subset.dropna(subset=['average_mv_prediction_correct'])\n",
    "    \n",
    "#     plt.figure(figsize=(10, 6))\n",
    "    \n",
    "#     # Create the plot\n",
    "#     plot = sns.lineplot(data=subset, x='interval', y='average_mv_prediction_correct', alpha=0.7)\n",
    "    \n",
    "#     # Highlight vertical bars where Y value is at or above 0.75\n",
    "#     for _, row in subset.iterrows():\n",
    "#         if row['average_mv_prediction_correct'] >= 0.75:\n",
    "#             plt.axvspan(row['interval'] - 0.1, row['interval'] + 0.1, color='pink', alpha=0.3)\n",
    "    \n",
    "#     # Add scatter plot with conditional coloring\n",
    "#     scatter = sns.scatterplot(\n",
    "#         data=subset, \n",
    "#         x='interval', \n",
    "#         y='average_mv_prediction_correct', \n",
    "#         size='sample_size', \n",
    "#         legend=False, \n",
    "#         sizes=(20, 200),\n",
    "#         hue=subset['average_mv_prediction_correct'] >= 0.75,  # Conditional coloring\n",
    "#         palette={True: 'red', False: 'blue'}  # Colors for the condition\n",
    "#     )\n",
    "    \n",
    "#     # Calculate the maximum sample size\n",
    "#     max_sample_size = subset['sample_size'].max()\n",
    "    \n",
    "#     # Add text annotations for sample size with more aggressive logarithmically decreasing intervals\n",
    "#     last_annotation_index = -np.inf\n",
    "#     smallest_sample_sizes = subset.nsmallest(5, 'sample_size')\n",
    "#     for i, row in subset.iterrows():\n",
    "#         # Calculate the interval based on a more aggressive logarithm of the average_mv_prediction_correct\n",
    "#         interval = int(1000 / (1 + 2 * np.log1p(row['average_mv_prediction_correct'])))\n",
    "        \n",
    "#         # Adjust interval based on sample size with multiple thresholds\n",
    "#         if row['sample_size'] < 0.5 * max_sample_size:\n",
    "#             interval *= 2  # Increase the interval when sample size is less than 50% of the max sample size\n",
    "#         if row['sample_size'] < 0.2 * max_sample_size:\n",
    "#             interval *= 2  # Further increase the interval when sample size is less than 20% of the max sample size\n",
    "#         if row['sample_size'] < 0.1 * max_sample_size:\n",
    "#             interval *= 2  # Further increase the interval when sample size is less than 10% of the max sample size\n",
    "        \n",
    "#         if i - last_annotation_index >= interval or row['sample_size'] in smallest_sample_sizes['sample_size'].values:\n",
    "#             plt.text(row['interval'], row['average_mv_prediction_correct'] + 0.1, f'{int(row[\"sample_size\"])}',\n",
    "#                      horizontalalignment='center', size='small', color='black', weight='semibold', rotation=90)\n",
    "#             last_annotation_index = i\n",
    "    \n",
    "#     # Add a legend for the sample size text\n",
    "#     plt.text(0.05, 0.95, 'Sample Size', horizontalalignment='left', verticalalignment='top', \n",
    "#              transform=plt.gca().transAxes, size='medium', color='black', weight='semibold', rotation=0)\n",
    "    \n",
    "#     # Find the highest X value\n",
    "#     max_x_value = subset['interval'].max()\n",
    "#     max_x_row = subset[subset['interval'] == max_x_value].iloc[0]\n",
    "#     max_x_y_value = max_x_row['average_mv_prediction_correct']\n",
    "    \n",
    "#     # Add text annotation for the highest X value\n",
    "#     plt.text(max_x_value, max_x_y_value, f'Highest X: {max_x_value}', \n",
    "#              horizontalalignment='right', size='medium', color='red', weight='semibold')\n",
    "    \n",
    "#     # Set X axis to a logarithmic scale\n",
    "#     plt.xscale('log')\n",
    "    \n",
    "#     # Set Y axis limits\n",
    "#     plt.ylim(0, 1)\n",
    "    \n",
    "#     # Add more Y axis ticks\n",
    "#     plt.yticks(np.arange(0, 1.1, 0.1))\n",
    "    \n",
    "#     # Add labels and title\n",
    "#     plt.title(f\"% of correctly predicted matches by difference in market value, {competition_name}\")\n",
    "#     plt.xlabel(\"Interval (log scale)\")\n",
    "#     plt.ylabel(\"Average MV Prediction Correct\")\n",
    "    \n",
    "#     # Use a minimal theme\n",
    "#     sns.despine()\n",
    "    \n",
    "#     # Display the plot\n",
    "#     plt.show()\n",
    "    \n",
    "#     # Clear the current plot to free memory\n",
    "#     plt.clf()"
   ]
  },
  {
   "cell_type": "code",
   "execution_count": 7,
   "metadata": {},
   "outputs": [],
   "source": [
    "def plot_competition_data(subset, competition_name):\n",
    "    # Drop rows with NaN values in 'average_mv_prediction_correct'\n",
    "    subset = subset.dropna(subset=['average_mv_prediction_correct'])\n",
    "    \n",
    "    plt.figure(figsize=(10, 6))\n",
    "    \n",
    "    # Create the plot\n",
    "    plot = sns.lineplot(data=subset, x='interval', y='average_mv_prediction_correct', alpha=0.7)\n",
    "    \n",
    "    # Highlight vertical bars where Y value is at or above 0.75\n",
    "    for _, row in subset.iterrows():\n",
    "        if row['average_mv_prediction_correct'] >= 0.75:\n",
    "            plt.axvspan(row['interval'] - 0.1, row['interval'] + 0.1, color='pink', alpha=0.3)\n",
    "    \n",
    "    # Add scatter plot with conditional coloring\n",
    "    scatter = sns.scatterplot(\n",
    "        data=subset, \n",
    "        x='interval', \n",
    "        y='average_mv_prediction_correct', \n",
    "        size='sample_size', \n",
    "        legend=False, \n",
    "        sizes=(20, 200),\n",
    "        hue=subset['average_mv_prediction_correct'] >= 0.75,  # Conditional coloring\n",
    "        palette={True: 'red', False: 'blue'}  # Colors for the condition\n",
    "    )\n",
    "    \n",
    "    # Calculate the maximum sample size\n",
    "    max_sample_size = subset['sample_size'].max()\n",
    "    \n",
    "    # Add text annotations for sample size with much larger intervals\n",
    "    last_annotation_index = -np.inf\n",
    "    smallest_sample_sizes = subset.nsmallest(5, 'sample_size')\n",
    "    for i, row in subset.iterrows():\n",
    "        # Calculate the interval based on a much larger base interval\n",
    "        interval = int(3000 / (1 + 2 * np.log1p(row['average_mv_prediction_correct'])))\n",
    "        \n",
    "        # Adjust interval based on sample size with multiple thresholds\n",
    "        if row['sample_size'] < 0.5 * max_sample_size:\n",
    "            interval *= 2  # Increase the interval when sample size is less than 50% of the max sample size\n",
    "        if row['sample_size'] < 0.2 * max_sample_size:\n",
    "            interval *= 2  # Further increase the interval when sample size is less than 20% of the max sample size\n",
    "        if row['sample_size'] < 0.1 * max_sample_size:\n",
    "            interval *= 2  # Further increase the interval when sample size is less than 10% of the max sample size\n",
    "        \n",
    "        if i - last_annotation_index >= interval or row['sample_size'] in smallest_sample_sizes['sample_size'].values:\n",
    "            plt.text(row['interval'], row['average_mv_prediction_correct'] + 0.1, f'{int(row[\"sample_size\"])}',\n",
    "                     horizontalalignment='center', size='small', color='black', weight='semibold', rotation=90)\n",
    "            last_annotation_index = i\n",
    "    \n",
    "    # Add a legend for the sample size text\n",
    "    plt.text(0.05, 0.95, 'Sample Size', horizontalalignment='left', verticalalignment='top', \n",
    "             transform=plt.gca().transAxes, size='medium', color='black', weight='semibold', rotation=0)\n",
    "    \n",
    "    # Find the highest X value\n",
    "    max_x_value = subset['interval'].max()\n",
    "    max_x_row = subset[subset['interval'] == max_x_value].iloc[0]\n",
    "    max_x_y_value = max_x_row['average_mv_prediction_correct']\n",
    "    \n",
    "    # Add text annotation for the highest X value\n",
    "    plt.text(max_x_value, max_x_y_value, f'Highest X: {max_x_value}', \n",
    "             horizontalalignment='right', size='medium', color='red', weight='semibold')\n",
    "    \n",
    "    # Set X axis to a logarithmic scale\n",
    "    plt.xscale('log')\n",
    "    \n",
    "    # Set Y axis limits\n",
    "    plt.ylim(0, 1)\n",
    "    \n",
    "    # Add more Y axis ticks\n",
    "    plt.yticks(np.arange(0, 1.1, 0.1))\n",
    "    \n",
    "    # Add labels and title\n",
    "    plt.title(f\"% of correctly predicted matches by difference in market value, {competition_name}\", pad=20, loc='left')\n",
    "    plt.xlabel(\"Interval (log scale)\")\n",
    "    plt.ylabel(\"Average MV Prediction Correct\")\n",
    "    \n",
    "    # Use a minimal theme\n",
    "    sns.despine()\n",
    "    \n",
    "    # Display the plot\n",
    "    plt.show()\n",
    "    \n",
    "    # Clear the current plot to free memory\n",
    "    plt.clf()"
   ]
  },
  {
   "cell_type": "code",
   "execution_count": null,
   "metadata": {},
   "outputs": [],
   "source": [
    "\n",
    "number = 12\n",
    "number = number + 1\n",
    "keynum = list(competition_dfs.keys())[number]\n",
    "plot_competition_data(competition_dfs[keynum], keynum)"
   ]
  },
  {
   "cell_type": "markdown",
   "metadata": {},
   "source": [
    "## BELOW INTERVALS"
   ]
  },
  {
   "cell_type": "code",
   "execution_count": 60,
   "metadata": {},
   "outputs": [],
   "source": [
    "# def plot_competition_data_below(subset, competition_name):\n",
    "#     # Drop rows with NaN values in 'average_mv_prediction_correct'\n",
    "#     subset = subset.dropna(subset=['average_mv_prediction_correct'])\n",
    "    \n",
    "#     plt.figure(figsize=(10, 6))\n",
    "    \n",
    "#     # Create the plot\n",
    "#     plot = sns.lineplot(data=subset, x='interval', y='average_mv_prediction_correct', alpha=0.7)\n",
    "    \n",
    "#     # Highlight vertical bars where Y value is at or above 0.75\n",
    "#     for _, row in subset.iterrows():\n",
    "#         # if row['average_mv_prediction_correct'] >= 0.75:\n",
    "#         #     plt.axvspan(row['interval'] - 0.1, row['interval'] + 0.1, color='pink', alpha=0.3)\n",
    "#         # Highlight areas where Y value is below 0.3\n",
    "#         if row['average_mv_prediction_correct'] < 0.3:\n",
    "#             plt.axvspan(row['interval'] - 0.1, row['interval'] + 0.1, color='lightpink', alpha=0.5)\n",
    "    \n",
    "#     # Add scatter plot with conditional coloring\n",
    "#     scatter = sns.scatterplot(\n",
    "#         data=subset, \n",
    "#         x='interval', \n",
    "#         y='average_mv_prediction_correct', \n",
    "#         size='sample_size', \n",
    "#         legend=False, \n",
    "#         sizes=(20, 200),\n",
    "#         hue=subset['average_mv_prediction_correct'] <= 0.3,  # Conditional coloring\n",
    "#         palette={True: 'red', False: 'blue'}  # Colors for the condition\n",
    "#     )\n",
    "    \n",
    "#     # Calculate the maximum sample size\n",
    "#     max_sample_size = subset['sample_size'].max()\n",
    "#     threshold_sample_size = 0.1 * max_sample_size  # 10% of the maximum sample size\n",
    "    \n",
    "#     # Initialize the last annotated sample size\n",
    "#     last_annotated_sample_size = None\n",
    "    \n",
    "#     # Add text annotations for points where sample size is below 10% of the maximum\n",
    "#     for i, row in subset.iterrows():\n",
    "#         if row['sample_size'] < threshold_sample_size:\n",
    "#             if row['sample_size'] != last_annotated_sample_size:\n",
    "#                 plt.text(row['interval'], row['average_mv_prediction_correct'] + 0.05, f'{int(row[\"sample_size\"])}',\n",
    "#                          horizontalalignment='center', size='small', color='black', weight='semibold', rotation=90)\n",
    "#                 last_annotated_sample_size = row['sample_size']\n",
    "    \n",
    "#     # Find the lowest X value\n",
    "#     min_x_value = subset['interval'].min()\n",
    "#     min_x_row = subset[subset['interval'] == min_x_value].iloc[0]\n",
    "#     min_x_y_value = min_x_row['average_mv_prediction_correct']\n",
    "    \n",
    "#     # Add text annotation for the lowest X value, moved down and to the left\n",
    "#     plt.text(min_x_value, min_x_y_value - 0.05, f'Lowest X: {min_x_value}', \n",
    "#              horizontalalignment='left', size='medium', color='red', weight='semibold')\n",
    "    \n",
    "#     # Annotate the point where sample_size first reaches the maximum value\n",
    "#     max_sample_size_row = subset[subset['sample_size'] == max_sample_size].iloc[0]\n",
    "#     plt.text(max_sample_size_row['interval'], max_sample_size_row['average_mv_prediction_correct'] + 0.05, \n",
    "#              f'Max Sample Size: {int(max_sample_size_row[\"sample_size\"])}', \n",
    "#              horizontalalignment='center', size='medium', color='green', weight='semibold')\n",
    "    \n",
    "#     # Set X axis to a logarithmic scale\n",
    "#     plt.xscale('log')\n",
    "    \n",
    "#     # Set Y axis limits\n",
    "#     plt.ylim(0, 1)\n",
    "    \n",
    "#     # Add more Y axis ticks\n",
    "#     plt.yticks(np.arange(0, 1.1, 0.1))\n",
    "    \n",
    "#     # Add labels and title\n",
    "#     plt.title(f\"% of correctly predicted matches by difference in market value, {competition_name}\", pad=20, loc='left')\n",
    "#     plt.xlabel(\"Interval (log scale)\")\n",
    "#     plt.ylabel(\"Average MV Prediction Correct\")\n",
    "    \n",
    "#     # Use a minimal theme\n",
    "#     sns.despine()\n",
    "    \n",
    "#     # Display the plot\n",
    "#     plt.show()\n",
    "    \n",
    "#     # Clear the current plot to free memory\n",
    "#     plt.clf()"
   ]
  },
  {
   "cell_type": "code",
   "execution_count": 100,
   "metadata": {},
   "outputs": [],
   "source": [
    "def plot_competition_data_below(subset, competition_name, annotation_interval=20, secondary_annotation_interval=40):\n",
    "    # Drop rows with NaN values in 'average_mv_prediction_correct'\n",
    "    subset = subset.dropna(subset=['average_mv_prediction_correct'])\n",
    "    \n",
    "    plt.figure(figsize=(10, 6))\n",
    "    \n",
    "    # Create the plot\n",
    "    plot = sns.lineplot(data=subset, x='interval', y='average_mv_prediction_correct', alpha=0.7)\n",
    "    \n",
    "    # Highlight vertical bars where Y value is at or above 0.75\n",
    "    for _, row in subset.iterrows():\n",
    "        if row['average_mv_prediction_correct'] >= 0.75:\n",
    "            plt.axvspan(row['interval'] - 0.1, row['interval'] + 0.1, color='pink', alpha=0.3)\n",
    "        # Highlight areas where Y value is below 0.3\n",
    "        if row['average_mv_prediction_correct'] < 0.3:\n",
    "            plt.axvspan(row['interval'] - 0.1, row['interval'] + 0.1, color='lightpink', alpha=0.5)\n",
    "    \n",
    "    # Add scatter plot with conditional coloring\n",
    "    scatter = sns.scatterplot(\n",
    "        data=subset, \n",
    "        x='interval', \n",
    "        y='average_mv_prediction_correct', \n",
    "        size='sample_size', \n",
    "        legend=False, \n",
    "        sizes=(20, 200),\n",
    "        hue=subset['average_mv_prediction_correct'] <= 0.3,  # Conditional coloring\n",
    "        palette={True: 'red', False: 'blue'}  # Colors for the condition\n",
    "    )\n",
    "    \n",
    "    # Calculate the maximum sample size\n",
    "    max_sample_size = subset['sample_size'].max()\n",
    "    threshold_sample_size_low = 0.1 * max_sample_size  # 10% of the maximum sample size\n",
    "    secondary_threshold_sample_size = 0.05 * max_sample_size  # 5% of the maximum sample size\n",
    "    \n",
    "    # Initialize the last annotated sample size and last annotated index\n",
    "    last_annotation_index = -annotation_interval  # Ensure the first point can be annotated\n",
    "    last_secondary_annotation_index = -secondary_annotation_interval  # For secondary threshold\n",
    "    last_annotated_sample_size = None  # For tracking changes in sample size\n",
    "    \n",
    "    # Add text annotations for points where sample size is below 10% of the maximum\n",
    "    for i, row in subset.iterrows():\n",
    "        if row['sample_size'] < threshold_sample_size_low:\n",
    "            if row['sample_size'] >= secondary_threshold_sample_size:\n",
    "                # Annotate only if the sample size changes by at least 3\n",
    "                if last_annotated_sample_size is None or abs(row['sample_size'] - last_annotated_sample_size) >= 3:\n",
    "                    if i - last_secondary_annotation_index >= secondary_annotation_interval:\n",
    "                        plt.text(row['interval'], row['average_mv_prediction_correct'] + 0.05, f'{int(row[\"sample_size\"])}',\n",
    "                                 horizontalalignment='center', size='small', color='black', weight='semibold', rotation=90)\n",
    "                        last_secondary_annotation_index = i\n",
    "                        last_annotated_sample_size = row['sample_size']\n",
    "            else:\n",
    "                if i - last_annotation_index >= annotation_interval:\n",
    "                    plt.text(row['interval'], row['average_mv_prediction_correct'] + 0.05, f'{int(row[\"sample_size\"])}',\n",
    "                             horizontalalignment='center', size='small', color='black', weight='semibold', rotation=90)\n",
    "                    last_annotation_index = i\n",
    "    \n",
    "    # Add annotation for sample size exactly at 10% of the maximum or the closest one\n",
    "    ten_percent_sample_size = threshold_sample_size_low\n",
    "    ten_percent_row = subset.iloc[(subset['sample_size'] - ten_percent_sample_size).abs().argsort()[:1]]\n",
    "    if not ten_percent_row.empty:\n",
    "        row = ten_percent_row.iloc[0]\n",
    "        plt.text(row['interval'], row['average_mv_prediction_correct'] + 0.05, f'10% Max: {int(row[\"sample_size\"])}',\n",
    "                 horizontalalignment='center', size='small', color='purple', weight='semibold', rotation=90)\n",
    "\n",
    "    # Find the lowest X value\n",
    "    min_x_value = subset['interval'].min()\n",
    "    min_x_row = subset[subset['interval'] == min_x_value].iloc[0]\n",
    "    min_x_y_value = min_x_row['average_mv_prediction_correct']\n",
    "    \n",
    "    # Add text annotation for the lowest X value, moved down and to the left\n",
    "    plt.text(min_x_value, min_x_y_value - 0.05, f'Lowest X: {min_x_value}', \n",
    "             horizontalalignment='left', size='medium', color='red', weight='semibold')\n",
    "    \n",
    "    # Annotate the point where sample_size first reaches the maximum value\n",
    "    max_sample_size_row = subset[subset['sample_size'] == max_sample_size].iloc[0]\n",
    "    plt.text(max_sample_size_row['interval'], max_sample_size_row['average_mv_prediction_correct'] + 0.05, \n",
    "             f'Max Sample Size: {int(max_sample_size_row[\"sample_size\"])}', \n",
    "             horizontalalignment='center', size='medium', color='green', weight='semibold')\n",
    "    \n",
    "    # Set X axis to a logarithmic scale\n",
    "    plt.xscale('log')\n",
    "    \n",
    "    # Set Y axis limits\n",
    "    plt.ylim(0, 1)\n",
    "    \n",
    "    # Add more Y axis ticks\n",
    "    plt.yticks(np.arange(0, 1.1, 0.1))\n",
    "    \n",
    "    # Add labels and title\n",
    "    plt.title(f\"% of correctly predicted matches by difference in market value, {competition_name}\", pad=20, loc='left')\n",
    "    plt.xlabel(\"Interval (log scale)\")\n",
    "    plt.ylabel(\"Average MV Prediction Correct\")\n",
    "    \n",
    "    # Use a minimal theme\n",
    "    sns.despine()\n",
    "    \n",
    "    # Display the plot\n",
    "    plt.show()\n",
    "    \n",
    "    # Clear the current plot to free memory\n",
    "    plt.clf()"
   ]
  },
  {
   "cell_type": "code",
   "execution_count": 124,
   "metadata": {},
   "outputs": [],
   "source": [
    "plot_Data_competitions_below = pd.read_csv('split_competitions_win_pct_mkt_value_diff_BELOW_INTERVALS.csv')\n"
   ]
  },
  {
   "cell_type": "code",
   "execution_count": 125,
   "metadata": {},
   "outputs": [],
   "source": [
    "competition_dfs = {comp: df for comp, df in plot_Data_competitions_below.groupby('Competition')}\n"
   ]
  },
  {
   "cell_type": "code",
   "execution_count": 108,
   "metadata": {},
   "outputs": [
    {
     "data": {
      "image/png": "[encoded data removed]",
      "text/plain": [
       "<Figure size 1000x600 with 1 Axes>"
      ]
     },
     "metadata": {},
     "output_type": "display_data"
    },
    {
     "data": {
      "text/plain": [
       "<Figure size 640x480 with 0 Axes>"
      ]
     },
     "metadata": {},
     "output_type": "display_data"
    }
   ],
   "source": [
    "#number = 0\n",
    "number = number - 1\n",
    "keynum = list(competition_dfs.keys())[number]\n",
    "plot_competition_data_below(competition_dfs[keynum], keynum)"
   ]
  },
  {
   "cell_type": "markdown",
   "metadata": {},
   "source": [
    "## Finding threshold above which it's a lock"
   ]
  },
  {
   "cell_type": "markdown",
   "metadata": {},
   "source": [
    "### from below"
   ]
  },
  {
   "cell_type": "markdown",
   "metadata": {},
   "source": [
    "goal: find a MV difference with a significant sample size of matches below which the lower team Never wins."
   ]
  },
  {
   "cell_type": "code",
   "execution_count": 323,
   "metadata": {},
   "outputs": [],
   "source": [
    "\n",
    "import numpy as np\n",
    "import scipy.stats as stats\n",
    "plot_Data_competitions_below = pd.read_csv('split_competitions_win_pct_mkt_value_diff_BELOW_INTERVALS.csv')\n",
    "competition_dfs_below = {comp: df for comp, df in plot_Data_competitions_below.groupby('Competition')}\n",
    "\n",
    "plot_Data_competitions_above = pd.read_csv('split_competitions_win_pct_mkt_value_diff_ABOVE_INTERVALS.csv')\n",
    "competition_dfs_above = {comp: df for comp, df in plot_Data_competitions_above.groupby('Competition')}\n"
   ]
  },
  {
   "cell_type": "code",
   "execution_count": 324,
   "metadata": {},
   "outputs": [],
   "source": [
    "number = -1\n",
    "number = number +1\n"
   ]
  },
  {
   "cell_type": "code",
   "execution_count": 325,
   "metadata": {},
   "outputs": [
    {
     "name": "stdout",
     "output_type": "stream",
     "text": [
      "competition:  Africa Cup of Nations\n",
      "sample size:  220\n",
      "max interval in this competition:  278840000\n"
     ]
    }
   ],
   "source": [
    "keynum = list(competition_dfs_above.keys())[number]\n",
    "df = competition_dfs_above[keynum]\n",
    "minsample = df['sample_size'].min()\n",
    "minsample_df = df[df['sample_size'] == minsample]\n",
    "\n",
    "df = df.dropna(subset=['average_mv_prediction_correct'])\n",
    "idx = df.groupby(['average_mv_prediction_correct', 'sum_mv_prediction_correct', 'sample_size'])['interval'].idxmax()\n",
    "df_high = df.loc[idx]\n",
    "#df_high = df[df['average_mv_prediction_correct'] >= 0.45]\n",
    "df_high = df_high[df_high['interval'] <= minsample_df['interval'].max()]\n",
    "df_high = df_high.sort_values('interval')\n",
    "# Use the indices to select the rows from the original DataFrame\n",
    "\n",
    "print('competition: ', df['Competition'].unique()[0])\n",
    "print('sample size: ', df['sample_size'].max())\n",
    "print('max interval in this competition: ', minsample_df['interval'].min())\n"
   ]
  },
  {
   "cell_type": "code",
   "execution_count": 326,
   "metadata": {},
   "outputs": [],
   "source": [
    "keynum = list(competition_dfs_below.keys())[number]\n",
    "df = competition_dfs_below[keynum]\n",
    "maxsample = df['sample_size'].max()\n",
    "maxsample_df = df[df['sample_size'] == maxsample]\n",
    "df = df.dropna(subset=['average_mv_prediction_correct'])\n",
    "idx = df.groupby(['average_mv_prediction_correct', 'sum_mv_prediction_correct', 'sample_size'])['interval'].idxmin()\n",
    "df_low = df.loc[idx]\n",
    "df_low = df_low[df_low['interval'] <= maxsample_df['interval'].min()]\n",
    "df_low = df_low.sort_values('interval')"
   ]
  },
  {
   "cell_type": "code",
   "execution_count": 327,
   "metadata": {},
   "outputs": [
    {
     "name": "stdout",
     "output_type": "stream",
     "text": [
      "counting the matches with the 34 (15.45%)largest MV differences the win % of the team with the higher MV is ≥70%\n",
      "counting the matches with the 10 (4.55%) smallest MV differences the win % of the team with the higher MV is below 30%\n"
     ]
    }
   ],
   "source": [
    "number_high_side_above_70_pct = df_high[df_high['average_mv_prediction_correct'] >= 0.7]['sample_size'].max()\n",
    "\n",
    "number_low_side_below_30_pct = df_low[df_low['average_mv_prediction_correct'] <= 0.3]['sample_size'].max()\n",
    "\n",
    "tossup_pct_df_high = df_high[(0.45 <= df_high['average_mv_prediction_correct']) & (df_high['average_mv_prediction_correct'] <= 0.55)].sort_values('sample_size')#['sample_size'].max()\n",
    "tossup_pct_df_low = df_low[(0.45 <= df_low['average_mv_prediction_correct']) & (df_low['average_mv_prediction_correct'] <= 0.55)].sort_values('sample_size')#['sample_size'].max()\n",
    "#df_low['average_mv_prediction_correct'].max()\n",
    "\n",
    "print(f\"counting the matches with the {number_high_side_above_70_pct} ({round((number_high_side_above_70_pct / df_high['sample_size'].max()) * 100, 2)}%)largest MV differences the win % of the team with the higher MV is ≥70%\"),\n",
    "print(f\"counting the matches with the {number_low_side_below_30_pct} ({round((number_low_side_below_30_pct / df_high['sample_size'].max()) * 100, 2)}%) smallest MV differences the win % of the team with the higher MV is below 30%\")\n",
    "#tossup_pct_df_high, tossup_pct_df_low"
   ]
  },
  {
   "cell_type": "code",
   "execution_count": 328,
   "metadata": {},
   "outputs": [
    {
     "name": "stdout",
     "output_type": "stream",
     "text": [
      "when you count up to 220 matches the % of times when the higher team wins falls in the tossup range (which is when the of % of Matches where the team with higher MV won the match is between 45% and 55%) \n",
      " 2 standard deviations (95%) of the time when it falls in the tossup range are when you count between 107.22 and 220.00 of the matches\n"
     ]
    }
   ],
   "source": [
    "# Assuming tossup_pct_df_high is already defined and contains the column 'sample_size'\n",
    "mean = tossup_pct_df_high['sample_size'].mean()\n",
    "std_dev = tossup_pct_df_high['sample_size'].std()\n",
    "\n",
    "lower_bound = max(mean - 1.96 * std_dev, tossup_pct_df_high['sample_size'].min())\n",
    "upper_bound = min(mean + 1.96 * std_dev, tossup_pct_df_high['sample_size'].max())\n",
    "print(f\"when you count up to {tossup_pct_df_high['sample_size'].max()} matches the % of times when the higher team wins falls in the tossup range (which is when the of % of Matches where the team with higher MV won the match is between 45% and 55%) \\n 2 standard deviations (95%) of the time when it falls in the tossup range are when you count between {lower_bound:.2f} and {upper_bound:.2f} of the matches\")\n"
   ]
  },
  {
   "cell_type": "code",
   "execution_count": 329,
   "metadata": {},
   "outputs": [
    {
     "name": "stdout",
     "output_type": "stream",
     "text": [
      "90% of the samples where the win rate of the higher MV teams fell into the tossup range, \n",
      " the sample included matches of a MV distance between 1735000.00 and 264330000, and 33292000.00 and 264330000.\n",
      "Mean MV difference interval we started counting from where the higher value team won at beetween 45% and 55%: 19363492.06\n",
      "Median: 10300000.00\n",
      "20th percentile: 4922000.00, 80th percentile: 29256000.00, IQR: 24334000.00\n"
     ]
    }
   ],
   "source": [
    "# plt.hist(tossup_pct_df_high['interval'], bins=20, color='blue', edgecolor='black')\n",
    "# plt.title('Histogram of Interval')#Sample Size\n",
    "# plt.xlabel('Interval')#Sample Size\n",
    "# plt.ylabel('Frequency')\n",
    "# plt.show()\n",
    "# Calculate the 5th and 95th percentiles to get the range that covers 90% of the data\n",
    "lower_percentile = np.percentile(tossup_pct_df_high['interval'], 5)\n",
    "upper_percentile = np.percentile(tossup_pct_df_high['interval'], 95)\n",
    "print(f\"90% of the samples where the win rate of the higher MV teams fell into the tossup range, \\n the sample included matches of a MV distance between {lower_percentile:.2f} and {tossup_pct_df_high['interval'].max()}, and {upper_percentile:.2f} and {tossup_pct_df_high['interval'].max()}.\")\n",
    "# Calculate basic statistics\n",
    "mean = tossup_pct_df_high['interval'].mean()\n",
    "std_dev = tossup_pct_df_high['interval'].std()\n",
    "median = np.median(tossup_pct_df_high['interval'])\n",
    "q20, q80 = np.percentile(tossup_pct_df_high['interval'], [20, 80])\n",
    "iqr = q80 - q20\n",
    "# Print the results\n",
    "print(f\"Mean MV difference interval we started counting from where the higher value team won at beetween 45% and 55%: {mean:.2f}\")\n",
    "print(f\"Median: {median:.2f}\")\n",
    "print(f\"20th percentile: {q20:.2f}, 80th percentile: {q80:.2f}, IQR: {iqr:.2f}\")"
   ]
  },
  {
   "cell_type": "code",
   "execution_count": 344,
   "metadata": {},
   "outputs": [],
   "source": [
    "#left to answer\n",
    "max_below_sample_size_below_50_pct_win_rate = tossup_pct_df_low[tossup_pct_df_low['average_mv_prediction_correct'] <= .50]['sample_size'].max()\n",
    "max_difference = tossup_pct_df_low[tossup_pct_df_low['average_mv_prediction_correct'] <= .50]['interval'].max()\n",
    "#how many matches can you include on the below graph in the sample size where the average mv prediction correct is ≤50\n",
    "#you can include max_below_sample_size_below_50_pct_win_rate (max_below_sample_size_below_50_pct_win_rate/tossup_pct_df_low['sample_size'].max()) of the matches of the matches with the smallest differences in market value, including all matches to a difference of max_difference, before the average win rate of the higher value team is 50% "
   ]
  },
  {
   "cell_type": "code",
   "execution_count": null,
   "metadata": {},
   "outputs": [],
   "source": [
    "#next step\n",
    "\n",
    "#you need liek the derivatives of these graphs\n",
    "\n",
    "#as the MV is getting higher whats the rate of the change fo the win rate "
   ]
  }
 ],
 "metadata": {
  "kernelspec": {
   "display_name": "Python 3",
   "language": "python",
   "name": "python3"
  },
  "language_info": {
   "codemirror_mode": {
    "name": "ipython",
    "version": 3
   },
   "file_extension": ".py",
   "mimetype": "text/x-python",
   "name": "python",
   "nbconvert_exporter": "python",
   "pygments_lexer": "ipython3",
   "version": "3.12.0"
  }
 },
 "nbformat": 4,
 "nbformat_minor": 2
}
