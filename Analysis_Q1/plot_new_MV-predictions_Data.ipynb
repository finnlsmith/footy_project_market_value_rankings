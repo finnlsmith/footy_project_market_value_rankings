{
 "cells": [
  {
   "cell_type": "code",
   "execution_count": 71,
   "metadata": {},
   "outputs": [
    {
     "data": {
      "text/plain": [
       "'/Users/finneganlaister-smith/Downloads/DEV ENVIRONMENT/data-science-jupyter-template-main/footy_project_market_value_rankings'"
      ]
     },
     "execution_count": 71,
     "metadata": {},
     "output_type": "execute_result"
    }
   ],
   "source": [
    "import requests\n",
    "import pandas as pd \n",
    "import numpy as np\n",
    "import re\n",
    "import sys, getopt\n",
    "import csv\n",
    "import os\n",
    "import matplotlib.pyplot as plt\n",
    "import seaborn as sns\n",
    "\n",
    "def load_csv_dataset(file_path):\n",
    "    return pd.read_csv(file_path)\n",
    "\n",
    "os.chdir('/Users/finneganlaister-smith/Downloads/DEV ENVIRONMENT/data-science-jupyter-template-main/footy_project_market_value_rankings')\n",
    "\n",
    "os.getcwd()"
   ]
  },
  {
   "cell_type": "code",
   "execution_count": null,
   "metadata": {},
   "outputs": [],
   "source": [
    "%matplotlib agg\n",
    "#%matplotlib inline"
   ]
  },
  {
   "cell_type": "markdown",
   "metadata": {},
   "source": [
    "## Above Intervals"
   ]
  },
  {
   "cell_type": "code",
   "execution_count": null,
   "metadata": {},
   "outputs": [],
   "source": [
    "plot_Data_competitions = pd.read_csv('split_competitions_win_pct_mkt_value_diff_ABOVE_INTERVALS.csv')\n"
   ]
  },
  {
   "cell_type": "code",
   "execution_count": null,
   "metadata": {},
   "outputs": [],
   "source": [
    "competition_dfs = {comp: df for comp, df in plot_Data_competitions.groupby('Competition')}\n"
   ]
  },
  {
   "cell_type": "code",
   "execution_count": null,
   "metadata": {},
   "outputs": [],
   "source": [
    "aye = competition_dfs['World Cup Qualifiers, CONMEBOL']\n",
    "aye[aye['average_mv_prediction_correct'] >= .5].sort_values('interval', ascending=True)"
   ]
  },
  {
   "cell_type": "code",
   "execution_count": null,
   "metadata": {},
   "outputs": [],
   "source": [
    "df = competition_dfs['Nations League']\n",
    "df = df.drop_duplicates(subset='average_mv_prediction_correct')\n",
    "df.sort_values('average_mv_prediction_correct', ascending=False).head(60)"
   ]
  },
  {
   "cell_type": "code",
   "execution_count": null,
   "metadata": {},
   "outputs": [],
   "source": [
    "# def plot_competition_data(subset, competition_name):\n",
    "#     # Drop rows with NaN values in 'average_mv_prediction_correct'\n",
    "#     subset = subset.dropna(subset=['average_mv_prediction_correct'])\n",
    "    \n",
    "#     plt.figure(figsize=(10, 6))\n",
    "    \n",
    "#     # Create the plot\n",
    "#     plot = sns.lineplot(data=subset, x='interval', y='average_mv_prediction_correct', alpha=0.7)\n",
    "    \n",
    "#     # Highlight vertical bars where Y value is at or above 0.75\n",
    "#     for _, row in subset.iterrows():\n",
    "#         if row['average_mv_prediction_correct'] >= 0.75:\n",
    "#             plt.axvspan(row['interval'] - 0.1, row['interval'] + 0.1, color='pink', alpha=0.3)\n",
    "    \n",
    "#     # Add scatter plot with conditional coloring\n",
    "#     scatter = sns.scatterplot(\n",
    "#         data=subset, \n",
    "#         x='interval', \n",
    "#         y='average_mv_prediction_correct', \n",
    "#         size='sample_size', \n",
    "#         legend=False, \n",
    "#         sizes=(20, 200),\n",
    "#         hue=subset['average_mv_prediction_correct'] >= 0.75,  # Conditional coloring\n",
    "#         palette={True: 'red', False: 'blue'}  # Colors for the condition\n",
    "#     )\n",
    "    \n",
    "#     # Calculate the maximum sample size\n",
    "#     max_sample_size = subset['sample_size'].max()\n",
    "    \n",
    "#     # Add text annotations for sample size with more aggressive logarithmically decreasing intervals\n",
    "#     last_annotation_index = -np.inf\n",
    "#     smallest_sample_sizes = subset.nsmallest(5, 'sample_size')\n",
    "#     for i, row in subset.iterrows():\n",
    "#         # Calculate the interval based on a more aggressive logarithm of the average_mv_prediction_correct\n",
    "#         interval = int(1000 / (1 + 2 * np.log1p(row['average_mv_prediction_correct'])))\n",
    "        \n",
    "#         # Adjust interval based on sample size with multiple thresholds\n",
    "#         if row['sample_size'] < 0.5 * max_sample_size:\n",
    "#             interval *= 2  # Increase the interval when sample size is less than 50% of the max sample size\n",
    "#         if row['sample_size'] < 0.2 * max_sample_size:\n",
    "#             interval *= 2  # Further increase the interval when sample size is less than 20% of the max sample size\n",
    "#         if row['sample_size'] < 0.1 * max_sample_size:\n",
    "#             interval *= 2  # Further increase the interval when sample size is less than 10% of the max sample size\n",
    "        \n",
    "#         if i - last_annotation_index >= interval or row['sample_size'] in smallest_sample_sizes['sample_size'].values:\n",
    "#             plt.text(row['interval'], row['average_mv_prediction_correct'] + 0.1, f'{int(row[\"sample_size\"])}',\n",
    "#                      horizontalalignment='center', size='small', color='black', weight='semibold', rotation=90)\n",
    "#             last_annotation_index = i\n",
    "    \n",
    "#     # Add a legend for the sample size text\n",
    "#     plt.text(0.05, 0.95, 'Sample Size', horizontalalignment='left', verticalalignment='top', \n",
    "#              transform=plt.gca().transAxes, size='medium', color='black', weight='semibold', rotation=0)\n",
    "    \n",
    "#     # Find the highest X value\n",
    "#     max_x_value = subset['interval'].max()\n",
    "#     max_x_row = subset[subset['interval'] == max_x_value].iloc[0]\n",
    "#     max_x_y_value = max_x_row['average_mv_prediction_correct']\n",
    "    \n",
    "#     # Add text annotation for the highest X value\n",
    "#     plt.text(max_x_value, max_x_y_value, f'Highest X: {max_x_value}', \n",
    "#              horizontalalignment='right', size='medium', color='red', weight='semibold')\n",
    "    \n",
    "#     # Set X axis to a logarithmic scale\n",
    "#     plt.xscale('log')\n",
    "    \n",
    "#     # Set Y axis limits\n",
    "#     plt.ylim(0, 1)\n",
    "    \n",
    "#     # Add more Y axis ticks\n",
    "#     plt.yticks(np.arange(0, 1.1, 0.1))\n",
    "    \n",
    "#     # Add labels and title\n",
    "#     plt.title(f\"% of correctly predicted matches by difference in market value, {competition_name}\")\n",
    "#     plt.xlabel(\"Interval (log scale)\")\n",
    "#     plt.ylabel(\"Average MV Prediction Correct\")\n",
    "    \n",
    "#     # Use a minimal theme\n",
    "#     sns.despine()\n",
    "    \n",
    "#     # Display the plot\n",
    "#     plt.show()\n",
    "    \n",
    "#     # Clear the current plot to free memory\n",
    "#     plt.clf()"
   ]
  },
  {
   "cell_type": "code",
   "execution_count": null,
   "metadata": {},
   "outputs": [],
   "source": [
    "def plot_competition_data(subset, competition_name):\n",
    "    # Drop rows with NaN values in 'average_mv_prediction_correct'\n",
    "    subset = subset.dropna(subset=['average_mv_prediction_correct'])\n",
    "    \n",
    "    plt.figure(figsize=(10, 6))\n",
    "    \n",
    "    # Create the plot\n",
    "    plot = sns.lineplot(data=subset, x='interval', y='average_mv_prediction_correct', alpha=0.7)\n",
    "    \n",
    "    # Highlight vertical bars where Y value is at or above 0.75\n",
    "    for _, row in subset.iterrows():\n",
    "        if row['average_mv_prediction_correct'] >= 0.75:\n",
    "            plt.axvspan(row['interval'] - 0.1, row['interval'] + 0.1, color='pink', alpha=0.3)\n",
    "    \n",
    "    # Add scatter plot with conditional coloring\n",
    "    scatter = sns.scatterplot(\n",
    "        data=subset, \n",
    "        x='interval', \n",
    "        y='average_mv_prediction_correct', \n",
    "        size='sample_size', \n",
    "        legend=False, \n",
    "        sizes=(20, 200),\n",
    "        hue=subset['average_mv_prediction_correct'] >= 0.75,  # Conditional coloring\n",
    "        palette={True: 'red', False: 'blue'}  # Colors for the condition\n",
    "    )\n",
    "    \n",
    "    # Calculate the maximum sample size\n",
    "    max_sample_size = subset['sample_size'].max()\n",
    "    \n",
    "    # Add text annotations for sample size with much larger intervals\n",
    "    last_annotation_index = -np.inf\n",
    "    smallest_sample_sizes = subset.nsmallest(5, 'sample_size')\n",
    "    for i, row in subset.iterrows():\n",
    "        # Calculate the interval based on a much larger base interval\n",
    "        interval = int(3000 / (1 + 2 * np.log1p(row['average_mv_prediction_correct'])))\n",
    "        \n",
    "        # Adjust interval based on sample size with multiple thresholds\n",
    "        if row['sample_size'] < 0.5 * max_sample_size:\n",
    "            interval *= 2  # Increase the interval when sample size is less than 50% of the max sample size\n",
    "        if row['sample_size'] < 0.2 * max_sample_size:\n",
    "            interval *= 2  # Further increase the interval when sample size is less than 20% of the max sample size\n",
    "        if row['sample_size'] < 0.1 * max_sample_size:\n",
    "            interval *= 2  # Further increase the interval when sample size is less than 10% of the max sample size\n",
    "        \n",
    "        if i - last_annotation_index >= interval or row['sample_size'] in smallest_sample_sizes['sample_size'].values:\n",
    "            plt.text(row['interval'], row['average_mv_prediction_correct'] + 0.1, f'{int(row[\"sample_size\"])}',\n",
    "                     horizontalalignment='center', size='small', color='black', weight='semibold', rotation=90)\n",
    "            last_annotation_index = i\n",
    "    \n",
    "    # Add a legend for the sample size text\n",
    "    plt.text(0.05, 0.95, 'Sample Size', horizontalalignment='left', verticalalignment='top', \n",
    "             transform=plt.gca().transAxes, size='medium', color='black', weight='semibold', rotation=0)\n",
    "    \n",
    "    # Find the highest X value\n",
    "    max_x_value = subset['interval'].max()\n",
    "    max_x_row = subset[subset['interval'] == max_x_value].iloc[0]\n",
    "    max_x_y_value = max_x_row['average_mv_prediction_correct']\n",
    "    \n",
    "    # Add text annotation for the highest X value\n",
    "    plt.text(max_x_value, max_x_y_value, f'Highest X: {max_x_value}', \n",
    "             horizontalalignment='right', size='medium', color='red', weight='semibold')\n",
    "    \n",
    "    # Set X axis to a logarithmic scale\n",
    "    plt.xscale('log')\n",
    "    \n",
    "    # Set Y axis limits\n",
    "    plt.ylim(0, 1)\n",
    "    \n",
    "    # Add more Y axis ticks\n",
    "    plt.yticks(np.arange(0, 1.1, 0.1))\n",
    "    \n",
    "    # Add labels and title\n",
    "    plt.title(f\"% of correctly predicted matches by difference in market value, {competition_name}\", pad=20, loc='left')\n",
    "    plt.xlabel(\"Interval (log scale)\")\n",
    "    plt.ylabel(\"Average MV Prediction Correct\")\n",
    "    \n",
    "    # Use a minimal theme\n",
    "    sns.despine()\n",
    "    \n",
    "    # Display the plot\n",
    "    plt.show()\n",
    "    \n",
    "    # Clear the current plot to free memory\n",
    "    plt.clf()"
   ]
  },
  {
   "cell_type": "code",
   "execution_count": null,
   "metadata": {},
   "outputs": [],
   "source": [
    "\n",
    "number = -1\n",
    "number = number + 1\n",
    "keynum = list(competition_dfs.keys())[number]\n",
    "plot_competition_data(competition_dfs[keynum], keynum)"
   ]
  },
  {
   "cell_type": "markdown",
   "metadata": {},
   "source": [
    "## BELOW INTERVALS"
   ]
  },
  {
   "cell_type": "code",
   "execution_count": null,
   "metadata": {},
   "outputs": [],
   "source": [
    "# def plot_competition_data_below(subset, competition_name):\n",
    "#     # Drop rows with NaN values in 'average_mv_prediction_correct'\n",
    "#     subset = subset.dropna(subset=['average_mv_prediction_correct'])\n",
    "    \n",
    "#     plt.figure(figsize=(10, 6))\n",
    "    \n",
    "#     # Create the plot\n",
    "#     plot = sns.lineplot(data=subset, x='interval', y='average_mv_prediction_correct', alpha=0.7)\n",
    "    \n",
    "#     # Highlight vertical bars where Y value is at or above 0.75\n",
    "#     for _, row in subset.iterrows():\n",
    "#         # if row['average_mv_prediction_correct'] >= 0.75:\n",
    "#         #     plt.axvspan(row['interval'] - 0.1, row['interval'] + 0.1, color='pink', alpha=0.3)\n",
    "#         # Highlight areas where Y value is below 0.3\n",
    "#         if row['average_mv_prediction_correct'] < 0.3:\n",
    "#             plt.axvspan(row['interval'] - 0.1, row['interval'] + 0.1, color='lightpink', alpha=0.5)\n",
    "    \n",
    "#     # Add scatter plot with conditional coloring\n",
    "#     scatter = sns.scatterplot(\n",
    "#         data=subset, \n",
    "#         x='interval', \n",
    "#         y='average_mv_prediction_correct', \n",
    "#         size='sample_size', \n",
    "#         legend=False, \n",
    "#         sizes=(20, 200),\n",
    "#         hue=subset['average_mv_prediction_correct'] <= 0.3,  # Conditional coloring\n",
    "#         palette={True: 'red', False: 'blue'}  # Colors for the condition\n",
    "#     )\n",
    "    \n",
    "#     # Calculate the maximum sample size\n",
    "#     max_sample_size = subset['sample_size'].max()\n",
    "#     threshold_sample_size = 0.1 * max_sample_size  # 10% of the maximum sample size\n",
    "    \n",
    "#     # Initialize the last annotated sample size\n",
    "#     last_annotated_sample_size = None\n",
    "    \n",
    "#     # Add text annotations for points where sample size is below 10% of the maximum\n",
    "#     for i, row in subset.iterrows():\n",
    "#         if row['sample_size'] < threshold_sample_size:\n",
    "#             if row['sample_size'] != last_annotated_sample_size:\n",
    "#                 plt.text(row['interval'], row['average_mv_prediction_correct'] + 0.05, f'{int(row[\"sample_size\"])}',\n",
    "#                          horizontalalignment='center', size='small', color='black', weight='semibold', rotation=90)\n",
    "#                 last_annotated_sample_size = row['sample_size']\n",
    "    \n",
    "#     # Find the lowest X value\n",
    "#     min_x_value = subset['interval'].min()\n",
    "#     min_x_row = subset[subset['interval'] == min_x_value].iloc[0]\n",
    "#     min_x_y_value = min_x_row['average_mv_prediction_correct']\n",
    "    \n",
    "#     # Add text annotation for the lowest X value, moved down and to the left\n",
    "#     plt.text(min_x_value, min_x_y_value - 0.05, f'Lowest X: {min_x_value}', \n",
    "#              horizontalalignment='left', size='medium', color='red', weight='semibold')\n",
    "    \n",
    "#     # Annotate the point where sample_size first reaches the maximum value\n",
    "#     max_sample_size_row = subset[subset['sample_size'] == max_sample_size].iloc[0]\n",
    "#     plt.text(max_sample_size_row['interval'], max_sample_size_row['average_mv_prediction_correct'] + 0.05, \n",
    "#              f'Max Sample Size: {int(max_sample_size_row[\"sample_size\"])}', \n",
    "#              horizontalalignment='center', size='medium', color='green', weight='semibold')\n",
    "    \n",
    "#     # Set X axis to a logarithmic scale\n",
    "#     plt.xscale('log')\n",
    "    \n",
    "#     # Set Y axis limits\n",
    "#     plt.ylim(0, 1)\n",
    "    \n",
    "#     # Add more Y axis ticks\n",
    "#     plt.yticks(np.arange(0, 1.1, 0.1))\n",
    "    \n",
    "#     # Add labels and title\n",
    "#     plt.title(f\"% of correctly predicted matches by difference in market value, {competition_name}\", pad=20, loc='left')\n",
    "#     plt.xlabel(\"Interval (log scale)\")\n",
    "#     plt.ylabel(\"Average MV Prediction Correct\")\n",
    "    \n",
    "#     # Use a minimal theme\n",
    "#     sns.despine()\n",
    "    \n",
    "#     # Display the plot\n",
    "#     plt.show()\n",
    "    \n",
    "#     # Clear the current plot to free memory\n",
    "#     plt.clf()"
   ]
  },
  {
   "cell_type": "code",
   "execution_count": null,
   "metadata": {},
   "outputs": [],
   "source": [
    "def plot_competition_data_below(subset, competition_name, annotation_interval=20, secondary_annotation_interval=40):\n",
    "    # Drop rows with NaN values in 'average_mv_prediction_correct'\n",
    "    subset = subset.dropna(subset=['average_mv_prediction_correct'])\n",
    "    \n",
    "    plt.figure(figsize=(10, 6))\n",
    "    \n",
    "    # Create the plot\n",
    "    plot = sns.lineplot(data=subset, x='interval', y='average_mv_prediction_correct', alpha=0.7)\n",
    "    \n",
    "    # Highlight vertical bars where Y value is at or above 0.75\n",
    "    for _, row in subset.iterrows():\n",
    "        if row['average_mv_prediction_correct'] >= 0.75:\n",
    "            plt.axvspan(row['interval'] - 0.1, row['interval'] + 0.1, color='pink', alpha=0.3)\n",
    "        # Highlight areas where Y value is below 0.3\n",
    "        if row['average_mv_prediction_correct'] < 0.3:\n",
    "            plt.axvspan(row['interval'] - 0.1, row['interval'] + 0.1, color='lightpink', alpha=0.5)\n",
    "    \n",
    "    # Add scatter plot with conditional coloring\n",
    "    scatter = sns.scatterplot(\n",
    "        data=subset, \n",
    "        x='interval', \n",
    "        y='average_mv_prediction_correct', \n",
    "        size='sample_size', \n",
    "        legend=False, \n",
    "        sizes=(20, 200),\n",
    "        hue=subset['average_mv_prediction_correct'] <= 0.3,  # Conditional coloring\n",
    "        palette={True: 'red', False: 'blue'}  # Colors for the condition\n",
    "    )\n",
    "    \n",
    "    # Calculate the maximum sample size\n",
    "    max_sample_size = subset['sample_size'].max()\n",
    "    threshold_sample_size_low = 0.1 * max_sample_size  # 10% of the maximum sample size\n",
    "    secondary_threshold_sample_size = 0.05 * max_sample_size  # 5% of the maximum sample size\n",
    "    \n",
    "    # Initialize the last annotated sample size and last annotated index\n",
    "    last_annotation_index = -annotation_interval  # Ensure the first point can be annotated\n",
    "    last_secondary_annotation_index = -secondary_annotation_interval  # For secondary threshold\n",
    "    last_annotated_sample_size = None  # For tracking changes in sample size\n",
    "    \n",
    "    # Add text annotations for points where sample size is below 10% of the maximum\n",
    "    for i, row in subset.iterrows():\n",
    "        if row['sample_size'] < threshold_sample_size_low:\n",
    "            if row['sample_size'] >= secondary_threshold_sample_size:\n",
    "                # Annotate only if the sample size changes by at least 3\n",
    "                if last_annotated_sample_size is None or abs(row['sample_size'] - last_annotated_sample_size) >= 3:\n",
    "                    if i - last_secondary_annotation_index >= secondary_annotation_interval:\n",
    "                        plt.text(row['interval'], row['average_mv_prediction_correct'] + 0.05, f'{int(row[\"sample_size\"])}',\n",
    "                                 horizontalalignment='center', size='small', color='black', weight='semibold', rotation=90)\n",
    "                        last_secondary_annotation_index = i\n",
    "                        last_annotated_sample_size = row['sample_size']\n",
    "            else:\n",
    "                if i - last_annotation_index >= annotation_interval:\n",
    "                    plt.text(row['interval'], row['average_mv_prediction_correct'] + 0.05, f'{int(row[\"sample_size\"])}',\n",
    "                             horizontalalignment='center', size='small', color='black', weight='semibold', rotation=90)\n",
    "                    last_annotation_index = i\n",
    "    \n",
    "    # Add annotation for sample size exactly at 10% of the maximum or the closest one\n",
    "    ten_percent_sample_size = threshold_sample_size_low\n",
    "    ten_percent_row = subset.iloc[(subset['sample_size'] - ten_percent_sample_size).abs().argsort()[:1]]\n",
    "    if not ten_percent_row.empty:\n",
    "        row = ten_percent_row.iloc[0]\n",
    "        plt.text(row['interval'], row['average_mv_prediction_correct'] + 0.05, f'10% Max: {int(row[\"sample_size\"])}',\n",
    "                 horizontalalignment='center', size='small', color='purple', weight='semibold', rotation=90)\n",
    "\n",
    "    # Find the lowest X value\n",
    "    min_x_value = subset['interval'].min()\n",
    "    min_x_row = subset[subset['interval'] == min_x_value].iloc[0]\n",
    "    min_x_y_value = min_x_row['average_mv_prediction_correct']\n",
    "    \n",
    "    # Add text annotation for the lowest X value, moved down and to the left\n",
    "    plt.text(min_x_value, min_x_y_value - 0.05, f'Lowest X: {min_x_value}', \n",
    "             horizontalalignment='left', size='medium', color='red', weight='semibold')\n",
    "    \n",
    "    # Annotate the point where sample_size first reaches the maximum value\n",
    "    max_sample_size_row = subset[subset['sample_size'] == max_sample_size].iloc[0]\n",
    "    plt.text(max_sample_size_row['interval'], max_sample_size_row['average_mv_prediction_correct'] + 0.05, \n",
    "             f'Max Sample Size: {int(max_sample_size_row[\"sample_size\"])}', \n",
    "             horizontalalignment='center', size='medium', color='green', weight='semibold')\n",
    "    \n",
    "    # Set X axis to a logarithmic scale\n",
    "    plt.xscale('log')\n",
    "    \n",
    "    # Set Y axis limits\n",
    "    plt.ylim(0, 1)\n",
    "    \n",
    "    # Add more Y axis ticks\n",
    "    plt.yticks(np.arange(0, 1.1, 0.1))\n",
    "    \n",
    "    # Add labels and title\n",
    "    plt.title(f\"% of correctly predicted matches by difference in market value, {competition_name}\", pad=20, loc='left')\n",
    "    plt.xlabel(\"Interval (log scale)\")\n",
    "    plt.ylabel(\"Average MV Prediction Correct\")\n",
    "    \n",
    "    # Use a minimal theme\n",
    "    sns.despine()\n",
    "    \n",
    "    # Display the plot\n",
    "    plt.show()\n",
    "    \n",
    "    # Clear the current plot to free memory\n",
    "    plt.clf()"
   ]
  },
  {
   "cell_type": "code",
   "execution_count": null,
   "metadata": {},
   "outputs": [],
   "source": [
    "plot_Data_competitions_below = pd.read_csv('split_competitions_win_pct_mkt_value_diff_BELOW_INTERVALS.csv')\n"
   ]
  },
  {
   "cell_type": "code",
   "execution_count": null,
   "metadata": {},
   "outputs": [],
   "source": [
    "competition_dfs = {comp: df for comp, df in plot_Data_competitions_below.groupby('Competition')}\n"
   ]
  },
  {
   "cell_type": "code",
   "execution_count": null,
   "metadata": {},
   "outputs": [],
   "source": [
    "aye = competition_dfs['World Cup Qualifiers, CONMEBOL']\n",
    "aye[aye['average_mv_prediction_correct'] <= .51].sort_values('interval', ascending=False)"
   ]
  },
  {
   "cell_type": "code",
   "execution_count": null,
   "metadata": {},
   "outputs": [],
   "source": [
    "aye = competition_dfs['World Cup Qualifiers, Africa']\n",
    "aye[aye['average_mv_prediction_correct'] <= 0.45].sort_values('interval', ascending=False)"
   ]
  },
  {
   "cell_type": "code",
   "execution_count": null,
   "metadata": {},
   "outputs": [],
   "source": [
    "number = -1\n",
    "number = number + 1\n",
    "keynum = list(competition_dfs.keys())[number]\n",
    "plot_competition_data_below(competition_dfs[keynum], keynum)"
   ]
  },
  {
   "cell_type": "markdown",
   "metadata": {},
   "source": [
    "## Finding threshold above which it's a lock"
   ]
  },
  {
   "cell_type": "markdown",
   "metadata": {},
   "source": [
    "### from below"
   ]
  },
  {
   "cell_type": "markdown",
   "metadata": {},
   "source": [
    "goal: find a MV difference with a significant sample size of matches below which the lower team Never wins."
   ]
  },
  {
   "cell_type": "code",
   "execution_count": null,
   "metadata": {},
   "outputs": [],
   "source": [
    "\n",
    "import numpy as np\n",
    "import scipy.stats as stats\n",
    "plot_Data_competitions_below = pd.read_csv('split_competitions_win_pct_mkt_value_diff_BELOW_INTERVALS.csv')\n",
    "competition_dfs_below = {comp: df for comp, df in plot_Data_competitions_below.groupby('Competition')}\n",
    "    \n",
    "plot_Data_competitions_above = pd.read_csv('split_competitions_win_pct_mkt_value_diff_ABOVE_INTERVALS.csv')\n",
    "competition_dfs_above = {comp: df for comp, df in plot_Data_competitions_above.groupby('Competition')}\n"
   ]
  },
  {
   "cell_type": "code",
   "execution_count": null,
   "metadata": {},
   "outputs": [],
   "source": [
    "number = -1\n",
    "number = number +1\n"
   ]
  },
  {
   "cell_type": "code",
   "execution_count": null,
   "metadata": {},
   "outputs": [],
   "source": [
    "keynum = list(competition_dfs_above.keys())[number]\n",
    "df = competition_dfs_above[keynum]\n",
    "minsample = df['sample_size'].min() + 1\n",
    "minsample_df = df[df['sample_size'] == minsample]\n",
    "\n",
    "df = df.dropna(subset=['average_mv_prediction_correct'])\n",
    "idx = df.groupby(['average_mv_prediction_correct', 'sum_mv_prediction_correct', 'sample_size'])['interval'].idxmax()\n",
    "df_high = df.loc[idx]\n",
    "#df_high = df[df['average_mv_prediction_correct'] >= 0.45]\n",
    "df_high = df_high[df_high['interval'] <= minsample_df['interval'].max()]\n",
    "df_high = df_high.sort_values('interval')\n",
    "# Use the indices to select the rows from the original DataFrame\n",
    "competition_this = df['Competition'].unique()[0]\n",
    "samplesize = df['sample_size'].max()\n",
    "max_interval_competition = minsample_df['interval'].min()\n",
    "print('competition: ', competition_this)\n",
    "print('sample size: ', samplesize)\n",
    "print('max interval in this competition: ', max_interval_competition)\n"
   ]
  },
  {
   "cell_type": "code",
   "execution_count": null,
   "metadata": {},
   "outputs": [],
   "source": [
    "keynum = list(competition_dfs_below.keys())[number]\n",
    "df = competition_dfs_below[keynum]\n",
    "maxsample = df['sample_size'].max()\n",
    "maxsample_df = df[df['sample_size'] == maxsample]\n",
    "df = df.dropna(subset=['average_mv_prediction_correct'])\n",
    "idx = df.groupby(['average_mv_prediction_correct', 'sum_mv_prediction_correct', 'sample_size'])['interval'].idxmin()\n",
    "df_low = df.loc[idx]\n",
    "df_low = df_low[df_low['interval'] <= maxsample_df['interval'].min()]\n",
    "df_low = df_low.sort_values('interval')"
   ]
  },
  {
   "cell_type": "code",
   "execution_count": null,
   "metadata": {},
   "outputs": [],
   "source": [
    "number_high_side_above_70_pct = df_high[df_high['average_mv_prediction_correct'] >= 0.7]['sample_size'].max()\n",
    "number_low_side_below_30_pct = df_low[df_low['average_mv_prediction_correct'] <= 0.3]['sample_size'].max()\n",
    "tossup_pct_df_high = df_high[(0.45 <= df_high['average_mv_prediction_correct']) & (df_high['average_mv_prediction_correct'] <= 0.55)].sort_values('sample_size')#['sample_size'].max()\n",
    "tossup_pct_df_low = df_low[(0.45 <= df_low['average_mv_prediction_correct']) & (df_low['average_mv_prediction_correct'] <= 0.55)].sort_values('sample_size')#['sample_size'].max()\n",
    "percentage_number_high_side_70_pct = round((number_high_side_above_70_pct / df_high['sample_size'].max()) * 100, 2)\n",
    "percentange_number_low_side_30_pct = round((number_low_side_below_30_pct / df_high['sample_size'].max()) * 100, 2)\n",
    "print(f\"counting the matches with the {number_high_side_above_70_pct} ({percentage_number_high_side_70_pct}%)largest MV differences the win % of the team with the higher MV is ≥70%\"),\n",
    "print(f\"counting the matches with the {number_low_side_below_30_pct} ({percentange_number_low_side_30_pct}%) smallest MV differences the win % of the team with the higher MV is below 30%\")"
   ]
  },
  {
   "cell_type": "code",
   "execution_count": null,
   "metadata": {},
   "outputs": [],
   "source": [
    "mean = tossup_pct_df_high['sample_size'].mean()\n",
    "std_dev = tossup_pct_df_high['sample_size'].std()\n",
    "lower_bound = max(mean - 1.96 * std_dev, tossup_pct_df_high['sample_size'].min())\n",
    "upper_bound = min(mean + 1.96 * std_dev, tossup_pct_df_high['sample_size'].max())\n",
    "print(f\"when you count up to {tossup_pct_df_high['sample_size'].max()} matches the % of times when the higher team wins falls in the tossup range (which is when the of % of Matches where the team with higher MV won the match is between 45% and 55%) \\n 2 standard deviations (95%) of the time when it falls in the tossup range are when you count between {lower_bound:.2f} and {upper_bound:.2f} of the matches\")"
   ]
  },
  {
   "cell_type": "code",
   "execution_count": null,
   "metadata": {},
   "outputs": [],
   "source": [
    "lower_percentile = np.percentile(tossup_pct_df_high['interval'], 5)\n",
    "upper_percentile = np.percentile(tossup_pct_df_high['interval'], 95)\n",
    "print(f\"90% of the samples where the win rate of the higher MV teams fell into the tossup range, \\nthe sample included matches of MV differences between {lower_percentile:.2f} and {tossup_pct_df_high['interval'].max()}, and {upper_percentile:.2f} and {tossup_pct_df_high['interval'].max()}.\")\n",
    "print(f'the min interval you could count matches of that MV difference or above, where the overall win pct of the higher value team, was {tossup_pct_df_high['interval'].min()}')\n",
    "mean = tossup_pct_df_high['interval'].mean()\n",
    "std_dev = tossup_pct_df_high['interval'].std()\n",
    "median = np.median(tossup_pct_df_high['interval'])\n",
    "q20, q80 = np.percentile(tossup_pct_df_high['interval'], [20, 80])\n",
    "iqr = q80 - q20\n",
    "print(f\"Mean MV difference interval we started counting from where the higher value team won at beetween 45% and 55%: {mean:.2f}\")\n",
    "print(f\"Median: {median:.2f}\")\n",
    "print(f\"20th percentile of where you can filter matches at: {q20:.2f}, 80th percentile: {q80:.2f}, IQR: {iqr:.2f}\")"
   ]
  },
  {
   "cell_type": "code",
   "execution_count": null,
   "metadata": {},
   "outputs": [],
   "source": [
    "max_below_sample_size_below_50_pct_win_rate = tossup_pct_df_low[tossup_pct_df_low['average_mv_prediction_correct'] <= .50]['sample_size'].max()\n",
    "max_difference = tossup_pct_df_low[tossup_pct_df_low['average_mv_prediction_correct'] <= .50]['interval'].max()\n",
    "max_below_sample_size_below_50_pct_win_rate\n",
    "#how many matches can you include on the below graph in the sample size where the average mv prediction correct is ≤50\n",
    "print(f'you can include {max_below_sample_size_below_50_pct_win_rate} ({max_below_sample_size_below_50_pct_win_rate/tossup_pct_df_low['sample_size'].max()}) of the matches with the smallest differences in market value, including all matches up to a difference of {max_difference}, before the average win rate of the higher value team gets to 50%')"
   ]
  },
  {
   "cell_type": "code",
   "execution_count": null,
   "metadata": {},
   "outputs": [],
   "source": [
    "#next step\n",
    "\n",
    "#you need liek the derivatives of these graphs\n",
    "\n",
    "#as the MV is getting higher whats the rate of the change fo the win rate "
   ]
  },
  {
   "cell_type": "markdown",
   "metadata": {},
   "source": [
    "### loop script"
   ]
  },
  {
   "cell_type": "code",
   "execution_count": null,
   "metadata": {},
   "outputs": [],
   "source": [
    "# Loop through the keys\n",
    "results_df = pd.DataFrame()\n",
    "\n",
    "for number in range(15):\n",
    "    keynum = list(competition_dfs_above.keys())[number]\n",
    "    df = competition_dfs_above[keynum]\n",
    "    minsample = df['sample_size'].min() + 1\n",
    "    minsample_df = df[df['sample_size'] == minsample]\n",
    "\n",
    "    df = df.dropna(subset=['average_mv_prediction_correct'])\n",
    "    idx = df.groupby(['average_mv_prediction_correct', 'sum_mv_prediction_correct', 'sample_size'])['interval'].idxmax()\n",
    "    df_high = df.loc[idx]\n",
    "    df_high = df_high[df_high['interval'] <= minsample_df['interval'].max()]\n",
    "    df_high = df_high.sort_values('interval')\n",
    "\n",
    "    competition_this = df['Competition'].unique()[0]\n",
    "    samplesize = df['sample_size'].max()\n",
    "    max_interval_competition = minsample_df['interval'].min()\n",
    "    #print('competition: ', competition_this)\n",
    "    #print('sample size: ', samplesize)\n",
    "    #print('max interval in this competition: ', max_interval_competition)\n",
    "\n",
    "    df = competition_dfs_below[keynum]\n",
    "    maxsample = df['sample_size'].max()\n",
    "    maxsample_df = df[df['sample_size'] == maxsample]\n",
    "    df = df.dropna(subset=['average_mv_prediction_correct'])\n",
    "    idx = df.groupby(['average_mv_prediction_correct', 'sum_mv_prediction_correct', 'sample_size'])['interval'].idxmin()\n",
    "    df_low = df.loc[idx]\n",
    "    df_low = df_low[df_low['interval'] <= maxsample_df['interval'].min()]\n",
    "    df_low = df_low.sort_values('interval')\n",
    "\n",
    "    number_high_side_above_70_pct = df_high[df_high['average_mv_prediction_correct'] >= 0.7]['sample_size'].max()\n",
    "    number_low_side_below_30_pct = df_low[df_low['average_mv_prediction_correct'] <= 0.3]['sample_size'].max()\n",
    "    tossup_pct_df_high = df_high[(0.45 <= df_high['average_mv_prediction_correct']) & (df_high['average_mv_prediction_correct'] <= 0.55)].sort_values('sample_size')\n",
    "    tossup_pct_df_low = df_low[(0.45 <= df_low['average_mv_prediction_correct']) & (df_low['average_mv_prediction_correct'] <= 0.55)].sort_values('sample_size')\n",
    "    percentage_number_high_side_70_pct = round(number_high_side_above_70_pct/df_high['sample_size'].max(), 4)#round((number_high_side_above_70_pct / df_high['sample_size'].max()) * 100, 2)\n",
    "    percentange_number_low_side_30_pct = round((number_low_side_below_30_pct / df_high['sample_size'].max()) * 100, 2)\n",
    "    #print(f\"counting the matches with the {number_high_side_above_70_pct} ({percentage_number_high_side_70_pct}%) largest MV differences the win % of the team with the higher MV is ≥70%. That includes differences above {df_high[df_high['average_mv_prediction_correct'] >= 0.7]['interval'].min()}\")\n",
    "    #print(f\"counting the matches with the {number_low_side_below_30_pct} ({percentange_number_low_side_30_pct}%) smallest MV differences the win % of the team with the higher MV is below 30%. That includes differences above {df_low[df_low['average_mv_prediction_correct'] <= 0.3]['interval'].max()}\")\n",
    "\n",
    "    mean = tossup_pct_df_high['sample_size'].mean()\n",
    "    std_dev = tossup_pct_df_high['sample_size'].std()\n",
    "    lower_bound = max(mean - 1.96 * std_dev, tossup_pct_df_high['sample_size'].min())\n",
    "    upper_bound = min(mean + 1.96 * std_dev, tossup_pct_df_high['sample_size'].max())\n",
    "    #print(f\"when you count up to {tossup_pct_df_high['sample_size'].max()} matches the % of times when the higher team wins falls in the tossup range (which is when the of % of Matches where the team with higher MV won the match is between 45% and 55%) \\n 2 standard deviations (95%) of the time when it falls in the tossup range are when you count between {lower_bound:.2f} and {upper_bound:.2f} of the matches\")\n",
    "\n",
    "    if (len(tossup_pct_df_high)) == 0:\n",
    "        lower_percentile = 0\n",
    "        upper_percentile = 0\n",
    "    else:\n",
    "        lower_percentile = np.percentile(tossup_pct_df_high['interval'], 5)\n",
    "        upper_percentile = np.percentile(tossup_pct_df_high['interval'], 95)\n",
    "        mean = tossup_pct_df_high['interval'].mean()\n",
    "        std_dev = tossup_pct_df_high['interval'].std()\n",
    "        median = np.median(tossup_pct_df_high['interval'])\n",
    "        q20, q80 = np.percentile(tossup_pct_df_high['interval'], [20, 80])\n",
    "        iqr = q80 - q20\n",
    "    #print(f\"90% of the samples where the win rate of the higher MV teams fell into the tossup range, \\nthe sample included matches of MV differences between {lower_percentile:.2f} and {tossup_pct_df_high['interval'].max()}, and {upper_percentile:.2f} and {tossup_pct_df_high['interval'].max()}.\")\n",
    "    #print(f'the min interval you could count matches of that MV difference or above, where the overall win pct of the higher value team, was {tossup_pct_df_high['interval'].min()}')\n",
    "    #print(f\"Mean MV difference interval we started counting from where the higher value team won at beetween 45% and 55%: {mean:.2f}\")\n",
    "    #print(f\"Median: {median:.2f}\")\n",
    "    #print(f\"20th percentile of where you can filter matches at: {q20:.2f}, 80th percentile: {q80:.2f}, IQR: {iqr:.2f}\")\n",
    "\n",
    "    max_below_sample_size_below_50_pct_win_rate = tossup_pct_df_low[tossup_pct_df_low['average_mv_prediction_correct'] <= .50]['sample_size'].max()\n",
    "    max_difference = tossup_pct_df_low[tossup_pct_df_low['average_mv_prediction_correct'] <= .50]['interval'].max()\n",
    "    #print(f'you can include {max_below_sample_size_below_50_pct_win_rate} ({max_below_sample_size_below_50_pct_win_rate/tossup_pct_df_low['sample_size'].max()}) of the matches with the smallest differences in market value, including all matches up to a difference of {max_difference}, before the average win rate of the higher value team gets to 50%')\n",
    "\n",
    "    #print(percentage_number_high_side_70_pct)\n",
    "    new_row = {\n",
    "        'Competition': competition_this,\n",
    "        'Sample Size (matches)': samplesize, \n",
    "        'Largest Interval in Competition': max_interval_competition,\n",
    "        '# of largest differences matches with combined more valuable team win pct of ≥70': number_high_side_above_70_pct,\n",
    "        'Pct of largest differences matches with combined more valuable team win pct of ≥70': number_high_side_above_70_pct/df_high['sample_size'].max(), \n",
    "        'Difference above which win pct of more valuable team is ≥70': df_high[df_high['average_mv_prediction_correct'] >= 0.7]['interval'].min(),\n",
    "        '# of smallest differences matches with combined more valuable team win pct of ≤30': number_low_side_below_30_pct,\n",
    "        'Pct of smallest differences matches with combined more valuable team win pct of ≤30': percentange_number_low_side_30_pct,\n",
    "        'Difference below which win pct of more valuable team is ≤30': df_low[df_low['average_mv_prediction_correct'] <= 0.3]['interval'].max(),\n",
    "        'Highest # of matches in sample when among X matches with the highest difference in MV, the combined winpct of more valuable team is 45-55': tossup_pct_df_high['sample_size'].max(),\n",
    "        '% matches in sample when among X% of matches with the highest difference in MV, the combined winpct of more valuable team is 45-55': tossup_pct_df_high['sample_size'].max() / df_high['sample_size'].max(),\n",
    "        'Min Interval you can count matches of that MV difference or above where the ovall win pct of the higher value team was 45-55%': tossup_pct_df_high['interval'].min(),\n",
    "        'Min # of matches above 50pct of the sample size where amongst the group of matches the more valuable team win pct is 45-55%': tossup_pct_df_high[tossup_pct_df_high['sample_size'] >= tossup_pct_df_high['sample_size'].max() / 2]['sample_size'].min(),\n",
    "        'Highest # where in all matches with a MV difference of X or higher the win pct of the more valuable team is 45-55%': tossup_pct_df_high[tossup_pct_df_high['sample_size'] >= tossup_pct_df_high['sample_size'].max() / 2]['interval'].max(),\n",
    "        'Largest sample size where amongst X matches with lowest MV difference the win rate of higher value team is 45-55%': tossup_pct_df_low['sample_size'].max(),\n",
    "        '% of matches such that the X% of matches with lowest MV difference the win rate of higher value team is 45-55%': tossup_pct_df_low['sample_size'].max() / df_low['sample_size'].max(),\n",
    "        '# of lowest MV difference matches in sample before combined win rate of higher value team is above 50%': max_below_sample_size_below_50_pct_win_rate,\n",
    "        'Pct of lowest MV difference matches in sample before combined win rate of higher value team is above 50%': max_below_sample_size_below_50_pct_win_rate/tossup_pct_df_low['sample_size'].max(),\n",
    "        'Largest interval where among all matches of X MV difference or below the win pct of higher value team is below 50%': max_difference\n",
    "    }\n",
    "    new_row_df = pd.DataFrame([new_row])\n",
    "    results_df = pd.concat([results_df, new_row_df], ignore_index=True)\n",
    "results_df\n",
    "\n",
    "#to fix - why is the Pct column stuck at 4.55. it should be 0.1545"
   ]
  },
  {
   "cell_type": "code",
   "execution_count": null,
   "metadata": {},
   "outputs": [],
   "source": [
    "126/266"
   ]
  },
  {
   "cell_type": "code",
   "execution_count": null,
   "metadata": {},
   "outputs": [],
   "source": [
    "max_below_sample_size_below_50_pct_win_rate, tossup_pct_df_low['sample_size'].max()"
   ]
  },
  {
   "cell_type": "code",
   "execution_count": null,
   "metadata": {},
   "outputs": [],
   "source": [
    "df_high[df_high['average_mv_prediction_correct'] >= 0.7]['interval'].min()"
   ]
  },
  {
   "cell_type": "markdown",
   "metadata": {},
   "source": [
    "# PLOTTNG WHEN THE LESS VALUABLE TEAM WINS"
   ]
  },
  {
   "cell_type": "code",
   "execution_count": 16,
   "metadata": {},
   "outputs": [],
   "source": [
    "overall_data_inverted_above = load_csv_dataset('Analysis_Q1/WIN PCT OF LESS VALUABLE TEAM BY MV DIFFERENCE/INVERTED All Data - Above Intervals.csv')\n",
    "overall_data_inverted_below = load_csv_dataset('Analysis_Q1/WIN PCT OF LESS VALUABLE TEAM BY MV DIFFERENCE/INVERTED All Data - Below Intervals.csv')"
   ]
  },
  {
   "cell_type": "markdown",
   "metadata": {},
   "source": [
    "## Above Intervals - INVERTED"
   ]
  },
  {
   "cell_type": "code",
   "execution_count": 72,
   "metadata": {},
   "outputs": [],
   "source": [
    "plot_Data_competitions = pd.read_csv('Analysis_Q1/Winpct of less valuable team by MV difference interval/INVERTED - All Data - BY COMPETITION - Above Intervals.csv')\n",
    "competition_dfs = {comp: df for comp, df in plot_Data_competitions.groupby('Competition')}\n"
   ]
  },
  {
   "cell_type": "code",
   "execution_count": 80,
   "metadata": {},
   "outputs": [],
   "source": [
    "def plot_competition_data_inverted_above(subset, competition_name):\n",
    "    # Drop rows with NaN values in 'average_mv_prediction_correct'\n",
    "    subset = subset.dropna(subset=['average_mv_prediction_correct'])\n",
    "    \n",
    "    plt.figure(figsize=(10, 6))\n",
    "    \n",
    "    # Modify the data for plotting\n",
    "    subset['inverse_mv_prediction_correct'] = subset['average_mv_prediction_correct']\n",
    "    \n",
    "    # Create the plot\n",
    "    plot = sns.lineplot(data=subset, x='interval', y='inverse_mv_prediction_correct', alpha=0.7)\n",
    "    \n",
    "    # Highlight vertical bars where Y value is at or above 0.25 (1 - 0.75)\n",
    "    for _, row in subset.iterrows():\n",
    "        if row['inverse_mv_prediction_correct'] <= 0.1:\n",
    "            plt.axvspan(row['interval'] - 0.1, row['interval'] + 0.1, color='pink', alpha=0.3)\n",
    "    \n",
    "    # Add scatter plot with conditional coloring\n",
    "    scatter = sns.scatterplot(\n",
    "        data=subset, \n",
    "        x='interval', \n",
    "        y='inverse_mv_prediction_correct', \n",
    "        size='sample_size', \n",
    "        legend=False, \n",
    "        sizes=(20, 200),\n",
    "        hue=subset['inverse_mv_prediction_correct'] <= 0.1,  # Conditional coloring\n",
    "        palette={True: 'red', False: 'blue'}  # Colors for the condition\n",
    "    )\n",
    "    \n",
    "    # Calculate the maximum sample size\n",
    "    max_sample_size = subset['sample_size'].max()\n",
    "    \n",
    "    # Add text annotations for sample size with much larger intervals\n",
    "    last_annotation_index = -np.inf\n",
    "    smallest_sample_sizes = subset.nsmallest(5, 'sample_size')\n",
    "    for i, row in subset.iterrows():\n",
    "        # Calculate the interval based on a much larger base interval\n",
    "        interval = int(3000 / (1 + 2 * np.log1p(row['inverse_mv_prediction_correct'])))\n",
    "        \n",
    "        # Adjust interval based on sample size with multiple thresholds\n",
    "        if row['sample_size'] < 0.5 * max_sample_size:\n",
    "            interval *= 2  # Increase the interval when sample size is less than 50% of the max sample size\n",
    "        if row['sample_size'] < 0.2 * max_sample_size:\n",
    "            interval *= 2  # Further increase the interval when sample size is less than 20% of the max sample size\n",
    "        if row['sample_size'] < 0.1 * max_sample_size:\n",
    "            interval *= 2  # Further increase the interval when sample size is less than 10% of the max sample size\n",
    "        \n",
    "        if i - last_annotation_index >= interval or row['sample_size'] in smallest_sample_sizes['sample_size'].values:\n",
    "            plt.text(row['interval'], row['inverse_mv_prediction_correct'] + 0.1, f'{int(row[\"sample_size\"])}',\n",
    "                     horizontalalignment='center', size='small', color='black', weight='semibold', rotation=90)\n",
    "            last_annotation_index = i\n",
    "    \n",
    "    # Add a legend for the sample size text\n",
    "    plt.text(0.05, 0.95, 'Sample Size', horizontalalignment='left', verticalalignment='top', \n",
    "             transform=plt.gca().transAxes, size='medium', color='black', weight='semibold', rotation=0)\n",
    "    \n",
    "    # Find the highest X value\n",
    "    max_x_value = subset['interval'].max()\n",
    "    max_x_row = subset[subset['interval'] == max_x_value].iloc[0]\n",
    "    max_x_y_value = max_x_row['inverse_mv_prediction_correct']\n",
    "    \n",
    "    # Add text annotation for the highest X value\n",
    "    plt.text(max_x_value, max_x_y_value, f'Highest X: {max_x_value}', \n",
    "             horizontalalignment='right', size='medium', color='red', weight='semibold')\n",
    "    \n",
    "    # Set X axis to a logarithmic scale\n",
    "    plt.xscale('log')\n",
    "    \n",
    "    # Set Y axis limits\n",
    "    plt.ylim(0, 1)\n",
    "    \n",
    "    # Add more Y axis ticks\n",
    "    plt.yticks(np.arange(0, 1.1, 0.1))\n",
    "    \n",
    "    # Add labels and title\n",
    "    plt.title(f\"% of matches won by the less valuable team by difference in market value, {competition_name}\", pad=20, loc='left')\n",
    "    plt.xlabel(\"Interval (log scale)\")\n",
    "    plt.ylabel(\"Percentage of Less Valuable Team Winning\")\n",
    "    \n",
    "    # Use a minimal theme\n",
    "    sns.despine()\n",
    "    \n",
    "    # Display the plot\n",
    "    #plt.show()\n",
    "    plt.savefig(f'/Users/finneganlaister-smith/Downloads/PLOTS % LESS VALUABLE TEAM WINS/ABOVE INTERVALS/{keynum}.png')\n",
    "    # Clear the current plot to free memory\n",
    "    plt.clf()"
   ]
  },
  {
   "cell_type": "code",
   "execution_count": 76,
   "metadata": {},
   "outputs": [],
   "source": [
    "def plot_mv_predictions_inverted(data):\n",
    "    plt.figure(figsize=(10, 6))\n",
    "    \n",
    "    # Calculate the threshold for 20% of 5319\n",
    "    threshold_sample_size = 0.2 * 5319\n",
    "    \n",
    "    # Find the first interval where the sample size is less than or equal to the threshold\n",
    "    threshold_data = data[data['sample_size'] <= threshold_sample_size]\n",
    "    if not threshold_data.empty:\n",
    "        threshold_interval = threshold_data['interval'].min()\n",
    "        threshold_sample_size_actual = threshold_data[threshold_data['interval'] == threshold_interval]['sample_size'].iloc[0]\n",
    "        # Plot the data\n",
    "        plt.plot(data['interval'], data['average_mv_prediction_correct'], marker='o', linestyle='-')\n",
    "        \n",
    "        # Plot a vertical line at the threshold interval\n",
    "        plt.axvline(x=threshold_interval, color='red', linestyle='--', label=f'MV Diff, top 20% of games: {threshold_interval}')\n",
    "    \n",
    "        # Add text annotation for the sample size at the threshold\n",
    "        plt.text(threshold_interval, 0.25, f'Top 20% ({int(threshold_sample_size_actual)})', \n",
    "                 verticalalignment='bottom', horizontalalignment='right', rotation=90, color='red')\n",
    "    else:\n",
    "        plt.plot(data['interval'], data['average_mv_prediction_correct'], marker='o', linestyle='-')\n",
    "        plt.text(data['interval'].min(), 0.02, 'No data below threshold', verticalalignment='bottom', color='red')\n",
    "    \n",
    "    plt.title('Market Value Prediction Accuracy by Interval')\n",
    "    plt.xlabel('Interval')\n",
    "    plt.ylabel('Average MV Prediction Correct')\n",
    "    plt.xscale('log')  # Set the X-axis to a logarithmic scale\n",
    "    plt.ylim(0, 1)  # Set the Y-axis limits from 0 to 1\n",
    "    plt.legend()\n",
    "    plt.grid(True)\n",
    "    plt.show()"
   ]
  },
  {
   "cell_type": "code",
   "execution_count": 57,
   "metadata": {},
   "outputs": [
    {
     "data": {
      "image/png": "[encoded data removed]",
      "text/plain": [
       "<Figure size 1000x600 with 1 Axes>"
      ]
     },
     "metadata": {},
     "output_type": "display_data"
    }
   ],
   "source": [
    "#for overall data - above - DONE\n",
    "overall_data_plot_above_ints = plot_mv_predictions_inverted(overall_data_inverted_above)"
   ]
  },
  {
   "cell_type": "code",
   "execution_count": null,
   "metadata": {},
   "outputs": [],
   "source": [
    "#for each competition\n",
    "\n",
    "#number = -1\n",
    "while number <= 14:\n",
    "    number = number + 1\n",
    "    keynum = list(competition_dfs.keys())[number]\n",
    "    plot_competition_data_inverted_above(competition_dfs[keynum], keynum)"
   ]
  },
  {
   "cell_type": "markdown",
   "metadata": {},
   "source": [
    "## INVERTED - BELOW INTERVALS"
   ]
  },
  {
   "cell_type": "code",
   "execution_count": 95,
   "metadata": {},
   "outputs": [],
   "source": [
    "plot_Data_competitions_below = pd.read_csv('Analysis_Q1/Winpct of less valuable team by MV difference interval/INVERTED - All Data - BY COMPETITION - Below Intervals.csv')\n",
    "competition_dfs = {comp: df for comp, df in plot_Data_competitions_below.groupby('Competition')}\n"
   ]
  },
  {
   "cell_type": "code",
   "execution_count": 98,
   "metadata": {},
   "outputs": [],
   "source": [
    "def plot_mv_predictions_inverted_below(data):\n",
    "    plt.figure(figsize=(10, 6))\n",
    "    \n",
    "    # Calculate the threshold for 20% of 5319\n",
    "    threshold_sample_size = 0.2 * 5319\n",
    "    \n",
    "    # Find the first interval where the sample size is less than or equal to the threshold\n",
    "    threshold_data = data[data['sample_size'] <= threshold_sample_size]\n",
    "    if not threshold_data.empty:\n",
    "        threshold_interval = threshold_data['interval'].max()\n",
    "        threshold_sample_size_actual = threshold_data[threshold_data['interval'] == threshold_interval]['sample_size'].iloc[0]\n",
    "    \n",
    "        # Plot the data\n",
    "        plt.plot(data['interval'], data['average_mv_prediction_correct'], marker='o', linestyle='-')\n",
    "        \n",
    "        # Plot a vertical line at the threshold interval\n",
    "        plt.axvline(x=threshold_interval, color='red', linestyle='--', label=f'MV diff, bottom 20% of games: {threshold_interval}')\n",
    "        \n",
    "        # Add text annotation for the sample size at the threshold\n",
    "        plt.text(threshold_interval, 0.35, f'Bottom 20% (1063)', \n",
    "                 verticalalignment='bottom', horizontalalignment='right', rotation=90, color='red')\n",
    "    else:\n",
    "        plt.plot(data['interval'], data['average_mv_prediction_correct'], marker='o', linestyle='-')\n",
    "        plt.text(data['interval'].min(), 0.02, 'No data below threshold', verticalalignment='bottom', color='red')\n",
    "    \n",
    "    plt.title('Market Value Prediction Accuracy by Interval')\n",
    "    plt.xlabel('Interval')\n",
    "    plt.ylabel('Average MV Prediction Correct')\n",
    "    plt.xscale('log')  # Set the X-axis to a logarithmic scale\n",
    "    plt.ylim(0, 1)  # Set the Y-axis limits from 0 to 1\n",
    "    plt.legend()\n",
    "    plt.grid(True)\n",
    "    plt.show()"
   ]
  },
  {
   "cell_type": "code",
   "execution_count": 90,
   "metadata": {},
   "outputs": [
    {
     "data": {
      "image/png": "[encoded data removed]",
      "text/plain": [
       "<Figure size 1000x600 with 1 Axes>"
      ]
     },
     "metadata": {},
     "output_type": "display_data"
    }
   ],
   "source": [
    "#for overall data - below\n",
    "overall_data_plot_below_ints = plot_mv_predictions_inverted_below(overall_data_inverted_below)"
   ]
  },
  {
   "cell_type": "code",
   "execution_count": 110,
   "metadata": {},
   "outputs": [],
   "source": [
    "def plot_competition_data_below_inverted(subset, competition_name, annotation_interval=20, secondary_annotation_interval=40):\n",
    "    # Drop rows with NaN values in 'average_mv_prediction_correct'\n",
    "    subset = subset.dropna(subset=['average_mv_prediction_correct'])\n",
    "    \n",
    "    # Modify the data for plotting\n",
    "    subset['inverse_mv_prediction_correct'] = subset['average_mv_prediction_correct']\n",
    "    \n",
    "    plt.figure(figsize=(10, 6))\n",
    "    \n",
    "    # Create the plot\n",
    "    plot = sns.lineplot(data=subset, x='interval', y='inverse_mv_prediction_correct', alpha=0.7)\n",
    "    \n",
    "    # Highlight vertical bars where Y value is at or above 0.25 (1 - 0.75)\n",
    "    for _, row in subset.iterrows():\n",
    "        if row['inverse_mv_prediction_correct'] <= 0.1:\n",
    "            plt.axvspan(row['interval'] - 0.1, row['interval'] + 0.1, color='pink', alpha=0.3)\n",
    "        # Highlight areas where Y value is below 0.7 (1 - 0.3)\n",
    "        if row['inverse_mv_prediction_correct'] > 0.7:\n",
    "            plt.axvspan(row['interval'] - 0.1, row['interval'] + 0.1, color='lightpink', alpha=0.5)\n",
    "    \n",
    "    # Add scatter plot with conditional coloring\n",
    "    scatter = sns.scatterplot(\n",
    "        data=subset, \n",
    "        x='interval', \n",
    "        y='inverse_mv_prediction_correct', \n",
    "        size='sample_size', \n",
    "        legend=False, \n",
    "        sizes=(20, 200),\n",
    "        hue=subset['inverse_mv_prediction_correct'] <= 0.1,  # Conditional coloring\n",
    "        palette={True: 'red', False: 'blue'}  # Colors for the condition\n",
    "    )\n",
    "    \n",
    "    # Calculate the maximum sample size\n",
    "    max_sample_size = subset['sample_size'].max()\n",
    "    threshold_sample_size_low = 0.1 * max_sample_size  # 10% of the maximum sample size\n",
    "    secondary_threshold_sample_size = 0.05 * max_sample_size  # 5% of the maximum sample size\n",
    "    \n",
    "    # Initialize the last annotated sample size and last annotated index\n",
    "    last_annotation_index = -annotation_interval  # Ensure the first point can be annotated\n",
    "    last_secondary_annotation_index = -secondary_annotation_interval  # For secondary threshold\n",
    "    last_annotated_sample_size = None  # For tracking changes in sample size\n",
    "    \n",
    "    # Add text annotations for points where sample size is below 10% of the maximum\n",
    "    for i, row in subset.iterrows():\n",
    "        if row['sample_size'] < threshold_sample_size_low:\n",
    "            if row['sample_size'] >= secondary_threshold_sample_size:\n",
    "                # Annotate only if the sample size changes by at least 3\n",
    "                if last_annotated_sample_size is None or abs(row['sample_size'] - last_annotated_sample_size) >= 3:\n",
    "                    if i - last_secondary_annotation_index >= secondary_annotation_interval:\n",
    "                        plt.text(row['interval'], row['inverse_mv_prediction_correct'] + 0.05, f'{int(row[\"sample_size\"])}',\n",
    "                                 horizontalalignment='center', size='small', color='black', weight='semibold', rotation=90)\n",
    "                        last_secondary_annotation_index = i\n",
    "                        last_annotated_sample_size = row['sample_size']\n",
    "            else:\n",
    "                if i - last_annotation_index >= annotation_interval:\n",
    "                    plt.text(row['interval'], row['inverse_mv_prediction_correct'] + 0.05, f'{int(row[\"sample_size\"])}',\n",
    "                             horizontalalignment='center', size='small', color='black', weight='semibold', rotation=90)\n",
    "                    last_annotation_index = i\n",
    "    \n",
    "    # Find the lowest X value\n",
    "    min_x_value = subset['interval'].min()\n",
    "    min_x_row = subset[subset['interval'] == min_x_value].iloc[0]\n",
    "    min_x_y_value = min_x_row['inverse_mv_prediction_correct']\n",
    "    \n",
    "    # Add text annotation for the lowest X value, moved down and to the left\n",
    "    plt.text(min_x_value, min_x_y_value - 0.05, f'Lowest X: {min_x_value}', \n",
    "             horizontalalignment='left', size='medium', color='red', weight='semibold')\n",
    "    \n",
    "    # Set X axis to a logarithmic scale\n",
    "    plt.xscale('log')\n",
    "    \n",
    "    # Set Y axis limits\n",
    "    plt.ylim(0, 1)\n",
    "    \n",
    "    # Add more Y axis ticks\n",
    "    plt.yticks(np.arange(0, 1.1, 0.1))\n",
    "    \n",
    "    # Add labels and title\n",
    "    plt.title(f\"% of matches won by the less valuable team by difference in market value, {competition_name}\", pad=20, loc='left')\n",
    "    plt.xlabel(\"Interval (log scale)\")\n",
    "    plt.ylabel(\"Percentage of Less Valuable Team Winning\")\n",
    "    \n",
    "    # Use a minimal theme\n",
    "    sns.despine()\n",
    "    \n",
    "    # Display the plot\n",
    "    #plt.show()\n",
    "    plt.savefig(f'/Users/finneganlaister-smith/Downloads/PLOTS % LESS VALUABLE TEAM WINS/BELOW INTERVALS/{keynum}.png')\n",
    "    \n",
    "    # Clear the current plot to free memory\n",
    "    plt.clf()"
   ]
  },
  {
   "cell_type": "code",
   "execution_count": 113,
   "metadata": {},
   "outputs": [
    {
     "name": "stderr",
     "output_type": "stream",
     "text": [
      "/var/folders/vw/z2xv57_n70l_szw_fr80j5km0000gn/T/ipykernel_76803/1402644222.py:6: SettingWithCopyWarning: \n",
      "A value is trying to be set on a copy of a slice from a DataFrame.\n",
      "Try using .loc[row_indexer,col_indexer] = value instead\n",
      "\n",
      "See the caveats in the documentation: https://pandas.pydata.org/pandas-docs/stable/user_guide/indexing.html#returning-a-view-versus-a-copy\n",
      "  subset['inverse_mv_prediction_correct'] = subset['average_mv_prediction_correct']\n",
      "/var/folders/vw/z2xv57_n70l_szw_fr80j5km0000gn/T/ipykernel_76803/1402644222.py:6: SettingWithCopyWarning: \n",
      "A value is trying to be set on a copy of a slice from a DataFrame.\n",
      "Try using .loc[row_indexer,col_indexer] = value instead\n",
      "\n",
      "See the caveats in the documentation: https://pandas.pydata.org/pandas-docs/stable/user_guide/indexing.html#returning-a-view-versus-a-copy\n",
      "  subset['inverse_mv_prediction_correct'] = subset['average_mv_prediction_correct']\n",
      "/var/folders/vw/z2xv57_n70l_szw_fr80j5km0000gn/T/ipykernel_76803/1402644222.py:6: SettingWithCopyWarning: \n",
      "A value is trying to be set on a copy of a slice from a DataFrame.\n",
      "Try using .loc[row_indexer,col_indexer] = value instead\n",
      "\n",
      "See the caveats in the documentation: https://pandas.pydata.org/pandas-docs/stable/user_guide/indexing.html#returning-a-view-versus-a-copy\n",
      "  subset['inverse_mv_prediction_correct'] = subset['average_mv_prediction_correct']\n",
      "/var/folders/vw/z2xv57_n70l_szw_fr80j5km0000gn/T/ipykernel_76803/1402644222.py:6: SettingWithCopyWarning: \n",
      "A value is trying to be set on a copy of a slice from a DataFrame.\n",
      "Try using .loc[row_indexer,col_indexer] = value instead\n",
      "\n",
      "See the caveats in the documentation: https://pandas.pydata.org/pandas-docs/stable/user_guide/indexing.html#returning-a-view-versus-a-copy\n",
      "  subset['inverse_mv_prediction_correct'] = subset['average_mv_prediction_correct']\n",
      "/var/folders/vw/z2xv57_n70l_szw_fr80j5km0000gn/T/ipykernel_76803/1402644222.py:6: SettingWithCopyWarning: \n",
      "A value is trying to be set on a copy of a slice from a DataFrame.\n",
      "Try using .loc[row_indexer,col_indexer] = value instead\n",
      "\n",
      "See the caveats in the documentation: https://pandas.pydata.org/pandas-docs/stable/user_guide/indexing.html#returning-a-view-versus-a-copy\n",
      "  subset['inverse_mv_prediction_correct'] = subset['average_mv_prediction_correct']\n",
      "/var/folders/vw/z2xv57_n70l_szw_fr80j5km0000gn/T/ipykernel_76803/1402644222.py:6: SettingWithCopyWarning: \n",
      "A value is trying to be set on a copy of a slice from a DataFrame.\n",
      "Try using .loc[row_indexer,col_indexer] = value instead\n",
      "\n",
      "See the caveats in the documentation: https://pandas.pydata.org/pandas-docs/stable/user_guide/indexing.html#returning-a-view-versus-a-copy\n",
      "  subset['inverse_mv_prediction_correct'] = subset['average_mv_prediction_correct']\n",
      "/var/folders/vw/z2xv57_n70l_szw_fr80j5km0000gn/T/ipykernel_76803/1402644222.py:6: SettingWithCopyWarning: \n",
      "A value is trying to be set on a copy of a slice from a DataFrame.\n",
      "Try using .loc[row_indexer,col_indexer] = value instead\n",
      "\n",
      "See the caveats in the documentation: https://pandas.pydata.org/pandas-docs/stable/user_guide/indexing.html#returning-a-view-versus-a-copy\n",
      "  subset['inverse_mv_prediction_correct'] = subset['average_mv_prediction_correct']\n",
      "/var/folders/vw/z2xv57_n70l_szw_fr80j5km0000gn/T/ipykernel_76803/1402644222.py:6: SettingWithCopyWarning: \n",
      "A value is trying to be set on a copy of a slice from a DataFrame.\n",
      "Try using .loc[row_indexer,col_indexer] = value instead\n",
      "\n",
      "See the caveats in the documentation: https://pandas.pydata.org/pandas-docs/stable/user_guide/indexing.html#returning-a-view-versus-a-copy\n",
      "  subset['inverse_mv_prediction_correct'] = subset['average_mv_prediction_correct']\n",
      "/var/folders/vw/z2xv57_n70l_szw_fr80j5km0000gn/T/ipykernel_76803/1402644222.py:6: SettingWithCopyWarning: \n",
      "A value is trying to be set on a copy of a slice from a DataFrame.\n",
      "Try using .loc[row_indexer,col_indexer] = value instead\n",
      "\n",
      "See the caveats in the documentation: https://pandas.pydata.org/pandas-docs/stable/user_guide/indexing.html#returning-a-view-versus-a-copy\n",
      "  subset['inverse_mv_prediction_correct'] = subset['average_mv_prediction_correct']\n",
      "/var/folders/vw/z2xv57_n70l_szw_fr80j5km0000gn/T/ipykernel_76803/1402644222.py:6: SettingWithCopyWarning: \n",
      "A value is trying to be set on a copy of a slice from a DataFrame.\n",
      "Try using .loc[row_indexer,col_indexer] = value instead\n",
      "\n",
      "See the caveats in the documentation: https://pandas.pydata.org/pandas-docs/stable/user_guide/indexing.html#returning-a-view-versus-a-copy\n",
      "  subset['inverse_mv_prediction_correct'] = subset['average_mv_prediction_correct']\n"
     ]
    },
    {
     "data": {
      "text/plain": [
       "<Figure size 1000x600 with 0 Axes>"
      ]
     },
     "metadata": {},
     "output_type": "display_data"
    },
    {
     "data": {
      "text/plain": [
       "<Figure size 1000x600 with 0 Axes>"
      ]
     },
     "metadata": {},
     "output_type": "display_data"
    },
    {
     "data": {
      "text/plain": [
       "<Figure size 1000x600 with 0 Axes>"
      ]
     },
     "metadata": {},
     "output_type": "display_data"
    },
    {
     "data": {
      "text/plain": [
       "<Figure size 1000x600 with 0 Axes>"
      ]
     },
     "metadata": {},
     "output_type": "display_data"
    },
    {
     "data": {
      "text/plain": [
       "<Figure size 1000x600 with 0 Axes>"
      ]
     },
     "metadata": {},
     "output_type": "display_data"
    },
    {
     "data": {
      "text/plain": [
       "<Figure size 1000x600 with 0 Axes>"
      ]
     },
     "metadata": {},
     "output_type": "display_data"
    },
    {
     "data": {
      "text/plain": [
       "<Figure size 1000x600 with 0 Axes>"
      ]
     },
     "metadata": {},
     "output_type": "display_data"
    },
    {
     "data": {
      "text/plain": [
       "<Figure size 1000x600 with 0 Axes>"
      ]
     },
     "metadata": {},
     "output_type": "display_data"
    },
    {
     "data": {
      "text/plain": [
       "<Figure size 1000x600 with 0 Axes>"
      ]
     },
     "metadata": {},
     "output_type": "display_data"
    },
    {
     "data": {
      "text/plain": [
       "<Figure size 1000x600 with 0 Axes>"
      ]
     },
     "metadata": {},
     "output_type": "display_data"
    },
    {
     "data": {
      "text/plain": [
       "<Figure size 1000x600 with 0 Axes>"
      ]
     },
     "metadata": {},
     "output_type": "display_data"
    },
    {
     "data": {
      "text/plain": [
       "<Figure size 1000x600 with 0 Axes>"
      ]
     },
     "metadata": {},
     "output_type": "display_data"
    },
    {
     "data": {
      "text/plain": [
       "<Figure size 1000x600 with 0 Axes>"
      ]
     },
     "metadata": {},
     "output_type": "display_data"
    }
   ],
   "source": [
    "#for each competition\n",
    "number = 1\n",
    "while number <= 13:\n",
    "    number = number + 1\n",
    "    keynum = list(competition_dfs.keys())[number]\n",
    "    plot_competition_data_below_inverted(competition_dfs[keynum], keynum)"
   ]
  }
 ],
 "metadata": {
  "kernelspec": {
   "display_name": "Python 3",
   "language": "python",
   "name": "python3"
  },
  "language_info": {
   "codemirror_mode": {
    "name": "ipython",
    "version": 3
   },
   "file_extension": ".py",
   "mimetype": "text/x-python",
   "name": "python",
   "nbconvert_exporter": "python",
   "pygments_lexer": "ipython3",
   "version": "3.12.0"
  }
 },
 "nbformat": 4,
 "nbformat_minor": 2
}
