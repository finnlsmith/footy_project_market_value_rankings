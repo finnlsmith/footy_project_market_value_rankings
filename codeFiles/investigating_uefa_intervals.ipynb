{
 "cells": [
  {
   "cell_type": "code",
   "execution_count": 1,
   "metadata": {},
   "outputs": [
    {
     "data": {
      "text/plain": [
       "'/Users/finneganlaister-smith/Downloads/DEV ENVIRONMENT/data-science-jupyter-template-main/footy_project_market_value_rankings'"
      ]
     },
     "execution_count": 1,
     "metadata": {},
     "output_type": "execute_result"
    }
   ],
   "source": [
    "import requests\n",
    "import pandas as pd \n",
    "import numpy as np\n",
    "import re\n",
    "import sys, getopt\n",
    "import csv\n",
    "import os\n",
    "import matplotlib.pyplot as plt\n",
    "import seaborn as sns\n",
    "\n",
    "def load_csv_dataset(file_path):\n",
    "    return pd.read_csv(file_path)\n",
    "\n",
    "os.chdir('/Users/finneganlaister-smith/Downloads/DEV ENVIRONMENT/data-science-jupyter-template-main/footy_project_market_value_rankings')\n",
    "\n",
    "os.getcwd()"
   ]
  },
  {
   "cell_type": "code",
   "execution_count": 3,
   "metadata": {},
   "outputs": [],
   "source": [
    "latest_match_data = load_csv_dataset('create_dataset_1/CSVs we use often/latest_match_data_june_18_SUPERSTAR_INFO_ADDED.csv')\n",
    "latest_match_data.drop(columns=['Unnamed: 0', 'Unnamed: 0.1'], inplace=True)\n",
    "pd.set_option('display.max_columns', None)"
   ]
  },
  {
   "cell_type": "code",
   "execution_count": 4,
   "metadata": {},
   "outputs": [
    {
     "data": {
      "text/plain": [
       "(118881494.0625, 124977980.93749999)"
      ]
     },
     "execution_count": 4,
     "metadata": {},
     "output_type": "execute_result"
    }
   ],
   "source": [
    "121929737.50 * .975, 121929737.50 * 1.025"
   ]
  },
  {
   "cell_type": "markdown",
   "metadata": {},
   "source": [
    "## The calculations for UEFA teams which are less valuable"
   ]
  },
  {
   "cell_type": "markdown",
   "metadata": {},
   "source": [
    "### MV of ≥X - all vs all"
   ]
  },
  {
   "cell_type": "code",
   "execution_count": 16,
   "metadata": {},
   "outputs": [
    {
     "name": "stdout",
     "output_type": "stream",
     "text": [
      "MV difference:  121929737.5\n",
      "Total Matches: 60\n",
      "Weighted Average Winning Percentage: 0.15\n"
     ]
    }
   ],
   "source": [
    "# Define the MV threshold\n",
    "mv_threshold = 121929737.50#148023716.32\n",
    "\n",
    "# Calculate the upper and lower bounds for filtering\n",
    "lower_bound = mv_threshold * 0.975\n",
    "upper_bound = mv_threshold * 1.025\n",
    "\n",
    "# Filter for set 1 where team 1 is more valuable\n",
    "set1 = latest_match_data[(latest_match_data['Market.Value.Difference'] >= lower_bound) & \n",
    "                         (latest_match_data['Market.Value.Difference'] <= upper_bound)]\n",
    "\n",
    "# Filter for set 2 where team 2 is more valuable\n",
    "set2 = latest_match_data[(latest_match_data['Market.Value.Difference'] >= -upper_bound) & \n",
    "                         (latest_match_data['Market.Value.Difference'] <= -lower_bound)]\n",
    "\n",
    "# Count the number of times team 1 score is greater than team 2 score in set 1\n",
    "set1_wins = set1[set1['Team.1.Score'] < set1['Team.2.Score']].shape[0]\n",
    "\n",
    "# Count the number of times team 2 score is greater than team 1 score in set 2\n",
    "set2_wins = set2[set2['Team.2.Score'] < set2['Team.1.Score']].shape[0]\n",
    "\n",
    "# Calculate the total number of matches in each set\n",
    "total_set1 = set1.shape[0]\n",
    "total_set2 = set2.shape[0]\n",
    "\n",
    "# Calculate the winning percentages\n",
    "winning_percentage_set1 = set1_wins / total_set1 if total_set1 > 0 else 0\n",
    "winning_percentage_set2 = set2_wins / total_set2 if total_set2 > 0 else 0\n",
    "\n",
    "# Calculate the weighted average of the winning percentages\n",
    "total_matches = total_set1 + total_set2\n",
    "weighted_average = ((winning_percentage_set1 * total_set1) + (winning_percentage_set2 * total_set2)) / total_matches if total_matches > 0 else 0\n",
    "\n",
    "# Output the results\n",
    "print('MV difference: ', mv_threshold)\n",
    "print(f\"Total Matches: {total_matches}\")\n",
    "print(f\"Weighted Average Winning Percentage: {weighted_average}\")"
   ]
  },
  {
   "cell_type": "markdown",
   "metadata": {},
   "source": [
    "### MV of 148M, one team worth at least 230M"
   ]
  },
  {
   "cell_type": "code",
   "execution_count": 17,
   "metadata": {},
   "outputs": [
    {
     "name": "stdout",
     "output_type": "stream",
     "text": [
      "Total Matches: 2\n",
      "Weighted Average Winning Percentage: 0.0\n"
     ]
    }
   ],
   "source": [
    "# Define the MV threshold\n",
    "mv_threshold = 148023716.32\n",
    "\n",
    "# Calculate the upper and lower bounds for filtering\n",
    "lower_bound = mv_threshold * 0.975\n",
    "upper_bound = mv_threshold * 1.025\n",
    "\n",
    "# Filter for set 1 where team 1 is more valuable and meets the market value condition\n",
    "set1 = latest_match_data[(latest_match_data['Market.Value.Difference'] >= lower_bound) & \n",
    "                         (latest_match_data['Market.Value.Difference'] <= upper_bound) &\n",
    "                         (latest_match_data['Team.1.Total.Market.Value'] >= 230000000)]\n",
    "\n",
    "# Filter for set 2 where team 2 is more valuable and team 1 meets the market value condition\n",
    "set2 = latest_match_data[(latest_match_data['Market.Value.Difference'] >= -upper_bound) & \n",
    "                         (latest_match_data['Market.Value.Difference'] <= -lower_bound) &\n",
    "                         (latest_match_data['Team.1.Total.Market.Value'] >= 230000000)]\n",
    "\n",
    "# Count the number of times team 1 score is greater than team 2 score in set 1\n",
    "set1_wins = set1[set1['Team.1.Score'] > set1['Team.2.Score']].shape[0]\n",
    "\n",
    "# Count the number of times team 2 score is greater than team 1 score in set 2\n",
    "set2_wins = set2[set2['Team.2.Score'] > set2['Team.1.Score']].shape[0]\n",
    "\n",
    "# Calculate the total number of matches in each set\n",
    "total_set1 = set1.shape[0]\n",
    "total_set2 = set2.shape[0]\n",
    "\n",
    "# Calculate the winning percentages\n",
    "winning_percentage_set1 = set1_wins / total_set1 if total_set1 > 0 else 0\n",
    "winning_percentage_set2 = set2_wins / total_set2 if total_set2 > 0 else 0\n",
    "\n",
    "# Calculate the weighted average of the winning percentages\n",
    "total_matches = total_set1 + total_set2\n",
    "weighted_average = ((winning_percentage_set1 * total_set1) + (winning_percentage_set2 * total_set2)) / total_matches if total_matches > 0 else 0\n",
    "\n",
    "# Output the results\n",
    "print(f\"Total Matches: {total_matches}\")\n",
    "print(f\"Weighted Average Winning Percentage: {weighted_average}\")"
   ]
  },
  {
   "cell_type": "markdown",
   "metadata": {},
   "source": [
    "### MV delta of ≥121M, and both teams worth at least 100M"
   ]
  },
  {
   "cell_type": "code",
   "execution_count": 22,
   "metadata": {},
   "outputs": [
    {
     "name": "stdout",
     "output_type": "stream",
     "text": [
      "Total Matches: 2\n",
      "Weighted Average Winning Percentage: 0.0\n"
     ]
    }
   ],
   "source": [
    "# Define the MV threshold\n",
    "mv_threshold = 121929737.50\n",
    "\n",
    "# Calculate the upper and lower bounds for filtering\n",
    "lower_bound = mv_threshold * 0.975\n",
    "upper_bound = mv_threshold * 1.025\n",
    "\n",
    "# Filter for set 1 where team 1 is more valuable, both teams meet the market value condition\n",
    "set1 = latest_match_data[(latest_match_data['Market.Value.Difference'] >= lower_bound) & \n",
    "                         (latest_match_data['Market.Value.Difference'] <= upper_bound) &\n",
    "                         (latest_match_data['Team.1.Total.Market.Value'] >= 230000000) &\n",
    "                         (latest_match_data['Team.2.Total.Market.Value'] >= 100000000)]\n",
    "\n",
    "# Filter for set 2 where team 2 is more valuable, both teams meet the market value condition\n",
    "set2 = latest_match_data[(latest_match_data['Market.Value.Difference'] >= -upper_bound) & \n",
    "                         (latest_match_data['Market.Value.Difference'] <= -lower_bound) &\n",
    "                         (latest_match_data['Team.1.Total.Market.Value'] >= 230000000) &\n",
    "                         (latest_match_data['Team.2.Total.Market.Value'] >= 100000000)]\n",
    "\n",
    "# Count the number of times team 1 score is greater than team 2 score in set 1\n",
    "set1_wins = set1[set1['Team.1.Score'] > set1['Team.2.Score']].shape[0]\n",
    "\n",
    "# Count the number of times team 2 score is greater than team 1 score in set 2\n",
    "set2_wins = set2[set2['Team.2.Score'] > set2['Team.1.Score']].shape[0]\n",
    "\n",
    "# Calculate the total number of matches in each set\n",
    "total_set1 = set1.shape[0]\n",
    "total_set2 = set2.shape[0]\n",
    "\n",
    "# Calculate the winning percentages\n",
    "winning_percentage_set1 = set1_wins / total_set1 if total_set1 > 0 else 0\n",
    "winning_percentage_set2 = set2_wins / total_set2 if total_set2 > 0 else 0\n",
    "\n",
    "# Calculate the weighted average of the winning percentages\n",
    "total_matches = total_set1 + total_set2\n",
    "weighted_average = ((winning_percentage_set1 * total_set1) + (winning_percentage_set2 * total_set2)) / total_matches if total_matches > 0 else 0\n",
    "\n",
    "# Output the results\n",
    "print(f\"Total Matches: {total_matches}\")\n",
    "print(f\"Weighted Average Winning Percentage: {weighted_average}\")"
   ]
  }
 ],
 "metadata": {
  "kernelspec": {
   "display_name": "Python 3",
   "language": "python",
   "name": "python3"
  },
  "language_info": {
   "codemirror_mode": {
    "name": "ipython",
    "version": 3
   },
   "file_extension": ".py",
   "mimetype": "text/x-python",
   "name": "python",
   "nbconvert_exporter": "python",
   "pygments_lexer": "ipython3",
   "version": "3.12.0"
  }
 },
 "nbformat": 4,
 "nbformat_minor": 2
}
